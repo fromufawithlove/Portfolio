{
 "cells": [
  {
   "cell_type": "markdown",
   "metadata": {
    "toc": true
   },
   "source": [
    "<h1>Содержание<span class=\"tocSkip\"></span></h1>\n",
    "<div class=\"toc\"><ul class=\"toc-item\"><li><span><a href=\"#Подготовка\" data-toc-modified-id=\"Подготовка-1\"><span class=\"toc-item-num\">1&nbsp;&nbsp;</span>Подготовка</a></span><ul class=\"toc-item\"><li><span><a href=\"#Загрузка-и-изучение-данных\" data-toc-modified-id=\"Загрузка-и-изучение-данных-1.1\"><span class=\"toc-item-num\">1.1&nbsp;&nbsp;</span>Загрузка и изучение данных</a></span></li><li><span><a href=\"#Лемматизация\" data-toc-modified-id=\"Лемматизация-1.2\"><span class=\"toc-item-num\">1.2&nbsp;&nbsp;</span>Лемматизация</a></span></li><li><span><a href=\"#Деление-на-выборки\" data-toc-modified-id=\"Деление-на-выборки-1.3\"><span class=\"toc-item-num\">1.3&nbsp;&nbsp;</span>Деление на выборки</a></span></li><li><span><a href=\"#Вывод\" data-toc-modified-id=\"Вывод-1.4\"><span class=\"toc-item-num\">1.4&nbsp;&nbsp;</span>Вывод</a></span></li></ul></li><li><span><a href=\"#Обучение\" data-toc-modified-id=\"Обучение-2\"><span class=\"toc-item-num\">2&nbsp;&nbsp;</span>Обучение</a></span><ul class=\"toc-item\"><li><span><a href=\"#LogisticRegression\" data-toc-modified-id=\"LogisticRegression-2.1\"><span class=\"toc-item-num\">2.1&nbsp;&nbsp;</span>LogisticRegression</a></span></li><li><span><a href=\"#Случайный-лес\" data-toc-modified-id=\"Случайный-лес-2.2\"><span class=\"toc-item-num\">2.2&nbsp;&nbsp;</span>Случайный лес</a></span></li><li><span><a href=\"#CatBoostClassifier\" data-toc-modified-id=\"CatBoostClassifier-2.3\"><span class=\"toc-item-num\">2.3&nbsp;&nbsp;</span>CatBoostClassifier</a></span></li><li><span><a href=\"#Проверка-модели\" data-toc-modified-id=\"Проверка-модели-2.4\"><span class=\"toc-item-num\">2.4&nbsp;&nbsp;</span>Проверка модели</a></span></li><li><span><a href=\"#Вывод\" data-toc-modified-id=\"Вывод-2.5\"><span class=\"toc-item-num\">2.5&nbsp;&nbsp;</span>Вывод</a></span></li></ul></li><li><span><a href=\"#Выводы\" data-toc-modified-id=\"Выводы-3\"><span class=\"toc-item-num\">3&nbsp;&nbsp;</span>Выводы</a></span></li><li><span><a href=\"#Чек-лист-проверки\" data-toc-modified-id=\"Чек-лист-проверки-4\"><span class=\"toc-item-num\">4&nbsp;&nbsp;</span>Чек-лист проверки</a></span></li></ul></div>"
   ]
  },
  {
   "cell_type": "markdown",
   "metadata": {},
   "source": [
    "# Проект для «Викишоп»"
   ]
  },
  {
   "cell_type": "markdown",
   "metadata": {},
   "source": [
    "Интернет-магазин «Викишоп» запускает новый сервис. Теперь пользователи могут редактировать и дополнять описания товаров, как в вики-сообществах. То есть клиенты предлагают свои правки и комментируют изменения других. Магазину нужен инструмент, который будет искать токсичные комментарии и отправлять их на модерацию. \n",
    "\n",
    "Обучите модель классифицировать комментарии на позитивные и негативные. В вашем распоряжении набор данных с разметкой о токсичности правок.\n",
    "\n",
    "Постройте модель со значением метрики качества *F1* не меньше 0.75. \n",
    "\n",
    "**Инструкция по выполнению проекта**\n",
    "\n",
    "1. Загрузите и подготовьте данные.\n",
    "2. Обучите разные модели. \n",
    "3. Сделайте выводы.\n",
    "\n",
    "Для выполнения проекта применять *BERT* необязательно, но вы можете попробовать.\n",
    "\n",
    "**Описание данных**\n",
    "\n",
    "Данные находятся в файле `toxic_comments.csv`. Столбец *text* в нём содержит текст комментария, а *toxic* — целевой признак."
   ]
  },
  {
   "cell_type": "markdown",
   "metadata": {},
   "source": [
    "## Подготовка"
   ]
  },
  {
   "cell_type": "code",
   "execution_count": 1,
   "metadata": {},
   "outputs": [
    {
     "name": "stderr",
     "output_type": "stream",
     "text": [
      "[nltk_data] Downloading package averaged_perceptron_tagger to\n",
      "[nltk_data]     /home/jovyan/nltk_data...\n",
      "[nltk_data]   Package averaged_perceptron_tagger is already up-to-\n",
      "[nltk_data]       date!\n",
      "[nltk_data] Downloading package wordnet to /home/jovyan/nltk_data...\n",
      "[nltk_data]   Package wordnet is already up-to-date!\n",
      "[nltk_data] Downloading package stopwords to /home/jovyan/nltk_data...\n",
      "[nltk_data]   Package stopwords is already up-to-date!\n"
     ]
    }
   ],
   "source": [
    "import matplotlib.pyplot as plt\n",
    "import nltk\n",
    "import numpy as np\n",
    "import pandas as pd\n",
    "import re\n",
    "\n",
    "from nltk.corpus import stopwords as nltk_stopwords\n",
    "from nltk.corpus import wordnet\n",
    "from nltk.stem import WordNetLemmatizer \n",
    "\n",
    "from sklearn.feature_extraction.text import TfidfVectorizer\n",
    "from sklearn.model_selection import train_test_split, GridSearchCV\n",
    "\n",
    "from sklearn.linear_model import LogisticRegression\n",
    "from sklearn.ensemble import RandomForestClassifier\n",
    "from catboost import CatBoostClassifier\n",
    "\n",
    "from sklearn.pipeline import Pipeline\n",
    "from sklearn.metrics import f1_score\n",
    "\n",
    "nltk.download('averaged_perceptron_tagger')\n",
    "nltk.download('wordnet')\n",
    "nltk.download('stopwords')\n",
    "\n",
    "stopwords = set(nltk_stopwords.words('english'))"
   ]
  },
  {
   "cell_type": "markdown",
   "metadata": {},
   "source": [
    "### Загрузка и изучение данных"
   ]
  },
  {
   "cell_type": "code",
   "execution_count": 2,
   "metadata": {},
   "outputs": [],
   "source": [
    "# скачаем данные\n",
    "\n",
    "df = pd.read_csv('/datasets/toxic_comments.csv', index_col=0)"
   ]
  },
  {
   "cell_type": "code",
   "execution_count": 3,
   "metadata": {},
   "outputs": [],
   "source": [
    "# рассмотрим все данные, используем для этого функцию\n",
    "\n",
    "def total_info(data):\n",
    "    \n",
    "    print('Общая информация')\n",
    "    print()\n",
    "    print(data.info())\n",
    "    print()\n",
    "    print('Случайные 5 строк датасета')\n",
    "    print(data.sample(5))\n",
    "    print()\n",
    "    print('Число пропусков', data.isna().sum())\n",
    "    print()\n",
    "    print('Число дубликатов', data.duplicated().sum())"
   ]
  },
  {
   "cell_type": "code",
   "execution_count": 4,
   "metadata": {},
   "outputs": [
    {
     "name": "stdout",
     "output_type": "stream",
     "text": [
      "Общая информация\n",
      "\n",
      "<class 'pandas.core.frame.DataFrame'>\n",
      "Int64Index: 159292 entries, 0 to 159450\n",
      "Data columns (total 2 columns):\n",
      " #   Column  Non-Null Count   Dtype \n",
      "---  ------  --------------   ----- \n",
      " 0   text    159292 non-null  object\n",
      " 1   toxic   159292 non-null  int64 \n",
      "dtypes: int64(1), object(1)\n",
      "memory usage: 3.6+ MB\n",
      "None\n",
      "\n",
      "Случайные 5 строк датасета\n",
      "                                                     text  toxic\n",
      "70436                               Yeah, I have sources.      0\n",
      "91358   I take it you'll be ok with me talking the sam...      0\n",
      "97986   The Price Is Right \\n\\nHmmm ... I'm used to se...      0\n",
      "149750    You have neither, so stop pushing that change.-      0\n",
      "6114    Take your time, I'll be busy for the next few ...      0\n",
      "\n",
      "Число пропусков text     0\n",
      "toxic    0\n",
      "dtype: int64\n",
      "\n",
      "Число дубликатов 0\n"
     ]
    }
   ],
   "source": [
    "total_info(df)"
   ]
  },
  {
   "cell_type": "markdown",
   "metadata": {},
   "source": [
    "Пропусков и дубликатов в данных нет, но у нас есть столбец 'Unnamed: 0', который не несет в себе никакой дополнительной информации для дальнейших исследований. Удалим его."
   ]
  },
  {
   "cell_type": "markdown",
   "metadata": {},
   "source": [
    "Рассмотрим баланс классов."
   ]
  },
  {
   "cell_type": "code",
   "execution_count": 5,
   "metadata": {},
   "outputs": [
    {
     "name": "stdout",
     "output_type": "stream",
     "text": [
      "0    0.898388\n",
      "1    0.101612\n",
      "Name: toxic, dtype: float64\n"
     ]
    }
   ],
   "source": [
    "class_frequency  =  df['toxic'].value_counts(normalize = True)\n",
    "print(class_frequency)"
   ]
  },
  {
   "cell_type": "markdown",
   "metadata": {},
   "source": [
    "Видим, что нетоксичных комментариев значительно больше. Это нужно будет учитывать при обучении моделей."
   ]
  },
  {
   "cell_type": "code",
   "execution_count": 6,
   "metadata": {},
   "outputs": [
    {
     "data": {
      "image/png": "[encoded data removed]",
      "text/plain": [
       "<Figure size 1080x720 with 1 Axes>"
      ]
     },
     "metadata": {
      "needs_background": "light"
     },
     "output_type": "display_data"
    }
   ],
   "source": [
    "class_frequency.plot(kind = 'bar', figsize=(15, 10))\n",
    "\n",
    "plt.xlabel('Класс')\n",
    "plt.ylabel('Доля')\n",
    "plt.title(' Доля классов целевого признака')\n",
    "\n",
    "plt.show()"
   ]
  },
  {
   "cell_type": "markdown",
   "metadata": {},
   "source": [
    "### Лемматизация"
   ]
  },
  {
   "cell_type": "code",
   "execution_count": 7,
   "metadata": {},
   "outputs": [],
   "source": [
    "def get_wordnet_pos(word):\n",
    "    \"\"\"Map POS tag to first character lemmatize() accepts\"\"\"\n",
    "    tag = nltk.pos_tag([word])[0][1][0].upper()\n",
    "    tag_dict = {\"J\": wordnet.ADJ,\n",
    "                \"N\": wordnet.NOUN,\n",
    "                \"V\": wordnet.VERB,\n",
    "                \"R\": wordnet.ADV}\n",
    "    return tag_dict.get(tag, wordnet.NOUN)\n",
    "\n",
    "lemmatizer = WordNetLemmatizer()"
   ]
  },
  {
   "cell_type": "code",
   "execution_count": 8,
   "metadata": {},
   "outputs": [],
   "source": [
    "# создадим функцию для очистки и лемматизации текстов\n",
    "\n",
    "def lemmatize_clear_text(text):\n",
    "    text = text.lower()\n",
    "    re_text = re.sub(r\"[^a-zA-Z']\", ' ', text)\n",
    "    clear_text = \" \".join(re_text.split())\n",
    "    \n",
    "    lemm_list = [lemmatizer.lemmatize(w, get_wordnet_pos(w)) for w in nltk.word_tokenize(clear_text)]\n",
    "    lemm_text = \" \".join(lemm_list)\n",
    "        \n",
    "    return lemm_text"
   ]
  },
  {
   "cell_type": "code",
   "execution_count": 9,
   "metadata": {},
   "outputs": [
    {
     "data": {
      "text/html": [
       "<div>\n",
       "<style scoped>\n",
       "    .dataframe tbody tr th:only-of-type {\n",
       "        vertical-align: middle;\n",
       "    }\n",
       "\n",
       "    .dataframe tbody tr th {\n",
       "        vertical-align: top;\n",
       "    }\n",
       "\n",
       "    .dataframe thead th {\n",
       "        text-align: right;\n",
       "    }\n",
       "</style>\n",
       "<table border=\"1\" class=\"dataframe\">\n",
       "  <thead>\n",
       "    <tr style=\"text-align: right;\">\n",
       "      <th></th>\n",
       "      <th>text</th>\n",
       "      <th>toxic</th>\n",
       "      <th>lemm_text</th>\n",
       "    </tr>\n",
       "  </thead>\n",
       "  <tbody>\n",
       "    <tr>\n",
       "      <th>102680</th>\n",
       "      <td>\"\\n\\n Juniors \\n\\nThanks for the kind words. Y...</td>\n",
       "      <td>0</td>\n",
       "      <td>junior thanks for the kind word your own work ...</td>\n",
       "    </tr>\n",
       "    <tr>\n",
       "      <th>103257</th>\n",
       "      <td>Thank you i will do so!!!!!!!!!!!!!!!!!!!!!!!!...</td>\n",
       "      <td>0</td>\n",
       "      <td>thank you i will do so good bye</td>\n",
       "    </tr>\n",
       "    <tr>\n",
       "      <th>71928</th>\n",
       "      <td>REDIRECT Talk:Northeast Delta Dental Stadium</td>\n",
       "      <td>0</td>\n",
       "      <td>redirect talk northeast delta dental stadium</td>\n",
       "    </tr>\n",
       "    <tr>\n",
       "      <th>73584</th>\n",
       "      <td>February 2013 (UTC)\\n\\nplease see the new edit...</td>\n",
       "      <td>0</td>\n",
       "      <td>february utc please see the new edits i make i...</td>\n",
       "    </tr>\n",
       "    <tr>\n",
       "      <th>141425</th>\n",
       "      <td>I'm OK with having the statement, but agree it...</td>\n",
       "      <td>0</td>\n",
       "      <td>i 'm ok with have the statement but agree it c...</td>\n",
       "    </tr>\n",
       "  </tbody>\n",
       "</table>\n",
       "</div>"
      ],
      "text/plain": [
       "                                                     text  toxic  \\\n",
       "102680  \"\\n\\n Juniors \\n\\nThanks for the kind words. Y...      0   \n",
       "103257  Thank you i will do so!!!!!!!!!!!!!!!!!!!!!!!!...      0   \n",
       "71928        REDIRECT Talk:Northeast Delta Dental Stadium      0   \n",
       "73584   February 2013 (UTC)\\n\\nplease see the new edit...      0   \n",
       "141425  I'm OK with having the statement, but agree it...      0   \n",
       "\n",
       "                                                lemm_text  \n",
       "102680  junior thanks for the kind word your own work ...  \n",
       "103257                    thank you i will do so good bye  \n",
       "71928        redirect talk northeast delta dental stadium  \n",
       "73584   february utc please see the new edits i make i...  \n",
       "141425  i 'm ok with have the statement but agree it c...  "
      ]
     },
     "execution_count": 9,
     "metadata": {},
     "output_type": "execute_result"
    }
   ],
   "source": [
    "# добавим в наши данные столбец с лемматизированным текстом\n",
    "\n",
    "df['lemm_text'] = df['text'].apply(lemmatize_clear_text)\n",
    "\n",
    "df.sample(5)"
   ]
  },
  {
   "cell_type": "markdown",
   "metadata": {},
   "source": [
    "### Деление на выборки"
   ]
  },
  {
   "cell_type": "code",
   "execution_count": 10,
   "metadata": {},
   "outputs": [],
   "source": [
    "# выделим целевой признак и фичи\n",
    "\n",
    "target = df['toxic']\n",
    "features = df['lemm_text']"
   ]
  },
  {
   "cell_type": "code",
   "execution_count": 11,
   "metadata": {},
   "outputs": [
    {
     "data": {
      "text/plain": [
       "0    explanation why the edits make under my userna...\n",
       "1    d'aww he match this background colour i 'm see...\n",
       "2    hey man i 'm really not try to edit war it 's ...\n",
       "3    more i ca n't make any real suggestion on impr...\n",
       "4    you sir be my hero any chance you remember wha...\n",
       "Name: lemm_text, dtype: object"
      ]
     },
     "execution_count": 11,
     "metadata": {},
     "output_type": "execute_result"
    }
   ],
   "source": [
    "features.head()"
   ]
  },
  {
   "cell_type": "code",
   "execution_count": 12,
   "metadata": {},
   "outputs": [
    {
     "data": {
      "text/plain": [
       "0    0\n",
       "1    0\n",
       "2    0\n",
       "3    0\n",
       "4    0\n",
       "Name: toxic, dtype: int64"
      ]
     },
     "execution_count": 12,
     "metadata": {},
     "output_type": "execute_result"
    }
   ],
   "source": [
    "target.head()"
   ]
  },
  {
   "cell_type": "code",
   "execution_count": 13,
   "metadata": {},
   "outputs": [],
   "source": [
    "# разбиваем на обучающую, валидационную и тестовую выборки в соотношении 80/20\n",
    "# фиксируем random_state\n",
    "RS = 12345\n",
    "\n",
    "\n",
    "\n",
    "features_train, features_test, target_train, target_test = train_test_split(features, \n",
    "                                                                              target, \n",
    "                                                                              test_size=.2, \n",
    "                                                                              random_state=RS,\n",
    "                                                                              stratify=target)"
   ]
  },
  {
   "cell_type": "code",
   "execution_count": 14,
   "metadata": {},
   "outputs": [
    {
     "name": "stdout",
     "output_type": "stream",
     "text": [
      "Количество строк в y_train по классам: [114484  12949]\n",
      "Количество строк в y_test по классам: [28622  3237]\n"
     ]
    }
   ],
   "source": [
    "print(f\"Количество строк в y_train по классам: {np.bincount(target_train)}\")\n",
    "print(f\"Количество строк в y_test по классам: {np.bincount(target_test)}\")"
   ]
  },
  {
   "cell_type": "code",
   "execution_count": 15,
   "metadata": {},
   "outputs": [
    {
     "name": "stdout",
     "output_type": "stream",
     "text": [
      "127433\n",
      "0.8\n",
      "\n",
      "127433\n",
      "0.8\n",
      "\n",
      "31859\n",
      "0.2\n",
      "\n",
      "31859\n",
      "0.2\n",
      "\n"
     ]
    }
   ],
   "source": [
    "# проверяем размеры выборок\n",
    "\n",
    "samples = [features_train, target_train, features_test, target_test]\n",
    "\n",
    "for i in samples:\n",
    "    print(i.shape[0])\n",
    "    print(round(i.shape[0]/df.shape[0],2))\n",
    "    print()"
   ]
  },
  {
   "cell_type": "code",
   "execution_count": 19,
   "metadata": {},
   "outputs": [
    {
     "name": "stderr",
     "output_type": "stream",
     "text": [
      "[nltk_data] Downloading package stopwords to /home/jovyan/nltk_data...\n",
      "[nltk_data]   Package stopwords is already up-to-date!\n"
     ]
    },
    {
     "name": "stdout",
     "output_type": "stream",
     "text": [
      "(127433, 133290)\n",
      "(31859, 133290)\n"
     ]
    }
   ],
   "source": [
    "#посчитаем TF-IDF для корпуса текстов\n",
    "\n",
    "\n",
    "\n",
    "#count_tf_idf = TfidfVectorizer(stop_words=stopwords)\n",
    "\n",
    "#features_train = count_tf_idf.fit_transform(features_train)\n",
    "#features_test = count_tf_idf.transform(features_test)\n",
    "\n",
    "#print(features_train.shape)\n",
    "#print(features_test.shape)"
   ]
  },
  {
   "cell_type": "markdown",
   "metadata": {},
   "source": [
    "### Вывод"
   ]
  },
  {
   "cell_type": "markdown",
   "metadata": {},
   "source": [
    "- Нам была дана таблица с комментариями на 159292 строк, три столбца - с оценкой негатива 0/1 и столбцом 'Unnamed: 0', дублирующим индексы\n",
    "- Данные не содержали na и дубликатов\n",
    "- Классы ответов несбалансированы, число нейтральных ответов - составляет порядка 90%\n",
    "\n",
    "Данные обработали и подготовили к обучению моделей:\n",
    "- Удалили ненужный столбец\n",
    "- Провели очистку текста и лемматизацию\n",
    "- Разделили данные на тренировочную и тестовую выборки\n",
    "- Посчитали TF-IDF для корпуса текстов"
   ]
  },
  {
   "cell_type": "markdown",
   "metadata": {},
   "source": [
    "## Обучение"
   ]
  },
  {
   "cell_type": "markdown",
   "metadata": {},
   "source": [
    "### LogisticRegression"
   ]
  },
  {
   "cell_type": "code",
   "execution_count": 18,
   "metadata": {
    "collapsed": true,
    "jupyter": {
     "outputs_hidden": true
    }
   },
   "outputs": [
    {
     "name": "stderr",
     "output_type": "stream",
     "text": [
      "/opt/conda/lib/python3.9/site-packages/sklearn/linear_model/_logistic.py:763: ConvergenceWarning: lbfgs failed to converge (status=1):\n",
      "STOP: TOTAL NO. of ITERATIONS REACHED LIMIT.\n",
      "\n",
      "Increase the number of iterations (max_iter) or scale the data as shown in:\n",
      "    https://scikit-learn.org/stable/modules/preprocessing.html\n",
      "Please also refer to the documentation for alternative solver options:\n",
      "    https://scikit-learn.org/stable/modules/linear_model.html#logistic-regression\n",
      "  n_iter_i = _check_optimize_result(\n",
      "/opt/conda/lib/python3.9/site-packages/sklearn/linear_model/_logistic.py:763: ConvergenceWarning: lbfgs failed to converge (status=1):\n",
      "STOP: TOTAL NO. of ITERATIONS REACHED LIMIT.\n",
      "\n",
      "Increase the number of iterations (max_iter) or scale the data as shown in:\n",
      "    https://scikit-learn.org/stable/modules/preprocessing.html\n",
      "Please also refer to the documentation for alternative solver options:\n",
      "    https://scikit-learn.org/stable/modules/linear_model.html#logistic-regression\n",
      "  n_iter_i = _check_optimize_result(\n",
      "/opt/conda/lib/python3.9/site-packages/sklearn/linear_model/_logistic.py:763: ConvergenceWarning: lbfgs failed to converge (status=1):\n",
      "STOP: TOTAL NO. of ITERATIONS REACHED LIMIT.\n",
      "\n",
      "Increase the number of iterations (max_iter) or scale the data as shown in:\n",
      "    https://scikit-learn.org/stable/modules/preprocessing.html\n",
      "Please also refer to the documentation for alternative solver options:\n",
      "    https://scikit-learn.org/stable/modules/linear_model.html#logistic-regression\n",
      "  n_iter_i = _check_optimize_result(\n",
      "/opt/conda/lib/python3.9/site-packages/sklearn/linear_model/_logistic.py:763: ConvergenceWarning: lbfgs failed to converge (status=1):\n",
      "STOP: TOTAL NO. of ITERATIONS REACHED LIMIT.\n",
      "\n",
      "Increase the number of iterations (max_iter) or scale the data as shown in:\n",
      "    https://scikit-learn.org/stable/modules/preprocessing.html\n",
      "Please also refer to the documentation for alternative solver options:\n",
      "    https://scikit-learn.org/stable/modules/linear_model.html#logistic-regression\n",
      "  n_iter_i = _check_optimize_result(\n"
     ]
    },
    {
     "name": "stdout",
     "output_type": "stream",
     "text": [
      "F1: 0.76\n"
     ]
    },
    {
     "name": "stderr",
     "output_type": "stream",
     "text": [
      "/opt/conda/lib/python3.9/site-packages/sklearn/linear_model/_logistic.py:763: ConvergenceWarning: lbfgs failed to converge (status=1):\n",
      "STOP: TOTAL NO. of ITERATIONS REACHED LIMIT.\n",
      "\n",
      "Increase the number of iterations (max_iter) or scale the data as shown in:\n",
      "    https://scikit-learn.org/stable/modules/preprocessing.html\n",
      "Please also refer to the documentation for alternative solver options:\n",
      "    https://scikit-learn.org/stable/modules/linear_model.html#logistic-regression\n",
      "  n_iter_i = _check_optimize_result(\n"
     ]
    }
   ],
   "source": [
    "LR_pipeline = Pipeline([(\"vect\", TfidfVectorizer(stop_words='english')), \n",
    "                     (\"lr\", LogisticRegression())])\n",
    "\n",
    "\n",
    "LR_params = {'lr__C':(0.1, 5, 10),\n",
    "             'lr__random_state': ([RS]),\n",
    "             'lr__max_iter': ([200]),\n",
    "             'lr__class_weight':['balanced']}\n",
    "\n",
    "LR_clf = GridSearchCV(LR_pipeline, LR_params, scoring='f1',cv=3)\n",
    "LR_clf.fit(features_train, target_train)\n",
    "\n",
    "print('F1:', round(LR_clf.best_score_, 2))"
   ]
  },
  {
   "cell_type": "markdown",
   "metadata": {},
   "source": [
    "### Случайный лес"
   ]
  },
  {
   "cell_type": "code",
   "execution_count": 19,
   "metadata": {},
   "outputs": [
    {
     "data": {
      "text/plain": [
       "GridSearchCV(cv=3,\n",
       "             estimator=Pipeline(steps=[('vect',\n",
       "                                        TfidfVectorizer(stop_words='english')),\n",
       "                                       ('rf', RandomForestClassifier())]),\n",
       "             param_grid={'rf__class_weight': ['balanced'],\n",
       "                         'rf__max_depth': [1, 6, 11, 16, 21],\n",
       "                         'rf__n_estimators': [10, 15, 20, 25, 30, 35],\n",
       "                         'rf__random_state': [12345]},\n",
       "             scoring='f1')"
      ]
     },
     "execution_count": 19,
     "metadata": {},
     "output_type": "execute_result"
    }
   ],
   "source": [
    "RF_pipeline = Pipeline([(\"vect\", TfidfVectorizer(stop_words='english')), \n",
    "                     (\"rf\", RandomForestClassifier())])\n",
    "\n",
    "RF_model = RandomForestClassifier()\n",
    "    \n",
    "RF_params = {'rf__n_estimators': [x for x in range(10, 40, 5)],\n",
    "             'rf__max_depth': [x for x in range(1, 25, 5)],\n",
    "             'rf__random_state': [RS], \n",
    "             'rf__class_weight': ['balanced']}\n",
    "\n",
    "RF_clf = GridSearchCV(RF_pipeline, RF_params, scoring='f1', cv=3)\n",
    "\n",
    "RF_clf.fit(features_train, target_train)\n"
   ]
  },
  {
   "cell_type": "code",
   "execution_count": 20,
   "metadata": {},
   "outputs": [
    {
     "name": "stdout",
     "output_type": "stream",
     "text": [
      "Лучшие параметры модели:\n",
      "\n",
      "{'rf__class_weight': 'balanced', 'rf__max_depth': 21, 'rf__n_estimators': 25, 'rf__random_state': 12345}\n",
      "\n",
      "F1: 0.4\n"
     ]
    }
   ],
   "source": [
    "print(\"Лучшие параметры модели:\")\n",
    "print()\n",
    "print(RF_clf.best_params_)\n",
    "\n",
    "print()\n",
    "print('F1:', round(RF_clf.best_score_, 2))"
   ]
  },
  {
   "cell_type": "markdown",
   "metadata": {},
   "source": [
    "### CatBoostClassifier"
   ]
  },
  {
   "cell_type": "code",
   "execution_count": 22,
   "metadata": {},
   "outputs": [
    {
     "name": "stdout",
     "output_type": "stream",
     "text": [
      "F1: 0.74\n"
     ]
    }
   ],
   "source": [
    "CB_pipeline = Pipeline([(\"vect\", TfidfVectorizer(stop_words='english')), \n",
    "                     (\"cb\", CatBoostClassifier())])\n",
    "    \n",
    "CB_params = {'cb__verbose': [False],\n",
    "             'cb__iterations': [300] } \n",
    "\n",
    "CB_clf  = GridSearchCV(CB_pipeline, CB_params, scoring='f1', cv=3)\n",
    "\n",
    "CB_clf .fit(features_train, target_train)\n",
    "\n",
    "print('F1:', round(CB_clf.best_score_, 2))"
   ]
  },
  {
   "cell_type": "markdown",
   "metadata": {},
   "source": [
    "### Проверка модели"
   ]
  },
  {
   "cell_type": "markdown",
   "metadata": {},
   "source": [
    "Лучший показатель F1, и единственный, который соответствует параметрам задачи, показала модель LogisticRegression. Ее и будем тестировать."
   ]
  },
  {
   "cell_type": "code",
   "execution_count": 23,
   "metadata": {},
   "outputs": [
    {
     "name": "stdout",
     "output_type": "stream",
     "text": [
      "Финальный F1 для модели LogisticRegression 0.76\n"
     ]
    }
   ],
   "source": [
    "predictions_test = LR_clf.predict(features_test)\n",
    "test_f1 = f1_score(target_test, predictions_test)\n",
    "\n",
    "print('Финальный F1 для модели LogisticRegression', round(test_f1,2))"
   ]
  },
  {
   "cell_type": "markdown",
   "metadata": {},
   "source": [
    "### Вывод"
   ]
  },
  {
   "cell_type": "markdown",
   "metadata": {},
   "source": [
    "- Обучили на тренировочных данных три модели Логистическая Регрессия, Случайный лес и  CatBoostClassifier\n",
    "- Худшие показатели у Случайного леса, лучший показатель у Логистической регрессии\n",
    "- Модель Логистической регрессии показала приемлемый результат F1 = 0.76"
   ]
  },
  {
   "cell_type": "markdown",
   "metadata": {},
   "source": [
    "## Выводы"
   ]
  },
  {
   "cell_type": "markdown",
   "metadata": {},
   "source": [
    "- Нам была дана таблица с комментариями на 159292 строк, три столбца - с оценкой негатива 0/1 и столбцом 'Unnamed: 0', дублирующим индексы\n",
    "- Данные не содержали na и дубликатов\n",
    "- Классы ответов несбалансированы, число нейтральных ответов - составляет порядка 90%\n",
    "\n",
    "\n",
    "Данные обработали и подготовили к обучению моделей:\n",
    "\n",
    "- Удалили ненужный столбец\n",
    "- Провели очистку текста и лемматизацию\n",
    "- Разделили данные на тренировочную и тестовую выборки\n",
    "- Посчитали TF-IDF для корпуса текстов\n",
    "\n",
    "- Обучили на тренировочных данных три модели Логистическая Регрессия, Случайный лес и CatBoostClassifier\n",
    "- Худшие показатели у Случайного леса, лучший показатель у Логистической регрессии\n",
    "- Модель Логистической регрессии показала приемлемый результат F1 = 0.75"
   ]
  }
 ],
 "metadata": {
  "ExecuteTimeLog": [
   {
    "duration": 1388,
    "start_time": "2023-09-12T05:31:35.870Z"
   },
   {
    "duration": 2634,
    "start_time": "2023-09-12T05:32:03.818Z"
   },
   {
    "duration": 4,
    "start_time": "2023-09-12T07:01:16.715Z"
   },
   {
    "duration": 293,
    "start_time": "2023-09-12T07:01:27.702Z"
   },
   {
    "duration": 4,
    "start_time": "2023-09-12T07:02:21.814Z"
   },
   {
    "duration": 263,
    "start_time": "2023-09-12T07:02:22.443Z"
   },
   {
    "duration": 4,
    "start_time": "2023-09-12T07:02:57.756Z"
   },
   {
    "duration": 263,
    "start_time": "2023-09-12T07:02:58.427Z"
   },
   {
    "duration": 20,
    "start_time": "2023-09-12T07:10:02.596Z"
   },
   {
    "duration": 7,
    "start_time": "2023-09-12T07:11:44.426Z"
   },
   {
    "duration": 10,
    "start_time": "2023-09-12T07:12:44.590Z"
   },
   {
    "duration": 3,
    "start_time": "2023-09-12T07:14:54.185Z"
   },
   {
    "duration": 7,
    "start_time": "2023-09-12T07:26:55.721Z"
   },
   {
    "duration": 4,
    "start_time": "2023-09-12T07:35:42.946Z"
   },
   {
    "duration": 202485,
    "start_time": "2023-09-12T07:35:44.433Z"
   },
   {
    "duration": 4,
    "start_time": "2023-09-12T07:42:16.675Z"
   },
   {
    "duration": 8855,
    "start_time": "2023-09-12T07:42:18.292Z"
   },
   {
    "duration": 4,
    "start_time": "2023-09-12T07:44:03.257Z"
   },
   {
    "duration": 150,
    "start_time": "2023-09-12T07:44:03.953Z"
   },
   {
    "duration": 15,
    "start_time": "2023-09-12T07:44:28.193Z"
   },
   {
    "duration": 6,
    "start_time": "2023-09-12T07:45:41.506Z"
   },
   {
    "duration": 16,
    "start_time": "2023-09-12T07:45:42.355Z"
   },
   {
    "duration": 7,
    "start_time": "2023-09-12T07:46:20.354Z"
   },
   {
    "duration": 16,
    "start_time": "2023-09-12T07:46:21.185Z"
   },
   {
    "duration": 8,
    "start_time": "2023-09-12T07:46:52.144Z"
   },
   {
    "duration": 5,
    "start_time": "2023-09-12T07:47:31.226Z"
   },
   {
    "duration": 4,
    "start_time": "2023-09-12T07:47:31.905Z"
   },
   {
    "duration": 843,
    "start_time": "2023-09-12T07:47:42.545Z"
   },
   {
    "duration": 4,
    "start_time": "2023-09-12T07:49:59.873Z"
   },
   {
    "duration": 1222563,
    "start_time": "2023-09-12T07:50:00.937Z"
   },
   {
    "duration": 4,
    "start_time": "2023-09-12T08:11:40.769Z"
   },
   {
    "duration": 84514,
    "start_time": "2023-09-12T08:11:41.866Z"
   },
   {
    "duration": 12,
    "start_time": "2023-09-12T09:02:47.017Z"
   },
   {
    "duration": 3,
    "start_time": "2023-09-12T09:03:02.938Z"
   },
   {
    "duration": 40,
    "start_time": "2023-09-12T09:10:19.666Z"
   },
   {
    "duration": 11,
    "start_time": "2023-09-12T09:15:28.489Z"
   },
   {
    "duration": 11,
    "start_time": "2023-09-12T09:16:11.297Z"
   },
   {
    "duration": 13,
    "start_time": "2023-09-12T09:16:57.159Z"
   },
   {
    "duration": 13,
    "start_time": "2023-09-12T09:17:22.106Z"
   },
   {
    "duration": 13,
    "start_time": "2023-09-12T09:17:45.985Z"
   },
   {
    "duration": 5,
    "start_time": "2023-09-12T09:18:01.859Z"
   },
   {
    "duration": 6,
    "start_time": "2023-09-12T09:18:21.465Z"
   },
   {
    "duration": 6,
    "start_time": "2023-09-12T09:18:38.368Z"
   },
   {
    "duration": 2815,
    "start_time": "2023-09-12T09:35:13.521Z"
   },
   {
    "duration": 6,
    "start_time": "2023-09-12T09:36:30.059Z"
   },
   {
    "duration": 6,
    "start_time": "2023-09-12T09:37:02.128Z"
   },
   {
    "duration": 12443,
    "start_time": "2023-09-12T09:37:27.586Z"
   },
   {
    "duration": 45,
    "start_time": "2023-09-12T09:41:57.849Z"
   },
   {
    "duration": 3,
    "start_time": "2023-09-12T09:42:46.457Z"
   },
   {
    "duration": 3,
    "start_time": "2023-09-12T10:00:59.191Z"
   },
   {
    "duration": 49,
    "start_time": "2023-09-12T10:00:59.857Z"
   },
   {
    "duration": 6,
    "start_time": "2023-09-12T10:01:01.000Z"
   },
   {
    "duration": 7,
    "start_time": "2023-09-12T10:01:11.568Z"
   },
   {
    "duration": 13476,
    "start_time": "2023-09-12T10:01:23.565Z"
   },
   {
    "duration": 301,
    "start_time": "2023-09-12T10:12:16.473Z"
   },
   {
    "duration": 12,
    "start_time": "2023-09-12T10:13:59.479Z"
   },
   {
    "duration": 32896,
    "start_time": "2023-09-12T10:14:23.618Z"
   },
   {
    "duration": 18431,
    "start_time": "2023-09-12T10:15:03.055Z"
   },
   {
    "duration": 179783,
    "start_time": "2023-09-12T10:15:30.482Z"
   },
   {
    "duration": 11,
    "start_time": "2023-09-12T10:26:13.176Z"
   },
   {
    "duration": 13,
    "start_time": "2023-09-12T10:27:47.280Z"
   },
   {
    "duration": 13,
    "start_time": "2023-09-12T10:28:53.161Z"
   },
   {
    "duration": 29159,
    "start_time": "2023-09-12T10:29:14.777Z"
   },
   {
    "duration": 315787,
    "start_time": "2023-09-12T10:30:06.505Z"
   },
   {
    "duration": 255359,
    "start_time": "2023-09-12T10:37:46.734Z"
   },
   {
    "duration": 5,
    "start_time": "2023-09-12T10:44:02.293Z"
   },
   {
    "duration": 1765326,
    "start_time": "2023-09-12T10:44:18.781Z"
   },
   {
    "duration": 1533,
    "start_time": "2023-09-12T11:18:21.259Z"
   },
   {
    "duration": 1097,
    "start_time": "2023-09-12T11:18:22.794Z"
   },
   {
    "duration": 4,
    "start_time": "2023-09-12T11:18:23.893Z"
   },
   {
    "duration": 338,
    "start_time": "2023-09-12T11:18:23.900Z"
   },
   {
    "duration": 34,
    "start_time": "2023-09-12T11:18:24.247Z"
   },
   {
    "duration": 9,
    "start_time": "2023-09-12T11:18:24.283Z"
   },
   {
    "duration": 4,
    "start_time": "2023-09-12T11:18:24.294Z"
   },
   {
    "duration": 82059,
    "start_time": "2023-09-12T11:18:24.300Z"
   },
   {
    "duration": 3,
    "start_time": "2023-09-12T11:19:46.361Z"
   },
   {
    "duration": 45,
    "start_time": "2023-09-12T11:19:46.366Z"
   },
   {
    "duration": 7,
    "start_time": "2023-09-12T11:19:46.413Z"
   },
   {
    "duration": 13346,
    "start_time": "2023-09-12T11:19:46.421Z"
   },
   {
    "duration": 172296,
    "start_time": "2023-09-12T11:19:59.769Z"
   },
   {
    "duration": 511228,
    "start_time": "2023-09-12T11:22:52.068Z"
   },
   {
    "duration": 3,
    "start_time": "2023-09-12T11:31:23.298Z"
   },
   {
    "duration": 89,
    "start_time": "2023-09-12T11:31:23.303Z"
   },
   {
    "duration": 2621672,
    "start_time": "2023-09-12T11:32:50.678Z"
   },
   {
    "duration": 17,
    "start_time": "2023-09-12T12:36:22.893Z"
   },
   {
    "duration": 222,
    "start_time": "2023-09-13T05:29:54.486Z"
   },
   {
    "duration": 4,
    "start_time": "2023-09-13T05:30:05.413Z"
   },
   {
    "duration": 927,
    "start_time": "2023-09-13T05:30:09.475Z"
   },
   {
    "duration": 4,
    "start_time": "2023-09-13T05:30:14.315Z"
   },
   {
    "duration": 4,
    "start_time": "2023-09-13T05:30:21.871Z"
   },
   {
    "duration": 286,
    "start_time": "2023-09-13T05:30:22.972Z"
   },
   {
    "duration": 251,
    "start_time": "2023-09-13T05:30:39.460Z"
   },
   {
    "duration": 6,
    "start_time": "2023-09-13T05:30:45.187Z"
   },
   {
    "duration": 3,
    "start_time": "2023-09-13T05:31:10.060Z"
   },
   {
    "duration": 254,
    "start_time": "2023-09-13T05:31:10.796Z"
   },
   {
    "duration": 1510,
    "start_time": "2023-09-13T05:34:05.308Z"
   },
   {
    "duration": 1047,
    "start_time": "2023-09-13T05:34:09.996Z"
   },
   {
    "duration": 4,
    "start_time": "2023-09-13T05:34:14.732Z"
   },
   {
    "duration": 322,
    "start_time": "2023-09-13T05:34:20.346Z"
   },
   {
    "duration": 9,
    "start_time": "2023-09-13T05:34:25.252Z"
   },
   {
    "duration": 1507,
    "start_time": "2023-09-13T05:34:43.776Z"
   },
   {
    "duration": 232,
    "start_time": "2023-09-13T05:37:37.109Z"
   },
   {
    "duration": 6,
    "start_time": "2023-09-13T05:38:32.860Z"
   },
   {
    "duration": 115,
    "start_time": "2023-09-13T05:38:43.268Z"
   },
   {
    "duration": 116,
    "start_time": "2023-09-13T05:39:57.132Z"
   },
   {
    "duration": 5,
    "start_time": "2023-09-13T05:40:05.292Z"
   },
   {
    "duration": 123,
    "start_time": "2023-09-13T05:40:10.332Z"
   },
   {
    "duration": 108,
    "start_time": "2023-09-13T05:40:42.781Z"
   },
   {
    "duration": 107,
    "start_time": "2023-09-13T05:40:53.964Z"
   },
   {
    "duration": 170,
    "start_time": "2023-09-13T05:41:15.164Z"
   },
   {
    "duration": 108,
    "start_time": "2023-09-13T05:48:35.125Z"
   },
   {
    "duration": 161,
    "start_time": "2023-09-13T05:48:43.218Z"
   },
   {
    "duration": 101,
    "start_time": "2023-09-13T05:51:22.690Z"
   },
   {
    "duration": 232,
    "start_time": "2023-09-13T05:54:25.878Z"
   },
   {
    "duration": 5,
    "start_time": "2023-09-13T05:55:12.140Z"
   },
   {
    "duration": 5,
    "start_time": "2023-09-13T05:59:03.573Z"
   },
   {
    "duration": 21,
    "start_time": "2023-09-13T05:59:48.666Z"
   },
   {
    "duration": 278,
    "start_time": "2023-09-13T06:00:21.947Z"
   },
   {
    "duration": 1560,
    "start_time": "2023-09-13T06:00:28.790Z"
   },
   {
    "duration": 7,
    "start_time": "2023-09-13T06:01:06.925Z"
   },
   {
    "duration": 4,
    "start_time": "2023-09-13T06:02:21.196Z"
   },
   {
    "duration": 9,
    "start_time": "2023-09-13T06:02:42.949Z"
   },
   {
    "duration": 4,
    "start_time": "2023-09-13T06:02:53.749Z"
   },
   {
    "duration": 8,
    "start_time": "2023-09-13T06:02:54.357Z"
   },
   {
    "duration": 4,
    "start_time": "2023-09-13T06:03:58.749Z"
   },
   {
    "duration": 10,
    "start_time": "2023-09-13T06:03:59.932Z"
   },
   {
    "duration": 4,
    "start_time": "2023-09-13T06:04:13.781Z"
   },
   {
    "duration": 343,
    "start_time": "2023-09-13T06:04:15.119Z"
   },
   {
    "duration": 4,
    "start_time": "2023-09-13T06:04:35.742Z"
   },
   {
    "duration": 10,
    "start_time": "2023-09-13T06:04:36.805Z"
   },
   {
    "duration": 5,
    "start_time": "2023-09-13T06:04:59.214Z"
   },
   {
    "duration": 9,
    "start_time": "2023-09-13T06:05:00.223Z"
   },
   {
    "duration": 4,
    "start_time": "2023-09-13T06:05:57.845Z"
   },
   {
    "duration": 8,
    "start_time": "2023-09-13T06:05:59.133Z"
   },
   {
    "duration": 6,
    "start_time": "2023-09-13T06:07:00.566Z"
   },
   {
    "duration": 4,
    "start_time": "2023-09-13T06:07:33.156Z"
   },
   {
    "duration": 61459,
    "start_time": "2023-09-13T06:07:43.127Z"
   },
   {
    "duration": 19498,
    "start_time": "2023-09-13T06:08:47.459Z"
   },
   {
    "duration": 1,
    "start_time": "2023-09-13T06:09:06.958Z"
   },
   {
    "duration": 633205,
    "start_time": "2023-09-13T06:09:17.383Z"
   },
   {
    "duration": 14,
    "start_time": "2023-09-13T06:19:55.950Z"
   },
   {
    "duration": 1991,
    "start_time": "2023-09-13T06:44:19.681Z"
   },
   {
    "duration": 1054,
    "start_time": "2023-09-13T06:44:25.865Z"
   },
   {
    "duration": 4,
    "start_time": "2023-09-13T06:44:28.896Z"
   },
   {
    "duration": 351,
    "start_time": "2023-09-13T06:44:29.939Z"
   },
   {
    "duration": 9,
    "start_time": "2023-09-13T06:44:33.824Z"
   },
   {
    "duration": 184,
    "start_time": "2023-09-13T06:44:35.392Z"
   },
   {
    "duration": 5,
    "start_time": "2023-09-13T06:44:38.218Z"
   },
   {
    "duration": 4,
    "start_time": "2023-09-13T06:44:39.128Z"
   },
   {
    "duration": 1388120,
    "start_time": "2023-09-13T06:44:43.980Z"
   },
   {
    "duration": 4,
    "start_time": "2023-09-13T07:18:46.936Z"
   },
   {
    "duration": 29,
    "start_time": "2023-09-13T07:18:49.583Z"
   },
   {
    "duration": 141,
    "start_time": "2023-09-13T07:19:24.760Z"
   },
   {
    "duration": 37,
    "start_time": "2023-09-13T07:19:59.273Z"
   },
   {
    "duration": 5,
    "start_time": "2023-09-13T07:20:02.880Z"
   },
   {
    "duration": 11,
    "start_time": "2023-09-13T07:29:36.528Z"
   },
   {
    "duration": 73,
    "start_time": "2023-09-13T07:29:56.480Z"
   },
   {
    "duration": 5,
    "start_time": "2023-09-13T07:30:47.792Z"
   },
   {
    "duration": 9,
    "start_time": "2023-09-13T07:31:07.929Z"
   },
   {
    "duration": 8079,
    "start_time": "2023-09-13T07:31:59.217Z"
   },
   {
    "duration": 93,
    "start_time": "2023-09-13T09:48:39.363Z"
   },
   {
    "duration": 38534,
    "start_time": "2023-09-13T09:49:16.059Z"
   },
   {
    "duration": 243,
    "start_time": "2023-09-13T09:52:19.511Z"
   },
   {
    "duration": 7,
    "start_time": "2023-09-13T09:53:42.027Z"
   },
   {
    "duration": 6761,
    "start_time": "2023-09-13T09:56:21.453Z"
   },
   {
    "duration": 17,
    "start_time": "2023-09-13T09:56:38.323Z"
   },
   {
    "duration": 46,
    "start_time": "2023-09-13T09:58:46.729Z"
   },
   {
    "duration": 30,
    "start_time": "2023-09-13T09:59:57.016Z"
   },
   {
    "duration": 30,
    "start_time": "2023-09-13T10:00:46.776Z"
   },
   {
    "duration": 29,
    "start_time": "2023-09-13T10:01:02.945Z"
   },
   {
    "duration": 14,
    "start_time": "2023-09-13T10:01:58.137Z"
   },
   {
    "duration": 48,
    "start_time": "2023-09-13T10:02:32.192Z"
   },
   {
    "duration": 43,
    "start_time": "2023-09-13T10:03:47.848Z"
   },
   {
    "duration": 41,
    "start_time": "2023-09-13T10:04:06.520Z"
   },
   {
    "duration": 172,
    "start_time": "2023-09-13T10:04:14.543Z"
   },
   {
    "duration": 4,
    "start_time": "2023-09-13T10:07:02.993Z"
   },
   {
    "duration": 80,
    "start_time": "2023-09-13T10:07:25.447Z"
   },
   {
    "duration": 178,
    "start_time": "2023-09-13T10:07:35.255Z"
   },
   {
    "duration": 642,
    "start_time": "2023-09-13T10:08:58.551Z"
   },
   {
    "duration": 10,
    "start_time": "2023-09-13T10:11:27.030Z"
   },
   {
    "duration": 5,
    "start_time": "2023-09-13T10:11:34.790Z"
   },
   {
    "duration": 38,
    "start_time": "2023-09-13T10:11:52.567Z"
   },
   {
    "duration": 1972,
    "start_time": "2023-09-13T10:12:32.773Z"
   },
   {
    "duration": 984,
    "start_time": "2023-09-13T10:12:37.693Z"
   },
   {
    "duration": 4,
    "start_time": "2023-09-13T10:12:40.493Z"
   },
   {
    "duration": 308,
    "start_time": "2023-09-13T10:12:41.869Z"
   },
   {
    "duration": 7,
    "start_time": "2023-09-13T10:12:44.278Z"
   },
   {
    "duration": 187,
    "start_time": "2023-09-13T10:12:45.773Z"
   },
   {
    "duration": 4,
    "start_time": "2023-09-13T10:12:50.829Z"
   },
   {
    "duration": 4,
    "start_time": "2023-09-13T10:12:52.101Z"
   },
   {
    "duration": 1271693,
    "start_time": "2023-09-13T10:12:57.216Z"
   },
   {
    "duration": 3,
    "start_time": "2023-09-13T10:45:18.816Z"
   },
   {
    "duration": 5,
    "start_time": "2023-09-13T10:45:30.065Z"
   },
   {
    "duration": 4,
    "start_time": "2023-09-13T10:45:50.602Z"
   },
   {
    "duration": 67,
    "start_time": "2023-09-13T10:46:03.041Z"
   },
   {
    "duration": 5,
    "start_time": "2023-09-13T10:46:04.592Z"
   },
   {
    "duration": 4,
    "start_time": "2023-09-13T10:46:05.568Z"
   },
   {
    "duration": 216021,
    "start_time": "2023-09-13T10:46:20.793Z"
   },
   {
    "duration": 70066,
    "start_time": "2023-09-13T10:50:01.298Z"
   },
   {
    "duration": 681349,
    "start_time": "2023-09-13T10:51:12.898Z"
   },
   {
    "duration": 620630,
    "start_time": "2023-09-13T11:02:54.653Z"
   },
   {
    "duration": 5,
    "start_time": "2023-09-13T11:13:15.285Z"
   },
   {
    "duration": 12,
    "start_time": "2023-09-13T11:41:26.001Z"
   },
   {
    "duration": 2753591,
    "start_time": "2023-09-13T11:41:48.536Z"
   },
   {
    "duration": 1437,
    "start_time": "2023-09-13T12:33:49.839Z"
   },
   {
    "duration": 12,
    "start_time": "2023-09-13T12:35:17.310Z"
   },
   {
    "duration": 4,
    "start_time": "2023-09-13T12:37:13.518Z"
   },
   {
    "duration": 3,
    "start_time": "2023-09-13T12:44:45.886Z"
   },
   {
    "duration": 11,
    "start_time": "2023-09-13T12:46:22.975Z"
   },
   {
    "duration": 3,
    "start_time": "2023-09-13T12:46:37.735Z"
   },
   {
    "duration": 7,
    "start_time": "2023-09-13T12:46:45.094Z"
   },
   {
    "duration": 8,
    "start_time": "2023-09-13T12:47:03.966Z"
   },
   {
    "duration": 3,
    "start_time": "2023-09-13T12:48:05.711Z"
   },
   {
    "duration": 6113,
    "start_time": "2023-09-13T12:51:57.149Z"
   },
   {
    "duration": 97528,
    "start_time": "2023-09-13T12:52:24.830Z"
   },
   {
    "duration": 94,
    "start_time": "2023-09-13T12:54:02.361Z"
   },
   {
    "duration": 0,
    "start_time": "2023-09-13T12:54:02.456Z"
   },
   {
    "duration": 17,
    "start_time": "2023-09-13T12:54:13.534Z"
   },
   {
    "duration": 10,
    "start_time": "2023-09-13T13:00:35.126Z"
   },
   {
    "duration": 10,
    "start_time": "2023-09-13T13:00:54.151Z"
   },
   {
    "duration": 12,
    "start_time": "2023-09-13T13:01:16.067Z"
   },
   {
    "duration": 10,
    "start_time": "2023-09-13T13:02:18.327Z"
   },
   {
    "duration": 3,
    "start_time": "2023-09-13T13:02:44.095Z"
   },
   {
    "duration": 12,
    "start_time": "2023-09-13T13:02:44.775Z"
   }
  ],
  "kernelspec": {
   "display_name": "Python 3 (ipykernel)",
   "language": "python",
   "name": "python3"
  },
  "language_info": {
   "codemirror_mode": {
    "name": "ipython",
    "version": 3
   },
   "file_extension": ".py",
   "mimetype": "text/x-python",
   "name": "python",
   "nbconvert_exporter": "python",
   "pygments_lexer": "ipython3",
   "version": "3.8.6rc1"
  },
  "toc": {
   "base_numbering": 1,
   "nav_menu": {},
   "number_sections": true,
   "sideBar": true,
   "skip_h1_title": true,
   "title_cell": "Содержание",
   "title_sidebar": "Contents",
   "toc_cell": true,
   "toc_position": {
    "height": "calc(100% - 180px)",
    "left": "10px",
    "top": "150px",
    "width": "302.391px"
   },
   "toc_section_display": true,
   "toc_window_display": true
  }
 },
 "nbformat": 4,
 "nbformat_minor": 4
}
