{
 "cells": [
  {
   "cell_type": "markdown",
   "metadata": {
    "toc": true
   },
   "source": [
    "<h1>Содержание<span class=\"tocSkip\"></span></h1>\n",
    "<div class=\"toc\"><ul class=\"toc-item\"><li><span><a href=\"#Подготовка-данных\" data-toc-modified-id=\"Подготовка-данных-1\"><span class=\"toc-item-num\">1&nbsp;&nbsp;</span>Подготовка данных</a></span></li><li><span><a href=\"#Исследование-задачи\" data-toc-modified-id=\"Исследование-задачи-2\"><span class=\"toc-item-num\">2&nbsp;&nbsp;</span>Исследование задачи</a></span><ul class=\"toc-item\"><li><span><a href=\"#Подготовка-данных-для-обучения-модели\" data-toc-modified-id=\"Подготовка-данных-для-обучения-модели-2.1\"><span class=\"toc-item-num\">2.1&nbsp;&nbsp;</span>Подготовка данных для обучения модели</a></span></li><li><span><a href=\"#Построение-модели-при-дисбалансе-классов\" data-toc-modified-id=\"Построение-модели-при-дисбалансе-классов-2.2\"><span class=\"toc-item-num\">2.2&nbsp;&nbsp;</span>Построение модели при дисбалансе классов</a></span><ul class=\"toc-item\"><li><span><a href=\"#Дерево-решений\" data-toc-modified-id=\"Дерево-решений-2.2.1\"><span class=\"toc-item-num\">2.2.1&nbsp;&nbsp;</span>Дерево решений</a></span></li><li><span><a href=\"#Случайный-лес\" data-toc-modified-id=\"Случайный-лес-2.2.2\"><span class=\"toc-item-num\">2.2.2&nbsp;&nbsp;</span>Случайный лес</a></span></li><li><span><a href=\"#Логистическая-регрессия\" data-toc-modified-id=\"Логистическая-регрессия-2.2.3\"><span class=\"toc-item-num\">2.2.3&nbsp;&nbsp;</span>Логистическая регрессия</a></span></li></ul></li><li><span><a href=\"#Матрица-ошибок\" data-toc-modified-id=\"Матрица-ошибок-2.3\"><span class=\"toc-item-num\">2.3&nbsp;&nbsp;</span>Матрица ошибок</a></span></li></ul></li><li><span><a href=\"#Борьба-с-дисбалансом\" data-toc-modified-id=\"Борьба-с-дисбалансом-3\"><span class=\"toc-item-num\">3&nbsp;&nbsp;</span>Борьба с дисбалансом</a></span><ul class=\"toc-item\"><li><span><a href=\"#Взвешивание-классов\" data-toc-modified-id=\"Взвешивание-классов-3.1\"><span class=\"toc-item-num\">3.1&nbsp;&nbsp;</span>Взвешивание классов</a></span><ul class=\"toc-item\"><li><span><a href=\"#Логистическая-регрессия\" data-toc-modified-id=\"Логистическая-регрессия-3.1.1\"><span class=\"toc-item-num\">3.1.1&nbsp;&nbsp;</span>Логистическая регрессия</a></span></li><li><span><a href=\"#Дерево-решений\" data-toc-modified-id=\"Дерево-решений-3.1.2\"><span class=\"toc-item-num\">3.1.2&nbsp;&nbsp;</span>Дерево решений</a></span></li><li><span><a href=\"#Случайный-лес\" data-toc-modified-id=\"Случайный-лес-3.1.3\"><span class=\"toc-item-num\">3.1.3&nbsp;&nbsp;</span>Случайный лес</a></span></li></ul></li><li><span><a href=\"#Увеличение-выборки\" data-toc-modified-id=\"Увеличение-выборки-3.2\"><span class=\"toc-item-num\">3.2&nbsp;&nbsp;</span>Увеличение выборки</a></span><ul class=\"toc-item\"><li><span><a href=\"#Логистическая-регрессия\" data-toc-modified-id=\"Логистическая-регрессия-3.2.1\"><span class=\"toc-item-num\">3.2.1&nbsp;&nbsp;</span>Логистическая регрессия</a></span></li><li><span><a href=\"#Дерево-решений\" data-toc-modified-id=\"Дерево-решений-3.2.2\"><span class=\"toc-item-num\">3.2.2&nbsp;&nbsp;</span>Дерево решений</a></span></li><li><span><a href=\"#Случайный-лес\" data-toc-modified-id=\"Случайный-лес-3.2.3\"><span class=\"toc-item-num\">3.2.3&nbsp;&nbsp;</span>Случайный лес</a></span></li></ul></li><li><span><a href=\"#Уменьшение-выборки\" data-toc-modified-id=\"Уменьшение-выборки-3.3\"><span class=\"toc-item-num\">3.3&nbsp;&nbsp;</span>Уменьшение выборки</a></span><ul class=\"toc-item\"><li><span><a href=\"#Логистическая-регрессия\" data-toc-modified-id=\"Логистическая-регрессия-3.3.1\"><span class=\"toc-item-num\">3.3.1&nbsp;&nbsp;</span>Логистическая регрессия</a></span></li><li><span><a href=\"#Дерево-решений\" data-toc-modified-id=\"Дерево-решений-3.3.2\"><span class=\"toc-item-num\">3.3.2&nbsp;&nbsp;</span>Дерево решений</a></span></li><li><span><a href=\"#Случайный-лес\" data-toc-modified-id=\"Случайный-лес-3.3.3\"><span class=\"toc-item-num\">3.3.3&nbsp;&nbsp;</span>Случайный лес</a></span></li></ul></li><li><span><a href=\"#Матрица-ошибок-для-лучшей-модели\" data-toc-modified-id=\"Матрица-ошибок-для-лучшей-модели-3.4\"><span class=\"toc-item-num\">3.4&nbsp;&nbsp;</span>Матрица ошибок для лучшей модели</a></span></li><li><span><a href=\"#Вывод\" data-toc-modified-id=\"Вывод-3.5\"><span class=\"toc-item-num\">3.5&nbsp;&nbsp;</span>Вывод</a></span></li></ul></li><li><span><a href=\"#Тестирование-модели\" data-toc-modified-id=\"Тестирование-модели-4\"><span class=\"toc-item-num\">4&nbsp;&nbsp;</span>Тестирование модели</a></span></li><li><span><a href=\"#Общий-вывод\" data-toc-modified-id=\"Общий-вывод-5\"><span class=\"toc-item-num\">5&nbsp;&nbsp;</span>Общий вывод</a></span></li><li><span><a href=\"#Чек-лист-готовности-проекта\" data-toc-modified-id=\"Чек-лист-готовности-проекта-6\"><span class=\"toc-item-num\">6&nbsp;&nbsp;</span>Чек-лист готовности проекта</a></span></li></ul></div>"
   ]
  },
  {
   "cell_type": "markdown",
   "metadata": {},
   "source": [
    "# Отток клиентов"
   ]
  },
  {
   "cell_type": "markdown",
   "metadata": {},
   "source": [
    "Из «Бета-Банка» стали уходить клиенты. Каждый месяц. Немного, но заметно. Банковские маркетологи посчитали: сохранять текущих клиентов дешевле, чем привлекать новых.\n",
    "\n",
    "Нужно спрогнозировать, уйдёт клиент из банка в ближайшее время или нет. Вам предоставлены исторические данные о поведении клиентов и расторжении договоров с банком. \n",
    "\n",
    "Постройте модель с предельно большим значением *F1*-меры. Чтобы сдать проект успешно, нужно довести метрику до 0.59. Проверьте *F1*-меру на тестовой выборке самостоятельно.\n",
    "\n",
    "Дополнительно измеряйте *AUC-ROC*, сравнивайте её значение с *F1*-мерой.\n",
    "\n",
    "Источник данных: [https://www.kaggle.com/barelydedicated/bank-customer-churn-modeling](https://www.kaggle.com/barelydedicated/bank-customer-churn-modeling)"
   ]
  },
  {
   "cell_type": "markdown",
   "metadata": {},
   "source": [
    "## Подготовка данных"
   ]
  },
  {
   "cell_type": "code",
   "execution_count": 651,
   "metadata": {},
   "outputs": [],
   "source": [
    "# для библиотек\n",
    "\n",
    "import pandas as pd\n",
    "import matplotlib.pyplot as plt\n",
    "\n",
    "from sklearn.tree import DecisionTreeClassifier\n",
    "from sklearn.ensemble import RandomForestClassifier\n",
    "from sklearn.linear_model import LogisticRegression\n",
    "\n",
    "from sklearn.linear_model import LinearRegression\n",
    "from sklearn.metrics import mean_absolute_error\n",
    "\n",
    "from sklearn.model_selection import train_test_split\n",
    "from sklearn.preprocessing import StandardScaler\n",
    "from sklearn.metrics import f1_score\n",
    "from sklearn.metrics import accuracy_score\n",
    "from sklearn.metrics import recall_score\n",
    "from sklearn.metrics import precision_score \n",
    "\n",
    "from sklearn.metrics import confusion_matrix\n",
    "from sklearn.metrics import roc_auc_score\n",
    "from sklearn.metrics import roc_curve \n",
    "\n",
    "from sklearn.metrics import plot_confusion_matrix\n",
    "from sklearn.utils import shuffle"
   ]
  },
  {
   "cell_type": "code",
   "execution_count": 652,
   "metadata": {},
   "outputs": [
    {
     "name": "stdout",
     "output_type": "stream",
     "text": [
      "<class 'pandas.core.frame.DataFrame'>\n",
      "RangeIndex: 10000 entries, 0 to 9999\n",
      "Data columns (total 14 columns):\n",
      " #   Column           Non-Null Count  Dtype  \n",
      "---  ------           --------------  -----  \n",
      " 0   RowNumber        10000 non-null  int64  \n",
      " 1   CustomerId       10000 non-null  int64  \n",
      " 2   Surname          10000 non-null  object \n",
      " 3   CreditScore      10000 non-null  int64  \n",
      " 4   Geography        10000 non-null  object \n",
      " 5   Gender           10000 non-null  object \n",
      " 6   Age              10000 non-null  int64  \n",
      " 7   Tenure           9091 non-null   float64\n",
      " 8   Balance          10000 non-null  float64\n",
      " 9   NumOfProducts    10000 non-null  int64  \n",
      " 10  HasCrCard        10000 non-null  int64  \n",
      " 11  IsActiveMember   10000 non-null  int64  \n",
      " 12  EstimatedSalary  10000 non-null  float64\n",
      " 13  Exited           10000 non-null  int64  \n",
      "dtypes: float64(3), int64(8), object(3)\n",
      "memory usage: 1.1+ MB\n"
     ]
    }
   ],
   "source": [
    "# посмотрим данные\n",
    "\n",
    "data = pd.read_csv('/datasets/Churn.csv')\n",
    "\n",
    "data.info()"
   ]
  },
  {
   "cell_type": "code",
   "execution_count": 653,
   "metadata": {},
   "outputs": [
    {
     "data": {
      "text/html": [
       "<div>\n",
       "<style scoped>\n",
       "    .dataframe tbody tr th:only-of-type {\n",
       "        vertical-align: middle;\n",
       "    }\n",
       "\n",
       "    .dataframe tbody tr th {\n",
       "        vertical-align: top;\n",
       "    }\n",
       "\n",
       "    .dataframe thead th {\n",
       "        text-align: right;\n",
       "    }\n",
       "</style>\n",
       "<table border=\"1\" class=\"dataframe\">\n",
       "  <thead>\n",
       "    <tr style=\"text-align: right;\">\n",
       "      <th></th>\n",
       "      <th>RowNumber</th>\n",
       "      <th>CustomerId</th>\n",
       "      <th>Surname</th>\n",
       "      <th>CreditScore</th>\n",
       "      <th>Geography</th>\n",
       "      <th>Gender</th>\n",
       "      <th>Age</th>\n",
       "      <th>Tenure</th>\n",
       "      <th>Balance</th>\n",
       "      <th>NumOfProducts</th>\n",
       "      <th>HasCrCard</th>\n",
       "      <th>IsActiveMember</th>\n",
       "      <th>EstimatedSalary</th>\n",
       "      <th>Exited</th>\n",
       "    </tr>\n",
       "  </thead>\n",
       "  <tbody>\n",
       "    <tr>\n",
       "      <th>0</th>\n",
       "      <td>1</td>\n",
       "      <td>15634602</td>\n",
       "      <td>Hargrave</td>\n",
       "      <td>619</td>\n",
       "      <td>France</td>\n",
       "      <td>Female</td>\n",
       "      <td>42</td>\n",
       "      <td>2.0</td>\n",
       "      <td>0.00</td>\n",
       "      <td>1</td>\n",
       "      <td>1</td>\n",
       "      <td>1</td>\n",
       "      <td>101348.88</td>\n",
       "      <td>1</td>\n",
       "    </tr>\n",
       "    <tr>\n",
       "      <th>1</th>\n",
       "      <td>2</td>\n",
       "      <td>15647311</td>\n",
       "      <td>Hill</td>\n",
       "      <td>608</td>\n",
       "      <td>Spain</td>\n",
       "      <td>Female</td>\n",
       "      <td>41</td>\n",
       "      <td>1.0</td>\n",
       "      <td>83807.86</td>\n",
       "      <td>1</td>\n",
       "      <td>0</td>\n",
       "      <td>1</td>\n",
       "      <td>112542.58</td>\n",
       "      <td>0</td>\n",
       "    </tr>\n",
       "    <tr>\n",
       "      <th>2</th>\n",
       "      <td>3</td>\n",
       "      <td>15619304</td>\n",
       "      <td>Onio</td>\n",
       "      <td>502</td>\n",
       "      <td>France</td>\n",
       "      <td>Female</td>\n",
       "      <td>42</td>\n",
       "      <td>8.0</td>\n",
       "      <td>159660.80</td>\n",
       "      <td>3</td>\n",
       "      <td>1</td>\n",
       "      <td>0</td>\n",
       "      <td>113931.57</td>\n",
       "      <td>1</td>\n",
       "    </tr>\n",
       "    <tr>\n",
       "      <th>3</th>\n",
       "      <td>4</td>\n",
       "      <td>15701354</td>\n",
       "      <td>Boni</td>\n",
       "      <td>699</td>\n",
       "      <td>France</td>\n",
       "      <td>Female</td>\n",
       "      <td>39</td>\n",
       "      <td>1.0</td>\n",
       "      <td>0.00</td>\n",
       "      <td>2</td>\n",
       "      <td>0</td>\n",
       "      <td>0</td>\n",
       "      <td>93826.63</td>\n",
       "      <td>0</td>\n",
       "    </tr>\n",
       "    <tr>\n",
       "      <th>4</th>\n",
       "      <td>5</td>\n",
       "      <td>15737888</td>\n",
       "      <td>Mitchell</td>\n",
       "      <td>850</td>\n",
       "      <td>Spain</td>\n",
       "      <td>Female</td>\n",
       "      <td>43</td>\n",
       "      <td>2.0</td>\n",
       "      <td>125510.82</td>\n",
       "      <td>1</td>\n",
       "      <td>1</td>\n",
       "      <td>1</td>\n",
       "      <td>79084.10</td>\n",
       "      <td>0</td>\n",
       "    </tr>\n",
       "  </tbody>\n",
       "</table>\n",
       "</div>"
      ],
      "text/plain": [
       "   RowNumber  CustomerId   Surname  CreditScore Geography  Gender  Age  \\\n",
       "0          1    15634602  Hargrave          619    France  Female   42   \n",
       "1          2    15647311      Hill          608     Spain  Female   41   \n",
       "2          3    15619304      Onio          502    France  Female   42   \n",
       "3          4    15701354      Boni          699    France  Female   39   \n",
       "4          5    15737888  Mitchell          850     Spain  Female   43   \n",
       "\n",
       "   Tenure    Balance  NumOfProducts  HasCrCard  IsActiveMember  \\\n",
       "0     2.0       0.00              1          1               1   \n",
       "1     1.0   83807.86              1          0               1   \n",
       "2     8.0  159660.80              3          1               0   \n",
       "3     1.0       0.00              2          0               0   \n",
       "4     2.0  125510.82              1          1               1   \n",
       "\n",
       "   EstimatedSalary  Exited  \n",
       "0        101348.88       1  \n",
       "1        112542.58       0  \n",
       "2        113931.57       1  \n",
       "3         93826.63       0  \n",
       "4         79084.10       0  "
      ]
     },
     "execution_count": 653,
     "metadata": {},
     "output_type": "execute_result"
    }
   ],
   "source": [
    "data.head()"
   ]
  },
  {
   "cell_type": "markdown",
   "metadata": {},
   "source": [
    "Для удобства ориентирования укажем значения наименования столбцов.\n",
    "\n",
    "- RowNumber — индекс строки в данных\n",
    "- CustomerId — уникальный идентификатор клиента\n",
    "- Surname — фамилия\n",
    "- CreditScore — кредитный рейтинг\n",
    "- Geography — страна проживания\n",
    "- Gender — пол\n",
    "- Age — возраст\n",
    "- Tenure — сколько лет человек является клиентом банка\n",
    "- Balance — баланс на счёте\n",
    "- NumOfProducts — количество продуктов банка, используемых клиентом\n",
    "- HasCrCard — наличие кредитной карты\n",
    "- IsActiveMember — активность клиента\n",
    "- EstimatedSalary — предполагаемая зарплата\n",
    "- Exited — факт ухода клиента"
   ]
  },
  {
   "cell_type": "code",
   "execution_count": 654,
   "metadata": {},
   "outputs": [
    {
     "data": {
      "text/html": [
       "<div>\n",
       "<style scoped>\n",
       "    .dataframe tbody tr th:only-of-type {\n",
       "        vertical-align: middle;\n",
       "    }\n",
       "\n",
       "    .dataframe tbody tr th {\n",
       "        vertical-align: top;\n",
       "    }\n",
       "\n",
       "    .dataframe thead th {\n",
       "        text-align: right;\n",
       "    }\n",
       "</style>\n",
       "<table border=\"1\" class=\"dataframe\">\n",
       "  <thead>\n",
       "    <tr style=\"text-align: right;\">\n",
       "      <th></th>\n",
       "      <th>rownumber</th>\n",
       "      <th>customerid</th>\n",
       "      <th>surname</th>\n",
       "      <th>creditscore</th>\n",
       "      <th>geography</th>\n",
       "      <th>gender</th>\n",
       "      <th>age</th>\n",
       "      <th>tenure</th>\n",
       "      <th>balance</th>\n",
       "      <th>numofproducts</th>\n",
       "      <th>hascrcard</th>\n",
       "      <th>isactivemember</th>\n",
       "      <th>estimatedsalary</th>\n",
       "      <th>exited</th>\n",
       "    </tr>\n",
       "  </thead>\n",
       "  <tbody>\n",
       "    <tr>\n",
       "      <th>0</th>\n",
       "      <td>1</td>\n",
       "      <td>15634602</td>\n",
       "      <td>hargrave</td>\n",
       "      <td>619</td>\n",
       "      <td>france</td>\n",
       "      <td>female</td>\n",
       "      <td>42</td>\n",
       "      <td>2.0</td>\n",
       "      <td>0.00</td>\n",
       "      <td>1</td>\n",
       "      <td>1</td>\n",
       "      <td>1</td>\n",
       "      <td>101348.88</td>\n",
       "      <td>1</td>\n",
       "    </tr>\n",
       "    <tr>\n",
       "      <th>1</th>\n",
       "      <td>2</td>\n",
       "      <td>15647311</td>\n",
       "      <td>hill</td>\n",
       "      <td>608</td>\n",
       "      <td>spain</td>\n",
       "      <td>female</td>\n",
       "      <td>41</td>\n",
       "      <td>1.0</td>\n",
       "      <td>83807.86</td>\n",
       "      <td>1</td>\n",
       "      <td>0</td>\n",
       "      <td>1</td>\n",
       "      <td>112542.58</td>\n",
       "      <td>0</td>\n",
       "    </tr>\n",
       "    <tr>\n",
       "      <th>2</th>\n",
       "      <td>3</td>\n",
       "      <td>15619304</td>\n",
       "      <td>onio</td>\n",
       "      <td>502</td>\n",
       "      <td>france</td>\n",
       "      <td>female</td>\n",
       "      <td>42</td>\n",
       "      <td>8.0</td>\n",
       "      <td>159660.80</td>\n",
       "      <td>3</td>\n",
       "      <td>1</td>\n",
       "      <td>0</td>\n",
       "      <td>113931.57</td>\n",
       "      <td>1</td>\n",
       "    </tr>\n",
       "    <tr>\n",
       "      <th>3</th>\n",
       "      <td>4</td>\n",
       "      <td>15701354</td>\n",
       "      <td>boni</td>\n",
       "      <td>699</td>\n",
       "      <td>france</td>\n",
       "      <td>female</td>\n",
       "      <td>39</td>\n",
       "      <td>1.0</td>\n",
       "      <td>0.00</td>\n",
       "      <td>2</td>\n",
       "      <td>0</td>\n",
       "      <td>0</td>\n",
       "      <td>93826.63</td>\n",
       "      <td>0</td>\n",
       "    </tr>\n",
       "    <tr>\n",
       "      <th>4</th>\n",
       "      <td>5</td>\n",
       "      <td>15737888</td>\n",
       "      <td>mitchell</td>\n",
       "      <td>850</td>\n",
       "      <td>spain</td>\n",
       "      <td>female</td>\n",
       "      <td>43</td>\n",
       "      <td>2.0</td>\n",
       "      <td>125510.82</td>\n",
       "      <td>1</td>\n",
       "      <td>1</td>\n",
       "      <td>1</td>\n",
       "      <td>79084.10</td>\n",
       "      <td>0</td>\n",
       "    </tr>\n",
       "  </tbody>\n",
       "</table>\n",
       "</div>"
      ],
      "text/plain": [
       "   rownumber  customerid   surname  creditscore geography  gender  age  \\\n",
       "0          1    15634602  hargrave          619    france  female   42   \n",
       "1          2    15647311      hill          608     spain  female   41   \n",
       "2          3    15619304      onio          502    france  female   42   \n",
       "3          4    15701354      boni          699    france  female   39   \n",
       "4          5    15737888  mitchell          850     spain  female   43   \n",
       "\n",
       "   tenure    balance  numofproducts  hascrcard  isactivemember  \\\n",
       "0     2.0       0.00              1          1               1   \n",
       "1     1.0   83807.86              1          0               1   \n",
       "2     8.0  159660.80              3          1               0   \n",
       "3     1.0       0.00              2          0               0   \n",
       "4     2.0  125510.82              1          1               1   \n",
       "\n",
       "   estimatedsalary  exited  \n",
       "0        101348.88       1  \n",
       "1        112542.58       0  \n",
       "2        113931.57       1  \n",
       "3         93826.63       0  \n",
       "4         79084.10       0  "
      ]
     },
     "execution_count": 654,
     "metadata": {},
     "output_type": "execute_result"
    }
   ],
   "source": [
    "# приведем к нижнему регистру наименование столбцов и столбцы Geography, Gender и Surname\n",
    "\n",
    "data.columns = data.columns.str.lower()\n",
    "data['geography'] = data['geography'].str.lower()\n",
    "data['gender'] = data['gender'].str.lower()\n",
    "data['surname'] = data['surname'].str.lower()\n",
    "\n",
    "data.head()"
   ]
  },
  {
   "cell_type": "markdown",
   "metadata": {},
   "source": [
    "Уберем столбцы rownumber, customerid и surname как не нужные для исследований."
   ]
  },
  {
   "cell_type": "code",
   "execution_count": 655,
   "metadata": {},
   "outputs": [
    {
     "data": {
      "text/html": [
       "<div>\n",
       "<style scoped>\n",
       "    .dataframe tbody tr th:only-of-type {\n",
       "        vertical-align: middle;\n",
       "    }\n",
       "\n",
       "    .dataframe tbody tr th {\n",
       "        vertical-align: top;\n",
       "    }\n",
       "\n",
       "    .dataframe thead th {\n",
       "        text-align: right;\n",
       "    }\n",
       "</style>\n",
       "<table border=\"1\" class=\"dataframe\">\n",
       "  <thead>\n",
       "    <tr style=\"text-align: right;\">\n",
       "      <th></th>\n",
       "      <th>creditscore</th>\n",
       "      <th>geography</th>\n",
       "      <th>gender</th>\n",
       "      <th>age</th>\n",
       "      <th>tenure</th>\n",
       "      <th>balance</th>\n",
       "      <th>numofproducts</th>\n",
       "      <th>hascrcard</th>\n",
       "      <th>isactivemember</th>\n",
       "      <th>estimatedsalary</th>\n",
       "      <th>exited</th>\n",
       "    </tr>\n",
       "  </thead>\n",
       "  <tbody>\n",
       "    <tr>\n",
       "      <th>0</th>\n",
       "      <td>619</td>\n",
       "      <td>france</td>\n",
       "      <td>female</td>\n",
       "      <td>42</td>\n",
       "      <td>2.0</td>\n",
       "      <td>0.00</td>\n",
       "      <td>1</td>\n",
       "      <td>1</td>\n",
       "      <td>1</td>\n",
       "      <td>101348.88</td>\n",
       "      <td>1</td>\n",
       "    </tr>\n",
       "    <tr>\n",
       "      <th>1</th>\n",
       "      <td>608</td>\n",
       "      <td>spain</td>\n",
       "      <td>female</td>\n",
       "      <td>41</td>\n",
       "      <td>1.0</td>\n",
       "      <td>83807.86</td>\n",
       "      <td>1</td>\n",
       "      <td>0</td>\n",
       "      <td>1</td>\n",
       "      <td>112542.58</td>\n",
       "      <td>0</td>\n",
       "    </tr>\n",
       "    <tr>\n",
       "      <th>2</th>\n",
       "      <td>502</td>\n",
       "      <td>france</td>\n",
       "      <td>female</td>\n",
       "      <td>42</td>\n",
       "      <td>8.0</td>\n",
       "      <td>159660.80</td>\n",
       "      <td>3</td>\n",
       "      <td>1</td>\n",
       "      <td>0</td>\n",
       "      <td>113931.57</td>\n",
       "      <td>1</td>\n",
       "    </tr>\n",
       "    <tr>\n",
       "      <th>3</th>\n",
       "      <td>699</td>\n",
       "      <td>france</td>\n",
       "      <td>female</td>\n",
       "      <td>39</td>\n",
       "      <td>1.0</td>\n",
       "      <td>0.00</td>\n",
       "      <td>2</td>\n",
       "      <td>0</td>\n",
       "      <td>0</td>\n",
       "      <td>93826.63</td>\n",
       "      <td>0</td>\n",
       "    </tr>\n",
       "    <tr>\n",
       "      <th>4</th>\n",
       "      <td>850</td>\n",
       "      <td>spain</td>\n",
       "      <td>female</td>\n",
       "      <td>43</td>\n",
       "      <td>2.0</td>\n",
       "      <td>125510.82</td>\n",
       "      <td>1</td>\n",
       "      <td>1</td>\n",
       "      <td>1</td>\n",
       "      <td>79084.10</td>\n",
       "      <td>0</td>\n",
       "    </tr>\n",
       "  </tbody>\n",
       "</table>\n",
       "</div>"
      ],
      "text/plain": [
       "   creditscore geography  gender  age  tenure    balance  numofproducts  \\\n",
       "0          619    france  female   42     2.0       0.00              1   \n",
       "1          608     spain  female   41     1.0   83807.86              1   \n",
       "2          502    france  female   42     8.0  159660.80              3   \n",
       "3          699    france  female   39     1.0       0.00              2   \n",
       "4          850     spain  female   43     2.0  125510.82              1   \n",
       "\n",
       "   hascrcard  isactivemember  estimatedsalary  exited  \n",
       "0          1               1        101348.88       1  \n",
       "1          0               1        112542.58       0  \n",
       "2          1               0        113931.57       1  \n",
       "3          0               0         93826.63       0  \n",
       "4          1               1         79084.10       0  "
      ]
     },
     "execution_count": 655,
     "metadata": {},
     "output_type": "execute_result"
    }
   ],
   "source": [
    "drop_array = ['rownumber', 'customerid', 'surname']\n",
    "\n",
    "df = data.drop(drop_array, axis=1)\n",
    "\n",
    "df.head()"
   ]
  },
  {
   "cell_type": "code",
   "execution_count": 656,
   "metadata": {},
   "outputs": [
    {
     "data": {
      "text/plain": [
       "creditscore          0\n",
       "geography            0\n",
       "gender               0\n",
       "age                  0\n",
       "tenure             909\n",
       "balance              0\n",
       "numofproducts        0\n",
       "hascrcard            0\n",
       "isactivemember       0\n",
       "estimatedsalary      0\n",
       "exited               0\n",
       "dtype: int64"
      ]
     },
     "execution_count": 656,
     "metadata": {},
     "output_type": "execute_result"
    }
   ],
   "source": [
    "# узнаем число пропусков\n",
    "\n",
    "df.isna().sum()"
   ]
  },
  {
   "cell_type": "markdown",
   "metadata": {},
   "source": [
    "Пропуски только в столбце tenure - сколько лет клиент является клиентом банка. Количество пропусков составляет порядка 10% от базы. Это не мало.\n",
    "\n",
    "Пропуск этих значений может быть технической ошибкой, тк год начала обслуживания пользователя обычно информация, которая заполняется автоматически при открытии счета. Проверим, заполнены ли данные по клиентам, у которых пропуски в столбце tenure. "
   ]
  },
  {
   "cell_type": "code",
   "execution_count": 657,
   "metadata": {},
   "outputs": [
    {
     "data": {
      "text/html": [
       "<div>\n",
       "<style scoped>\n",
       "    .dataframe tbody tr th:only-of-type {\n",
       "        vertical-align: middle;\n",
       "    }\n",
       "\n",
       "    .dataframe tbody tr th {\n",
       "        vertical-align: top;\n",
       "    }\n",
       "\n",
       "    .dataframe thead th {\n",
       "        text-align: right;\n",
       "    }\n",
       "</style>\n",
       "<table border=\"1\" class=\"dataframe\">\n",
       "  <thead>\n",
       "    <tr style=\"text-align: right;\">\n",
       "      <th></th>\n",
       "      <th>creditscore</th>\n",
       "      <th>geography</th>\n",
       "      <th>gender</th>\n",
       "      <th>age</th>\n",
       "      <th>tenure</th>\n",
       "      <th>balance</th>\n",
       "      <th>numofproducts</th>\n",
       "      <th>hascrcard</th>\n",
       "      <th>isactivemember</th>\n",
       "      <th>estimatedsalary</th>\n",
       "      <th>exited</th>\n",
       "    </tr>\n",
       "  </thead>\n",
       "  <tbody>\n",
       "    <tr>\n",
       "      <th>30</th>\n",
       "      <td>591</td>\n",
       "      <td>spain</td>\n",
       "      <td>female</td>\n",
       "      <td>39</td>\n",
       "      <td>NaN</td>\n",
       "      <td>0.00</td>\n",
       "      <td>3</td>\n",
       "      <td>1</td>\n",
       "      <td>0</td>\n",
       "      <td>140469.38</td>\n",
       "      <td>1</td>\n",
       "    </tr>\n",
       "    <tr>\n",
       "      <th>48</th>\n",
       "      <td>550</td>\n",
       "      <td>germany</td>\n",
       "      <td>male</td>\n",
       "      <td>38</td>\n",
       "      <td>NaN</td>\n",
       "      <td>103391.38</td>\n",
       "      <td>1</td>\n",
       "      <td>0</td>\n",
       "      <td>1</td>\n",
       "      <td>90878.13</td>\n",
       "      <td>0</td>\n",
       "    </tr>\n",
       "    <tr>\n",
       "      <th>51</th>\n",
       "      <td>585</td>\n",
       "      <td>germany</td>\n",
       "      <td>male</td>\n",
       "      <td>36</td>\n",
       "      <td>NaN</td>\n",
       "      <td>146050.97</td>\n",
       "      <td>2</td>\n",
       "      <td>0</td>\n",
       "      <td>0</td>\n",
       "      <td>86424.57</td>\n",
       "      <td>0</td>\n",
       "    </tr>\n",
       "    <tr>\n",
       "      <th>53</th>\n",
       "      <td>655</td>\n",
       "      <td>germany</td>\n",
       "      <td>male</td>\n",
       "      <td>41</td>\n",
       "      <td>NaN</td>\n",
       "      <td>125561.97</td>\n",
       "      <td>1</td>\n",
       "      <td>0</td>\n",
       "      <td>0</td>\n",
       "      <td>164040.94</td>\n",
       "      <td>1</td>\n",
       "    </tr>\n",
       "    <tr>\n",
       "      <th>60</th>\n",
       "      <td>742</td>\n",
       "      <td>germany</td>\n",
       "      <td>male</td>\n",
       "      <td>35</td>\n",
       "      <td>NaN</td>\n",
       "      <td>136857.00</td>\n",
       "      <td>1</td>\n",
       "      <td>0</td>\n",
       "      <td>0</td>\n",
       "      <td>84509.57</td>\n",
       "      <td>0</td>\n",
       "    </tr>\n",
       "  </tbody>\n",
       "</table>\n",
       "</div>"
      ],
      "text/plain": [
       "    creditscore geography  gender  age  tenure    balance  numofproducts  \\\n",
       "30          591     spain  female   39     NaN       0.00              3   \n",
       "48          550   germany    male   38     NaN  103391.38              1   \n",
       "51          585   germany    male   36     NaN  146050.97              2   \n",
       "53          655   germany    male   41     NaN  125561.97              1   \n",
       "60          742   germany    male   35     NaN  136857.00              1   \n",
       "\n",
       "    hascrcard  isactivemember  estimatedsalary  exited  \n",
       "30          1               0        140469.38       1  \n",
       "48          0               1         90878.13       0  \n",
       "51          0               0         86424.57       0  \n",
       "53          0               0        164040.94       1  \n",
       "60          0               0         84509.57       0  "
      ]
     },
     "execution_count": 657,
     "metadata": {},
     "output_type": "execute_result"
    }
   ],
   "source": [
    "df[df['tenure'].isna()].head()"
   ]
  },
  {
   "cell_type": "markdown",
   "metadata": {},
   "source": [
    "Данные о пользователях есть. Построим график по столбцу tenure, чтобы лучше понять, чем заполнен столбец."
   ]
  },
  {
   "cell_type": "code",
   "execution_count": 658,
   "metadata": {},
   "outputs": [
    {
     "data": {
      "text/plain": [
       "Text(0, 0.5, 'Число клиентов банка')"
      ]
     },
     "execution_count": 658,
     "metadata": {},
     "output_type": "execute_result"
    },
    {
     "data": {
      "image/png": "[encoded data removed]",
      "text/plain": [
       "<Figure size 432x288 with 1 Axes>"
      ]
     },
     "metadata": {
      "needs_background": "light"
     },
     "output_type": "display_data"
    }
   ],
   "source": [
    "df['tenure'].hist(bins = 30)\n",
    "\n",
    "plt.title('Распределение клиентов банка по количеству лет обслуживания')\n",
    "plt.xlabel(\"Количество лет обслуживания\")\n",
    "plt.ylabel(\"Число клиентов банка\")"
   ]
  },
  {
   "cell_type": "markdown",
   "metadata": {},
   "source": [
    "Исходя из данных, заполним пропуски столбца tenure средним значением."
   ]
  },
  {
   "cell_type": "code",
   "execution_count": 659,
   "metadata": {},
   "outputs": [
    {
     "name": "stdout",
     "output_type": "stream",
     "text": [
      "<class 'pandas.core.frame.DataFrame'>\n",
      "RangeIndex: 10000 entries, 0 to 9999\n",
      "Data columns (total 11 columns):\n",
      " #   Column           Non-Null Count  Dtype  \n",
      "---  ------           --------------  -----  \n",
      " 0   creditscore      10000 non-null  int64  \n",
      " 1   geography        10000 non-null  object \n",
      " 2   gender           10000 non-null  object \n",
      " 3   age              10000 non-null  int64  \n",
      " 4   tenure           10000 non-null  float64\n",
      " 5   balance          10000 non-null  float64\n",
      " 6   numofproducts    10000 non-null  int64  \n",
      " 7   hascrcard        10000 non-null  int64  \n",
      " 8   isactivemember   10000 non-null  int64  \n",
      " 9   estimatedsalary  10000 non-null  float64\n",
      " 10  exited           10000 non-null  int64  \n",
      "dtypes: float64(3), int64(6), object(2)\n",
      "memory usage: 859.5+ KB\n"
     ]
    }
   ],
   "source": [
    "df['tenure'] = df['tenure'].fillna(df['tenure'].mean())\n",
    "\n",
    "df.info()"
   ]
  },
  {
   "cell_type": "markdown",
   "metadata": {},
   "source": [
    "Проверим данные на дубликаты."
   ]
  },
  {
   "cell_type": "code",
   "execution_count": 660,
   "metadata": {},
   "outputs": [
    {
     "data": {
      "text/plain": [
       "0"
      ]
     },
     "execution_count": 660,
     "metadata": {},
     "output_type": "execute_result"
    }
   ],
   "source": [
    "df.duplicated().sum()"
   ]
  },
  {
   "cell_type": "markdown",
   "metadata": {},
   "source": [
    "Дубликатов нет."
   ]
  },
  {
   "cell_type": "markdown",
   "metadata": {},
   "source": [
    "Вывод пункта 1:\n",
    " \n",
    "- Нам дан датафрейм в 10 000 строк и 14 столбцов\n",
    "- Пропуски есть только в столбце tenure в количестве 909 строк\n",
    "- Дубликатов нет\n",
    "\n",
    "Было сделано:\n",
    "\n",
    "- Приведены названия столбцов и их содержимого к нижнему регистру\n",
    "- Удалены стоблцы 'rownumber'- номер строки, 'customerid' - id клиента, 'surname' - фамилия клиента, как не важные для дальнейших исследований\n",
    "- Заполнены пропуски в столбце tenure - общий срок обслуживания клиента в банке - средним значением по столбцу.\n",
    "- Получена на выходе база с 10 000 строк и 11 столбцов"
   ]
  },
  {
   "cell_type": "markdown",
   "metadata": {},
   "source": [
    "## Исследование задачи"
   ]
  },
  {
   "cell_type": "markdown",
   "metadata": {},
   "source": [
    "Целевой признак, для предсказания которого мы будем строить модель -  exited — факт ухода клиента.\n",
    "\n",
    "Для начала посмотрим какую долю составляет положительный (равный 1) целевой признак в наших данных."
   ]
  },
  {
   "cell_type": "code",
   "execution_count": 661,
   "metadata": {},
   "outputs": [
    {
     "data": {
      "image/png": "[encoded data removed]",
      "text/plain": [
       "<Figure size 504x504 with 1 Axes>"
      ]
     },
     "metadata": {},
     "output_type": "display_data"
    }
   ],
   "source": [
    "sizes = df['exited'].value_counts(sort = True)\n",
    "colors = [\"grey\",\"purple\"] \n",
    "fig, axes = plt.subplots(1, figsize = (7,7))\n",
    "labels= ['остались', 'ушли']\n",
    "\n",
    "plt.pie(sizes, \n",
    "        colors=colors,\n",
    "        autopct='%1.1f%%',\n",
    "        startangle=270,\n",
    "        wedgeprops={'linewidth': 3.0, 'edgecolor': 'white'},\n",
    "        textprops={'size': 'x-large'}, \n",
    "        labels = labels,\n",
    "        )\n",
    "\n",
    "plt.title('Доля ушедших клиентов банка в исходных данных')\n",
    "plt.show()"
   ]
  },
  {
   "cell_type": "markdown",
   "metadata": {},
   "source": [
    "Наблюдаем дисбаланс классов. Для начала построим модели при дисбалансе классов."
   ]
  },
  {
   "cell_type": "markdown",
   "metadata": {},
   "source": [
    "### Подготовка данных для обучения модели"
   ]
  },
  {
   "cell_type": "markdown",
   "metadata": {},
   "source": [
    "Для дальнейшего исследования необходимо подготовить данные для обучения модели. Перевести категоривальные данные в числовые, произвести масштабирование и разбить данные на тестову, валидационную и обучающие выборки.\n",
    "\n",
    "Два столбца наших данных имеют тип object. Проверим уникальные значения столбцов  geography и gender."
   ]
  },
  {
   "cell_type": "code",
   "execution_count": 662,
   "metadata": {},
   "outputs": [
    {
     "name": "stdout",
     "output_type": "stream",
     "text": [
      "male      5457\n",
      "female    4543\n",
      "Name: gender, dtype: int64\n",
      "france     5014\n",
      "germany    2509\n",
      "spain      2477\n",
      "Name: geography, dtype: int64\n"
     ]
    }
   ],
   "source": [
    "print(df['gender'].value_counts())\n",
    "\n",
    "print(df['geography'].value_counts())"
   ]
  },
  {
   "cell_type": "markdown",
   "metadata": {},
   "source": [
    "Для обучения модели нам необходимо перевести данные в этих столбцах в цифровые значения. Воспользуемся One-Hot Encoding, тк этот метод кодирования данных подходит для всех моделей. Чтобы избежать мультиколлинеарности новых столбцов, ставим drop_first=True.\n",
    "\n",
    "Тк в столбце gender доминирущее значение - male - оно будет взято по умолчанию. В geography - значение по умолчанию france."
   ]
  },
  {
   "cell_type": "code",
   "execution_count": 663,
   "metadata": {},
   "outputs": [
    {
     "data": {
      "text/html": [
       "<div>\n",
       "<style scoped>\n",
       "    .dataframe tbody tr th:only-of-type {\n",
       "        vertical-align: middle;\n",
       "    }\n",
       "\n",
       "    .dataframe tbody tr th {\n",
       "        vertical-align: top;\n",
       "    }\n",
       "\n",
       "    .dataframe thead th {\n",
       "        text-align: right;\n",
       "    }\n",
       "</style>\n",
       "<table border=\"1\" class=\"dataframe\">\n",
       "  <thead>\n",
       "    <tr style=\"text-align: right;\">\n",
       "      <th></th>\n",
       "      <th>creditscore</th>\n",
       "      <th>age</th>\n",
       "      <th>tenure</th>\n",
       "      <th>balance</th>\n",
       "      <th>numofproducts</th>\n",
       "      <th>hascrcard</th>\n",
       "      <th>isactivemember</th>\n",
       "      <th>estimatedsalary</th>\n",
       "      <th>exited</th>\n",
       "      <th>gender_male</th>\n",
       "      <th>geography_germany</th>\n",
       "      <th>geography_spain</th>\n",
       "    </tr>\n",
       "  </thead>\n",
       "  <tbody>\n",
       "    <tr>\n",
       "      <th>0</th>\n",
       "      <td>619</td>\n",
       "      <td>42</td>\n",
       "      <td>2.0</td>\n",
       "      <td>0.00</td>\n",
       "      <td>1</td>\n",
       "      <td>1</td>\n",
       "      <td>1</td>\n",
       "      <td>101348.88</td>\n",
       "      <td>1</td>\n",
       "      <td>0</td>\n",
       "      <td>0</td>\n",
       "      <td>0</td>\n",
       "    </tr>\n",
       "    <tr>\n",
       "      <th>1</th>\n",
       "      <td>608</td>\n",
       "      <td>41</td>\n",
       "      <td>1.0</td>\n",
       "      <td>83807.86</td>\n",
       "      <td>1</td>\n",
       "      <td>0</td>\n",
       "      <td>1</td>\n",
       "      <td>112542.58</td>\n",
       "      <td>0</td>\n",
       "      <td>0</td>\n",
       "      <td>0</td>\n",
       "      <td>1</td>\n",
       "    </tr>\n",
       "    <tr>\n",
       "      <th>2</th>\n",
       "      <td>502</td>\n",
       "      <td>42</td>\n",
       "      <td>8.0</td>\n",
       "      <td>159660.80</td>\n",
       "      <td>3</td>\n",
       "      <td>1</td>\n",
       "      <td>0</td>\n",
       "      <td>113931.57</td>\n",
       "      <td>1</td>\n",
       "      <td>0</td>\n",
       "      <td>0</td>\n",
       "      <td>0</td>\n",
       "    </tr>\n",
       "    <tr>\n",
       "      <th>3</th>\n",
       "      <td>699</td>\n",
       "      <td>39</td>\n",
       "      <td>1.0</td>\n",
       "      <td>0.00</td>\n",
       "      <td>2</td>\n",
       "      <td>0</td>\n",
       "      <td>0</td>\n",
       "      <td>93826.63</td>\n",
       "      <td>0</td>\n",
       "      <td>0</td>\n",
       "      <td>0</td>\n",
       "      <td>0</td>\n",
       "    </tr>\n",
       "    <tr>\n",
       "      <th>4</th>\n",
       "      <td>850</td>\n",
       "      <td>43</td>\n",
       "      <td>2.0</td>\n",
       "      <td>125510.82</td>\n",
       "      <td>1</td>\n",
       "      <td>1</td>\n",
       "      <td>1</td>\n",
       "      <td>79084.10</td>\n",
       "      <td>0</td>\n",
       "      <td>0</td>\n",
       "      <td>0</td>\n",
       "      <td>1</td>\n",
       "    </tr>\n",
       "  </tbody>\n",
       "</table>\n",
       "</div>"
      ],
      "text/plain": [
       "   creditscore  age  tenure    balance  numofproducts  hascrcard  \\\n",
       "0          619   42     2.0       0.00              1          1   \n",
       "1          608   41     1.0   83807.86              1          0   \n",
       "2          502   42     8.0  159660.80              3          1   \n",
       "3          699   39     1.0       0.00              2          0   \n",
       "4          850   43     2.0  125510.82              1          1   \n",
       "\n",
       "   isactivemember  estimatedsalary  exited  gender_male  geography_germany  \\\n",
       "0               1        101348.88       1            0                  0   \n",
       "1               1        112542.58       0            0                  0   \n",
       "2               0        113931.57       1            0                  0   \n",
       "3               0         93826.63       0            0                  0   \n",
       "4               1         79084.10       0            0                  0   \n",
       "\n",
       "   geography_spain  \n",
       "0                0  \n",
       "1                1  \n",
       "2                0  \n",
       "3                0  \n",
       "4                1  "
      ]
     },
     "execution_count": 663,
     "metadata": {},
     "output_type": "execute_result"
    }
   ],
   "source": [
    "df_dum = pd.get_dummies(df, drop_first=True, columns=['gender', 'geography'])\n",
    "\n",
    "df_dum.head()"
   ]
  },
  {
   "cell_type": "code",
   "execution_count": 664,
   "metadata": {},
   "outputs": [
    {
     "name": "stdout",
     "output_type": "stream",
     "text": [
      "<class 'pandas.core.frame.DataFrame'>\n",
      "RangeIndex: 10000 entries, 0 to 9999\n",
      "Data columns (total 12 columns):\n",
      " #   Column             Non-Null Count  Dtype  \n",
      "---  ------             --------------  -----  \n",
      " 0   creditscore        10000 non-null  int64  \n",
      " 1   age                10000 non-null  int64  \n",
      " 2   tenure             10000 non-null  float64\n",
      " 3   balance            10000 non-null  float64\n",
      " 4   numofproducts      10000 non-null  int64  \n",
      " 5   hascrcard          10000 non-null  int64  \n",
      " 6   isactivemember     10000 non-null  int64  \n",
      " 7   estimatedsalary    10000 non-null  float64\n",
      " 8   exited             10000 non-null  int64  \n",
      " 9   gender_male        10000 non-null  uint8  \n",
      " 10  geography_germany  10000 non-null  uint8  \n",
      " 11  geography_spain    10000 non-null  uint8  \n",
      "dtypes: float64(3), int64(6), uint8(3)\n",
      "memory usage: 732.5 KB\n"
     ]
    }
   ],
   "source": [
    "# узнаем размер полученного датафрейма\n",
    "\n",
    "df_dum.info()"
   ]
  },
  {
   "cell_type": "markdown",
   "metadata": {},
   "source": [
    "Разделим данные на обучающую и валидационную выборки . Произведем маштабирование данных."
   ]
  },
  {
   "cell_type": "code",
   "execution_count": 665,
   "metadata": {},
   "outputs": [],
   "source": [
    "target = df_dum['exited']\n",
    "features = df_dum.drop('exited', axis=1)\n",
    "features_train, features_x, target_train, target_x = train_test_split(\n",
    "    features, target, test_size=0.4, random_state=12345) \n",
    "\n",
    "features_valid, features_test,  target_valid, target_test = train_test_split(\n",
    "    features_x, target_x, test_size=0.5, random_state=12345)"
   ]
  },
  {
   "cell_type": "code",
   "execution_count": 666,
   "metadata": {},
   "outputs": [
    {
     "name": "stdout",
     "output_type": "stream",
     "text": [
      "features: (10000, 11)\n",
      "target: (10000,)\n",
      "features_train: (6000, 11)\n",
      "target_train: (6000,)\n",
      "features_valid: (2000, 11)\n",
      "target_valid: (2000,)\n",
      "features_test: (2000, 11)\n",
      "target_test: (2000,)\n"
     ]
    }
   ],
   "source": [
    "# проверим выборки на размерность\n",
    "\n",
    "print('features:', features.shape)\n",
    "print('target:', target.shape)\n",
    "\n",
    "print('features_train:', features_train.shape)\n",
    "print('target_train:', target_train.shape)\n",
    "\n",
    "print('features_valid:', features_valid.shape)\n",
    "print('target_valid:', target_valid.shape)\n",
    "\n",
    "print('features_test:', features_test.shape)\n",
    "print('target_test:', target_test.shape)"
   ]
  },
  {
   "cell_type": "code",
   "execution_count": 667,
   "metadata": {},
   "outputs": [
    {
     "name": "stdout",
     "output_type": "stream",
     "text": [
      "features_train: (6000, 11)\n",
      "features_valid: (2000, 11)\n",
      "features_test: (2000, 11)\n"
     ]
    }
   ],
   "source": [
    "# столбцы, данные в которых необходимо масштабировать\n",
    "\n",
    "numeric = ['creditscore', 'age', 'tenure', 'balance', 'numofproducts', 'estimatedsalary']\n",
    "\n",
    "scaler = StandardScaler()\n",
    "scaler.fit(features_train[numeric]) \n",
    "pd.options.mode.chained_assignment = None\n",
    "\n",
    "features_train[numeric] = scaler.transform(features_train[numeric])\n",
    "\n",
    "features_valid[numeric]= scaler.transform(features_valid[numeric])\n",
    "\n",
    "features_test[numeric]= scaler.transform(features_test[numeric])\n",
    "\n",
    "print('features_train:', features_train.shape)\n",
    "print('features_valid:', features_valid.shape)\n",
    "print('features_test:', features_test.shape)"
   ]
  },
  {
   "cell_type": "code",
   "execution_count": 668,
   "metadata": {},
   "outputs": [
    {
     "data": {
      "text/html": [
       "<div>\n",
       "<style scoped>\n",
       "    .dataframe tbody tr th:only-of-type {\n",
       "        vertical-align: middle;\n",
       "    }\n",
       "\n",
       "    .dataframe tbody tr th {\n",
       "        vertical-align: top;\n",
       "    }\n",
       "\n",
       "    .dataframe thead th {\n",
       "        text-align: right;\n",
       "    }\n",
       "</style>\n",
       "<table border=\"1\" class=\"dataframe\">\n",
       "  <thead>\n",
       "    <tr style=\"text-align: right;\">\n",
       "      <th></th>\n",
       "      <th>creditscore</th>\n",
       "      <th>age</th>\n",
       "      <th>tenure</th>\n",
       "      <th>balance</th>\n",
       "      <th>numofproducts</th>\n",
       "      <th>hascrcard</th>\n",
       "      <th>isactivemember</th>\n",
       "      <th>estimatedsalary</th>\n",
       "      <th>gender_male</th>\n",
       "      <th>geography_germany</th>\n",
       "      <th>geography_spain</th>\n",
       "    </tr>\n",
       "  </thead>\n",
       "  <tbody>\n",
       "    <tr>\n",
       "      <th>7479</th>\n",
       "      <td>-0.886751</td>\n",
       "      <td>-0.373192</td>\n",
       "      <td>1.082354</td>\n",
       "      <td>1.232271</td>\n",
       "      <td>-0.891560</td>\n",
       "      <td>1</td>\n",
       "      <td>0</td>\n",
       "      <td>-0.187705</td>\n",
       "      <td>1</td>\n",
       "      <td>0</td>\n",
       "      <td>1</td>\n",
       "    </tr>\n",
       "    <tr>\n",
       "      <th>3411</th>\n",
       "      <td>0.608663</td>\n",
       "      <td>-0.183385</td>\n",
       "      <td>1.082354</td>\n",
       "      <td>0.600563</td>\n",
       "      <td>-0.891560</td>\n",
       "      <td>0</td>\n",
       "      <td>0</td>\n",
       "      <td>-0.333945</td>\n",
       "      <td>0</td>\n",
       "      <td>0</td>\n",
       "      <td>0</td>\n",
       "    </tr>\n",
       "    <tr>\n",
       "      <th>6027</th>\n",
       "      <td>2.052152</td>\n",
       "      <td>0.480939</td>\n",
       "      <td>-0.737618</td>\n",
       "      <td>1.027098</td>\n",
       "      <td>0.830152</td>\n",
       "      <td>0</td>\n",
       "      <td>1</td>\n",
       "      <td>1.503095</td>\n",
       "      <td>1</td>\n",
       "      <td>1</td>\n",
       "      <td>0</td>\n",
       "    </tr>\n",
       "    <tr>\n",
       "      <th>1247</th>\n",
       "      <td>-1.457915</td>\n",
       "      <td>-1.417129</td>\n",
       "      <td>0.354365</td>\n",
       "      <td>-1.233163</td>\n",
       "      <td>0.830152</td>\n",
       "      <td>1</td>\n",
       "      <td>0</td>\n",
       "      <td>-1.071061</td>\n",
       "      <td>1</td>\n",
       "      <td>0</td>\n",
       "      <td>0</td>\n",
       "    </tr>\n",
       "    <tr>\n",
       "      <th>3716</th>\n",
       "      <td>0.130961</td>\n",
       "      <td>-1.132419</td>\n",
       "      <td>-1.101612</td>\n",
       "      <td>1.140475</td>\n",
       "      <td>-0.891560</td>\n",
       "      <td>0</td>\n",
       "      <td>0</td>\n",
       "      <td>1.524268</td>\n",
       "      <td>0</td>\n",
       "      <td>1</td>\n",
       "      <td>0</td>\n",
       "    </tr>\n",
       "  </tbody>\n",
       "</table>\n",
       "</div>"
      ],
      "text/plain": [
       "      creditscore       age    tenure   balance  numofproducts  hascrcard  \\\n",
       "7479    -0.886751 -0.373192  1.082354  1.232271      -0.891560          1   \n",
       "3411     0.608663 -0.183385  1.082354  0.600563      -0.891560          0   \n",
       "6027     2.052152  0.480939 -0.737618  1.027098       0.830152          0   \n",
       "1247    -1.457915 -1.417129  0.354365 -1.233163       0.830152          1   \n",
       "3716     0.130961 -1.132419 -1.101612  1.140475      -0.891560          0   \n",
       "\n",
       "      isactivemember  estimatedsalary  gender_male  geography_germany  \\\n",
       "7479               0        -0.187705            1                  0   \n",
       "3411               0        -0.333945            0                  0   \n",
       "6027               1         1.503095            1                  1   \n",
       "1247               0        -1.071061            1                  0   \n",
       "3716               0         1.524268            0                  1   \n",
       "\n",
       "      geography_spain  \n",
       "7479                1  \n",
       "3411                0  \n",
       "6027                0  \n",
       "1247                0  \n",
       "3716                0  "
      ]
     },
     "execution_count": 668,
     "metadata": {},
     "output_type": "execute_result"
    }
   ],
   "source": [
    "features_train.head()"
   ]
  },
  {
   "cell_type": "code",
   "execution_count": 669,
   "metadata": {},
   "outputs": [
    {
     "data": {
      "text/html": [
       "<div>\n",
       "<style scoped>\n",
       "    .dataframe tbody tr th:only-of-type {\n",
       "        vertical-align: middle;\n",
       "    }\n",
       "\n",
       "    .dataframe tbody tr th {\n",
       "        vertical-align: top;\n",
       "    }\n",
       "\n",
       "    .dataframe thead th {\n",
       "        text-align: right;\n",
       "    }\n",
       "</style>\n",
       "<table border=\"1\" class=\"dataframe\">\n",
       "  <thead>\n",
       "    <tr style=\"text-align: right;\">\n",
       "      <th></th>\n",
       "      <th>creditscore</th>\n",
       "      <th>age</th>\n",
       "      <th>tenure</th>\n",
       "      <th>balance</th>\n",
       "      <th>numofproducts</th>\n",
       "      <th>hascrcard</th>\n",
       "      <th>isactivemember</th>\n",
       "      <th>estimatedsalary</th>\n",
       "      <th>gender_male</th>\n",
       "      <th>geography_germany</th>\n",
       "      <th>geography_spain</th>\n",
       "    </tr>\n",
       "  </thead>\n",
       "  <tbody>\n",
       "    <tr>\n",
       "      <th>8532</th>\n",
       "      <td>-0.699824</td>\n",
       "      <td>-0.373192</td>\n",
       "      <td>-1.101612</td>\n",
       "      <td>-1.233163</td>\n",
       "      <td>0.830152</td>\n",
       "      <td>1</td>\n",
       "      <td>0</td>\n",
       "      <td>-0.015173</td>\n",
       "      <td>0</td>\n",
       "      <td>0</td>\n",
       "      <td>0</td>\n",
       "    </tr>\n",
       "    <tr>\n",
       "      <th>5799</th>\n",
       "      <td>-0.284431</td>\n",
       "      <td>0.575842</td>\n",
       "      <td>-0.737618</td>\n",
       "      <td>-1.233163</td>\n",
       "      <td>-0.891560</td>\n",
       "      <td>1</td>\n",
       "      <td>1</td>\n",
       "      <td>1.471724</td>\n",
       "      <td>0</td>\n",
       "      <td>0</td>\n",
       "      <td>0</td>\n",
       "    </tr>\n",
       "    <tr>\n",
       "      <th>5511</th>\n",
       "      <td>0.151731</td>\n",
       "      <td>-0.657902</td>\n",
       "      <td>-1.829601</td>\n",
       "      <td>0.438711</td>\n",
       "      <td>-0.891560</td>\n",
       "      <td>1</td>\n",
       "      <td>0</td>\n",
       "      <td>-1.367107</td>\n",
       "      <td>1</td>\n",
       "      <td>1</td>\n",
       "      <td>0</td>\n",
       "    </tr>\n",
       "    <tr>\n",
       "      <th>7365</th>\n",
       "      <td>-0.876366</td>\n",
       "      <td>-0.278288</td>\n",
       "      <td>1.810342</td>\n",
       "      <td>1.239884</td>\n",
       "      <td>-0.891560</td>\n",
       "      <td>1</td>\n",
       "      <td>1</td>\n",
       "      <td>-0.786517</td>\n",
       "      <td>0</td>\n",
       "      <td>0</td>\n",
       "      <td>1</td>\n",
       "    </tr>\n",
       "    <tr>\n",
       "      <th>7367</th>\n",
       "      <td>-0.481743</td>\n",
       "      <td>0.291132</td>\n",
       "      <td>1.810342</td>\n",
       "      <td>-1.233163</td>\n",
       "      <td>0.830152</td>\n",
       "      <td>1</td>\n",
       "      <td>0</td>\n",
       "      <td>1.358533</td>\n",
       "      <td>1</td>\n",
       "      <td>0</td>\n",
       "      <td>1</td>\n",
       "    </tr>\n",
       "  </tbody>\n",
       "</table>\n",
       "</div>"
      ],
      "text/plain": [
       "      creditscore       age    tenure   balance  numofproducts  hascrcard  \\\n",
       "8532    -0.699824 -0.373192 -1.101612 -1.233163       0.830152          1   \n",
       "5799    -0.284431  0.575842 -0.737618 -1.233163      -0.891560          1   \n",
       "5511     0.151731 -0.657902 -1.829601  0.438711      -0.891560          1   \n",
       "7365    -0.876366 -0.278288  1.810342  1.239884      -0.891560          1   \n",
       "7367    -0.481743  0.291132  1.810342 -1.233163       0.830152          1   \n",
       "\n",
       "      isactivemember  estimatedsalary  gender_male  geography_germany  \\\n",
       "8532               0        -0.015173            0                  0   \n",
       "5799               1         1.471724            0                  0   \n",
       "5511               0        -1.367107            1                  1   \n",
       "7365               1        -0.786517            0                  0   \n",
       "7367               0         1.358533            1                  0   \n",
       "\n",
       "      geography_spain  \n",
       "8532                0  \n",
       "5799                0  \n",
       "5511                0  \n",
       "7365                1  \n",
       "7367                1  "
      ]
     },
     "execution_count": 669,
     "metadata": {},
     "output_type": "execute_result"
    }
   ],
   "source": [
    "features_valid.head()"
   ]
  },
  {
   "cell_type": "code",
   "execution_count": 670,
   "metadata": {},
   "outputs": [
    {
     "data": {
      "text/html": [
       "<div>\n",
       "<style scoped>\n",
       "    .dataframe tbody tr th:only-of-type {\n",
       "        vertical-align: middle;\n",
       "    }\n",
       "\n",
       "    .dataframe tbody tr th {\n",
       "        vertical-align: top;\n",
       "    }\n",
       "\n",
       "    .dataframe thead th {\n",
       "        text-align: right;\n",
       "    }\n",
       "</style>\n",
       "<table border=\"1\" class=\"dataframe\">\n",
       "  <thead>\n",
       "    <tr style=\"text-align: right;\">\n",
       "      <th></th>\n",
       "      <th>creditscore</th>\n",
       "      <th>age</th>\n",
       "      <th>tenure</th>\n",
       "      <th>balance</th>\n",
       "      <th>numofproducts</th>\n",
       "      <th>hascrcard</th>\n",
       "      <th>isactivemember</th>\n",
       "      <th>estimatedsalary</th>\n",
       "      <th>gender_male</th>\n",
       "      <th>geography_germany</th>\n",
       "      <th>geography_spain</th>\n",
       "    </tr>\n",
       "  </thead>\n",
       "  <tbody>\n",
       "    <tr>\n",
       "      <th>7041</th>\n",
       "      <td>-2.226392</td>\n",
       "      <td>-0.088482</td>\n",
       "      <td>-1.101612</td>\n",
       "      <td>-1.233163</td>\n",
       "      <td>0.830152</td>\n",
       "      <td>1</td>\n",
       "      <td>0</td>\n",
       "      <td>0.647083</td>\n",
       "      <td>1</td>\n",
       "      <td>0</td>\n",
       "      <td>0</td>\n",
       "    </tr>\n",
       "    <tr>\n",
       "      <th>5709</th>\n",
       "      <td>-0.087120</td>\n",
       "      <td>0.006422</td>\n",
       "      <td>1.446348</td>\n",
       "      <td>-1.233163</td>\n",
       "      <td>-0.891560</td>\n",
       "      <td>1</td>\n",
       "      <td>0</td>\n",
       "      <td>-1.658410</td>\n",
       "      <td>0</td>\n",
       "      <td>0</td>\n",
       "      <td>0</td>\n",
       "    </tr>\n",
       "    <tr>\n",
       "      <th>7117</th>\n",
       "      <td>-0.917905</td>\n",
       "      <td>-0.752805</td>\n",
       "      <td>-0.009629</td>\n",
       "      <td>0.722307</td>\n",
       "      <td>-0.891560</td>\n",
       "      <td>1</td>\n",
       "      <td>1</td>\n",
       "      <td>-1.369334</td>\n",
       "      <td>1</td>\n",
       "      <td>0</td>\n",
       "      <td>1</td>\n",
       "    </tr>\n",
       "    <tr>\n",
       "      <th>7775</th>\n",
       "      <td>-0.253277</td>\n",
       "      <td>0.101325</td>\n",
       "      <td>1.810342</td>\n",
       "      <td>-1.233163</td>\n",
       "      <td>0.830152</td>\n",
       "      <td>1</td>\n",
       "      <td>0</td>\n",
       "      <td>0.075086</td>\n",
       "      <td>1</td>\n",
       "      <td>0</td>\n",
       "      <td>1</td>\n",
       "    </tr>\n",
       "    <tr>\n",
       "      <th>8735</th>\n",
       "      <td>0.785204</td>\n",
       "      <td>-0.847708</td>\n",
       "      <td>1.810342</td>\n",
       "      <td>0.615625</td>\n",
       "      <td>-0.891560</td>\n",
       "      <td>0</td>\n",
       "      <td>1</td>\n",
       "      <td>-1.070919</td>\n",
       "      <td>1</td>\n",
       "      <td>0</td>\n",
       "      <td>0</td>\n",
       "    </tr>\n",
       "  </tbody>\n",
       "</table>\n",
       "</div>"
      ],
      "text/plain": [
       "      creditscore       age    tenure   balance  numofproducts  hascrcard  \\\n",
       "7041    -2.226392 -0.088482 -1.101612 -1.233163       0.830152          1   \n",
       "5709    -0.087120  0.006422  1.446348 -1.233163      -0.891560          1   \n",
       "7117    -0.917905 -0.752805 -0.009629  0.722307      -0.891560          1   \n",
       "7775    -0.253277  0.101325  1.810342 -1.233163       0.830152          1   \n",
       "8735     0.785204 -0.847708  1.810342  0.615625      -0.891560          0   \n",
       "\n",
       "      isactivemember  estimatedsalary  gender_male  geography_germany  \\\n",
       "7041               0         0.647083            1                  0   \n",
       "5709               0        -1.658410            0                  0   \n",
       "7117               1        -1.369334            1                  0   \n",
       "7775               0         0.075086            1                  0   \n",
       "8735               1        -1.070919            1                  0   \n",
       "\n",
       "      geography_spain  \n",
       "7041                0  \n",
       "5709                0  \n",
       "7117                1  \n",
       "7775                1  \n",
       "8735                0  "
      ]
     },
     "execution_count": 670,
     "metadata": {},
     "output_type": "execute_result"
    }
   ],
   "source": [
    "features_test.head()"
   ]
  },
  {
   "cell_type": "markdown",
   "metadata": {},
   "source": [
    "### Построение модели при дисбалансе классов"
   ]
  },
  {
   "cell_type": "markdown",
   "metadata": {},
   "source": [
    "Построим модели при дисбалансе классов. Выберем лучший вариант из моделей при различный параметрах, ориентируясь на F1-меру, согласно заданию."
   ]
  },
  {
   "cell_type": "markdown",
   "metadata": {},
   "source": [
    "#### Дерево решений"
   ]
  },
  {
   "cell_type": "code",
   "execution_count": 671,
   "metadata": {},
   "outputs": [
    {
     "name": "stdout",
     "output_type": "stream",
     "text": [
      "Оптимальная глубина дерева: 6\n",
      "F1 модели: 0.5650349650349651\n"
     ]
    }
   ],
   "source": [
    "best_model = None\n",
    "best_f1 = 0\n",
    "\n",
    "for depth in range(1, 10):\n",
    "    model_tree = DecisionTreeClassifier(random_state=12345,\n",
    "                                        max_depth=depth)\n",
    "    \n",
    "    model_tree.fit(features_train, target_train)\n",
    "    predictions_valid_tree = model_tree.predict(features_valid)\n",
    "    f1_tree = f1_score(target_valid, predictions_valid_tree)\n",
    "    \n",
    "    if f1_tree > best_f1:\n",
    "        best_model = model_tree\n",
    "        best_depth = depth\n",
    "        best_f1 = f1_tree\n",
    "\n",
    "print('Оптимальная глубина дерева:', best_depth) \n",
    "print('F1 модели:', f1_tree)"
   ]
  },
  {
   "cell_type": "code",
   "execution_count": 672,
   "metadata": {},
   "outputs": [
    {
     "name": "stdout",
     "output_type": "stream",
     "text": [
      "Accuracy: 0.858\n",
      "F1: 0.5696969696969697\n",
      "AUC-ROC: 0.8164631712023421\n"
     ]
    }
   ],
   "source": [
    "# обучим модель с оптимальными значениями гиперпараметров, посчитаем F1, Accuracy и AUC-ROC модели\n",
    "\n",
    "model_tree = DecisionTreeClassifier(random_state=12345,\n",
    "                                    max_depth=6)\n",
    "\n",
    "model_tree.fit(features_train, target_train)\n",
    "predictions_valid_tree = model_tree.predict(features_valid)\n",
    "\n",
    "print(\"Accuracy:\", accuracy_score(target_valid, predictions_valid_tree))\n",
    "print(\"F1:\", f1_score(target_valid, predictions_valid_tree))\n",
    "\n",
    "probabilities_valid_tree = model_tree.predict_proba(features_valid)\n",
    "probabilities_one_valid_tree = probabilities_valid_tree[:, 1]\n",
    "\n",
    "auc_roc_tree = roc_auc_score(target_valid, probabilities_one_valid_tree)\n",
    "\n",
    "print('AUC-ROC:', auc_roc_tree)"
   ]
  },
  {
   "cell_type": "code",
   "execution_count": 673,
   "metadata": {},
   "outputs": [
    {
     "data": {
      "text/plain": [
       "Text(0.5, 1.0, 'ROC-кривая для дерева решений несбалансированных классов')"
      ]
     },
     "execution_count": 673,
     "metadata": {},
     "output_type": "execute_result"
    },
    {
     "data": {
      "image/png": "[encoded data removed]",
      "text/plain": [
       "<Figure size 432x288 with 1 Axes>"
      ]
     },
     "metadata": {
      "needs_background": "light"
     },
     "output_type": "display_data"
    }
   ],
   "source": [
    "# построим график\n",
    "\n",
    "fpr, tpr, thresholds = roc_curve(target_valid, probabilities_one_valid_tree) \n",
    "\n",
    "plt.figure()\n",
    "plt.plot([0, 1], [0, 1], linestyle='--')\n",
    "plt.plot(fpr, tpr)\n",
    "plt.xlim([0.0, 1.0])\n",
    "plt.ylim([0.0, 1.0])\n",
    "plt.xlabel('False Positive Rate')\n",
    "plt.ylabel('True Positive Rate')\n",
    "plt.title('ROC-кривая для дерева решений несбалансированных классов')"
   ]
  },
  {
   "cell_type": "markdown",
   "metadata": {},
   "source": [
    "#### Случайный лес"
   ]
  },
  {
   "cell_type": "code",
   "execution_count": 674,
   "metadata": {},
   "outputs": [
    {
     "name": "stdout",
     "output_type": "stream",
     "text": [
      "Оптимальное число деревьев: 100\n",
      "Оптимальная глубина дерева: 9\n",
      "F1 модели: 0.5741029641185648\n"
     ]
    }
   ],
   "source": [
    "# найдем оптимальное число деревьев для модели случайного леса для метрики F1\n",
    "\n",
    "best_model = None\n",
    "\n",
    "for est in range(10, 101, 10):\n",
    "    for depth in range(1, 10):\n",
    "        model_forest = RandomForestClassifier(random_state=12345,\n",
    "                                              n_estimators=est, \n",
    "                                              max_depth=depth)\n",
    "        model_forest.fit(features_train, target_train)\n",
    "        predictions_valid_forest = model_forest.predict(features_valid)\n",
    "        f1_forest = f1_score(target_valid, predictions_valid_forest)\n",
    "        if f1_forest > best_f1:\n",
    "            best_model = model_forest\n",
    "            best_est = est\n",
    "            best_depth = depth\n",
    "\n",
    "print('Оптимальное число деревьев:', best_est)\n",
    "print('Оптимальная глубина дерева:', best_depth)\n",
    "print('F1 модели:', f1_forest)"
   ]
  },
  {
   "cell_type": "code",
   "execution_count": 675,
   "metadata": {},
   "outputs": [
    {
     "name": "stdout",
     "output_type": "stream",
     "text": [
      "Accuracy: 0.8635\n",
      "F1: 0.5741029641185648\n",
      "AUC-ROC 0.8513994156751493\n"
     ]
    }
   ],
   "source": [
    "# обучим модель с оптимальными значениями гиперпараметров,  F1, Accuracy и AUC-ROC модели\n",
    "\n",
    "model_forest = RandomForestClassifier(random_state=12345,\n",
    "                                              n_estimators=100, \n",
    "                                              max_depth=9)\n",
    "\n",
    "model_forest.fit(features_train, target_train)\n",
    "predictions_valid_forest = model_forest.predict(features_valid)\n",
    "\n",
    "print(\"Accuracy:\", accuracy_score(target_valid, predictions_valid_forest))\n",
    "print(\"F1:\", f1_score(target_valid, predictions_valid_forest))\n",
    "\n",
    "probabilities_valid_forest = model_forest.predict_proba(features_valid)\n",
    "probabilities_one_valid_forest = probabilities_valid_forest[:, 1]\n",
    "\n",
    "auc_roc_forest = roc_auc_score(target_valid, probabilities_one_valid_forest)\n",
    "\n",
    "print('AUC-ROC',auc_roc_forest)"
   ]
  },
  {
   "cell_type": "code",
   "execution_count": 676,
   "metadata": {},
   "outputs": [
    {
     "data": {
      "text/plain": [
       "Text(0.5, 1.0, 'ROC-кривая для случайного леса несбалансированных классов')"
      ]
     },
     "execution_count": 676,
     "metadata": {},
     "output_type": "execute_result"
    },
    {
     "data": {
      "image/png": "[encoded data removed]",
      "text/plain": [
       "<Figure size 432x288 with 1 Axes>"
      ]
     },
     "metadata": {
      "needs_background": "light"
     },
     "output_type": "display_data"
    }
   ],
   "source": [
    "# построим график\n",
    "\n",
    "fpr, tpr, thresholds = roc_curve(target_valid, probabilities_one_valid_forest) \n",
    "\n",
    "plt.figure()\n",
    "plt.plot([0, 1], [0, 1], linestyle='--')\n",
    "plt.plot(fpr, tpr)\n",
    "plt.xlim([0.0, 1.0])\n",
    "plt.ylim([0.0, 1.0])\n",
    "plt.xlabel('False Positive Rate')\n",
    "plt.ylabel('True Positive Rate')\n",
    "plt.title('ROC-кривая для случайного леса несбалансированных классов')"
   ]
  },
  {
   "cell_type": "markdown",
   "metadata": {},
   "source": [
    "#### Логистическая регрессия"
   ]
  },
  {
   "cell_type": "code",
   "execution_count": 677,
   "metadata": {},
   "outputs": [
    {
     "name": "stdout",
     "output_type": "stream",
     "text": [
      "Accuracy: 0.802\n",
      "F1: 0.33108108108108103\n",
      "AUC-ROC: 0.7587497504824008\n"
     ]
    }
   ],
   "source": [
    "model_log = LogisticRegression(random_state=12345,\n",
    "                               solver='liblinear')\n",
    "model_log.fit(features_train, target_train)\n",
    "predictions_valid_log = model_log.predict(features_valid)\n",
    "\n",
    "print(\"Accuracy:\", accuracy_score(target_valid, predictions_valid_log))\n",
    "print(\"F1:\", f1_score(target_valid, predictions_valid_log))\n",
    "\n",
    "probabilities_valid_log = model_log.predict_proba(features_valid)\n",
    "probabilities_one_valid_log = probabilities_valid_log[:, 1]\n",
    "\n",
    "auc_roc_log= roc_auc_score(target_valid, probabilities_one_valid_log)\n",
    "\n",
    "print('AUC-ROC:', auc_roc_log)"
   ]
  },
  {
   "cell_type": "code",
   "execution_count": 678,
   "metadata": {},
   "outputs": [
    {
     "data": {
      "text/plain": [
       "Text(0.5, 1.0, 'ROC-кривая для логистической регрессии несбалансированных классов')"
      ]
     },
     "execution_count": 678,
     "metadata": {},
     "output_type": "execute_result"
    },
    {
     "data": {
      "image/png": "[encoded data removed]",
      "text/plain": [
       "<Figure size 432x288 with 1 Axes>"
      ]
     },
     "metadata": {
      "needs_background": "light"
     },
     "output_type": "display_data"
    }
   ],
   "source": [
    "# построим график\n",
    "\n",
    "fpr, tpr, thresholds = roc_curve(target_valid, probabilities_one_valid_forest) \n",
    "\n",
    "plt.figure()\n",
    "plt.plot([0, 1], [0, 1], linestyle='--')\n",
    "plt.plot(fpr, tpr)\n",
    "plt.xlim([0.0, 1.0])\n",
    "plt.ylim([0.0, 1.0])\n",
    "plt.xlabel('False Positive Rate')\n",
    "plt.ylabel('True Positive Rate')\n",
    "plt.title('ROC-кривая для логистической регрессии несбалансированных классов')"
   ]
  },
  {
   "cell_type": "markdown",
   "metadata": {},
   "source": [
    "Сравним показатели AUC-ROC для различных моделей, что мы применили."
   ]
  },
  {
   "cell_type": "code",
   "execution_count": 679,
   "metadata": {},
   "outputs": [
    {
     "data": {
      "text/html": [
       "<div>\n",
       "<style scoped>\n",
       "    .dataframe tbody tr th:only-of-type {\n",
       "        vertical-align: middle;\n",
       "    }\n",
       "\n",
       "    .dataframe tbody tr th {\n",
       "        vertical-align: top;\n",
       "    }\n",
       "\n",
       "    .dataframe thead th {\n",
       "        text-align: right;\n",
       "    }\n",
       "</style>\n",
       "<table border=\"1\" class=\"dataframe\">\n",
       "  <thead>\n",
       "    <tr style=\"text-align: right;\">\n",
       "      <th></th>\n",
       "      <th>Модель</th>\n",
       "      <th>AUC-ROC</th>\n",
       "    </tr>\n",
       "  </thead>\n",
       "  <tbody>\n",
       "    <tr>\n",
       "      <th>0</th>\n",
       "      <td>Tree</td>\n",
       "      <td>0.816463</td>\n",
       "    </tr>\n",
       "    <tr>\n",
       "      <th>1</th>\n",
       "      <td>Forest</td>\n",
       "      <td>0.851399</td>\n",
       "    </tr>\n",
       "    <tr>\n",
       "      <th>2</th>\n",
       "      <td>Logistic</td>\n",
       "      <td>0.758750</td>\n",
       "    </tr>\n",
       "  </tbody>\n",
       "</table>\n",
       "</div>"
      ],
      "text/plain": [
       "     Модель   AUC-ROC\n",
       "0      Tree  0.816463\n",
       "1    Forest  0.851399\n",
       "2  Logistic  0.758750"
      ]
     },
     "execution_count": 679,
     "metadata": {},
     "output_type": "execute_result"
    }
   ],
   "source": [
    "data_auc_disbalance_dic = {'Модель': ['Tree', 'Forest', 'Logistic'], 'AUC-ROC': [auc_roc_tree, auc_roc_forest, auc_roc_log]}\n",
    "data_auc_disbalance = pd.DataFrame(data_auc_disbalance_dic) \n",
    "\n",
    "data_auc_disbalance.head()"
   ]
  },
  {
   "cell_type": "markdown",
   "metadata": {},
   "source": [
    "Сравним показатели F1 для различных моделей, что мы применили."
   ]
  },
  {
   "cell_type": "code",
   "execution_count": 680,
   "metadata": {},
   "outputs": [
    {
     "data": {
      "text/html": [
       "<div>\n",
       "<style scoped>\n",
       "    .dataframe tbody tr th:only-of-type {\n",
       "        vertical-align: middle;\n",
       "    }\n",
       "\n",
       "    .dataframe tbody tr th {\n",
       "        vertical-align: top;\n",
       "    }\n",
       "\n",
       "    .dataframe thead th {\n",
       "        text-align: right;\n",
       "    }\n",
       "</style>\n",
       "<table border=\"1\" class=\"dataframe\">\n",
       "  <thead>\n",
       "    <tr style=\"text-align: right;\">\n",
       "      <th></th>\n",
       "      <th>Модель</th>\n",
       "      <th>F1</th>\n",
       "    </tr>\n",
       "  </thead>\n",
       "  <tbody>\n",
       "    <tr>\n",
       "      <th>0</th>\n",
       "      <td>Tree</td>\n",
       "      <td>0.569697</td>\n",
       "    </tr>\n",
       "    <tr>\n",
       "      <th>1</th>\n",
       "      <td>Forest</td>\n",
       "      <td>0.574103</td>\n",
       "    </tr>\n",
       "    <tr>\n",
       "      <th>2</th>\n",
       "      <td>Logistic</td>\n",
       "      <td>0.331081</td>\n",
       "    </tr>\n",
       "  </tbody>\n",
       "</table>\n",
       "</div>"
      ],
      "text/plain": [
       "     Модель        F1\n",
       "0      Tree  0.569697\n",
       "1    Forest  0.574103\n",
       "2  Logistic  0.331081"
      ]
     },
     "execution_count": 680,
     "metadata": {},
     "output_type": "execute_result"
    }
   ],
   "source": [
    "f1_tree = f1_score(target_valid, predictions_valid_tree)\n",
    "f1_forest = f1_score(target_valid, predictions_valid_forest)\n",
    "f1_log = f1_score(target_valid, predictions_valid_log)\n",
    "\n",
    "data_f1_disbalance_dic = {'Модель': ['Tree', 'Forest', 'Logistic'], 'F1': [f1_tree, f1_forest, f1_log]}\n",
    "data_f1_disbalance = pd.DataFrame(data_f1_disbalance_dic) \n",
    "\n",
    "data_f1_disbalance.head()"
   ]
  },
  {
   "cell_type": "markdown",
   "metadata": {},
   "source": [
    "Получили наилучший показатель F1 у модели случайного леса. Показатель AUC-ROC оказался самым высоким тоже для этой модели. Проверим матрицу ошибок для всех трех моделей."
   ]
  },
  {
   "cell_type": "markdown",
   "metadata": {},
   "source": [
    "### Матрица ошибок"
   ]
  },
  {
   "cell_type": "code",
   "execution_count": 681,
   "metadata": {
    "scrolled": true
   },
   "outputs": [
    {
     "data": {
      "image/png": "[encoded data removed]",
      "text/plain": [
       "<Figure size 1440x432 with 6 Axes>"
      ]
     },
     "metadata": {
      "needs_background": "light"
     },
     "output_type": "display_data"
    }
   ],
   "source": [
    "fig, ax = plt.subplots(1, 3, figsize = (20,6))\n",
    "fig.suptitle('Матрицы ошибок различных моделей при дисбалансе классов')\n",
    "\n",
    "\n",
    "\n",
    "#fig, ax = plot_confusion_matrix(conf_mat=binary1)\n",
    "#plt.show()\n",
    "\n",
    "plot_confusion_matrix(estimator=model_tree, \n",
    "                      X=features_valid,\n",
    "                      y_true=target_valid,\n",
    "                      normalize='true',\n",
    "                      cmap='Blues',\n",
    "                      ax = ax[0])\n",
    "\n",
    "ax[0].set_title(\"Model Tree\")\n",
    "\n",
    "plot_confusion_matrix(estimator=model_forest, \n",
    "                      X=features_valid,\n",
    "                      y_true=target_valid,\n",
    "                      normalize='true',\n",
    "                      cmap='Blues',\n",
    "                      ax = ax[1])\n",
    "\n",
    "ax[1].set_title(\"Model Forest\")\n",
    "\n",
    "plot_confusion_matrix(estimator=model_log, \n",
    "                      X=features_valid,\n",
    "                      y_true=target_valid,\n",
    "                      normalize='true',\n",
    "                      cmap='Blues',\n",
    "                      ax = ax[2])\n",
    "\n",
    "ax[2].set_title(\"Model Log\")\n",
    "\n",
    "plt.show()"
   ]
  },
  {
   "cell_type": "markdown",
   "metadata": {},
   "source": [
    "Матрицы ошибок для разных моделей при дисбалансе классов показывают в среднем одинаково хорошие показатели оставшихся клиентов -  95-97%  точности, при этом показатель ушедших клиентов предсказывают плохо. Хуже всего Логистическая регрессия - 23%, лучше всего Дерево решений - 45%."
   ]
  },
  {
   "cell_type": "markdown",
   "metadata": {},
   "source": [
    "Вывод шага 2:\n",
    "\n",
    "- Категориальные данные столбцов были переведены в числовые методом One-Hot Encoding\n",
    "- Подготовленные данные были масштабированы по столбцам 'creditscore', 'age', 'tenure', 'balance', 'numofproducts', 'estimatedsalary'\n",
    "- Данные были разделены на тестовую, валидационную и обучающую выборки в соотношении 60/20/20\n",
    "- У целевого признака наблюдается дисбаланс классов в пользу значения 0 (оставшиеся клиенты)\n",
    "- Построили модели Дерево решений, Случайный лес и Логистическая регрессия при дисбалансе классов с оптимальными показателями для метрики F1\n",
    "- Получили лучший показатель F1  для модели Случайный лес - 0.57\n",
    "- Построили матрицы ошибок для всех трех моделей - они показывают, что все три модели хорошо предсказывают доминирующий класс, но точность предсказания класса 1 (уход из банка) не превышает точности 45%"
   ]
  },
  {
   "cell_type": "markdown",
   "metadata": {},
   "source": [
    "## Борьба с дисбалансом"
   ]
  },
  {
   "cell_type": "markdown",
   "metadata": {},
   "source": [
    "Теперь сбалансируем данные. У нас для этого есть три способа:\n",
    "\n",
    "- Взвешивание классов\n",
    "- Увеличение выборки\n",
    "- Уменьшение выборки\n",
    "\n",
    "Для каждого способа построим модели Дерево решений, Случайный лес и Логистическая регрессия и проверим показатели параметра метрики F1 и посмотрим на значение AUC-ROC. Выведем матрицы ошибок."
   ]
  },
  {
   "cell_type": "markdown",
   "metadata": {},
   "source": [
    "### Взвешивание классов"
   ]
  },
  {
   "cell_type": "markdown",
   "metadata": {},
   "source": [
    "#### Логистическая регрессия"
   ]
  },
  {
   "cell_type": "code",
   "execution_count": 682,
   "metadata": {},
   "outputs": [
    {
     "name": "stdout",
     "output_type": "stream",
     "text": [
      "F1: 0.4888507718696398\n",
      "AUC-ROC: 0.7637295168734386\n"
     ]
    }
   ],
   "source": [
    "# посчитаем метрики для модели  Логистической регрессии при взвешивании классов\n",
    "\n",
    "model_log_bw = LogisticRegression(random_state=12345,\n",
    "                               solver='liblinear',\n",
    "                               class_weight='balanced')\n",
    "\n",
    "model_log_bw.fit(features_train, target_train)\n",
    "predictions_valid_log = model_log_bw.predict(features_valid)\n",
    "\n",
    "print(\"F1:\", f1_score(target_valid, predictions_valid_log))\n",
    "\n",
    "probabilities_valid = model_log_bw.predict_proba(features_valid)\n",
    "probabilities_one_valid = probabilities_valid[:, 1]\n",
    "\n",
    "print(\"AUC-ROC:\", roc_auc_score(target_valid, probabilities_one_valid))"
   ]
  },
  {
   "cell_type": "code",
   "execution_count": 683,
   "metadata": {},
   "outputs": [
    {
     "data": {
      "text/html": [
       "<div>\n",
       "<style scoped>\n",
       "    .dataframe tbody tr th:only-of-type {\n",
       "        vertical-align: middle;\n",
       "    }\n",
       "\n",
       "    .dataframe tbody tr th {\n",
       "        vertical-align: top;\n",
       "    }\n",
       "\n",
       "    .dataframe thead th {\n",
       "        text-align: right;\n",
       "    }\n",
       "</style>\n",
       "<table border=\"1\" class=\"dataframe\">\n",
       "  <thead>\n",
       "    <tr style=\"text-align: right;\">\n",
       "      <th></th>\n",
       "      <th>Модель F1</th>\n",
       "      <th>Без баланса</th>\n",
       "      <th>Взвешивание</th>\n",
       "      <th>Увеличение</th>\n",
       "      <th>Уменьшение</th>\n",
       "    </tr>\n",
       "  </thead>\n",
       "  <tbody>\n",
       "    <tr>\n",
       "      <th>0</th>\n",
       "      <td>Tree</td>\n",
       "      <td>0.569697</td>\n",
       "      <td>0.000000</td>\n",
       "      <td>0.0</td>\n",
       "      <td>0.0</td>\n",
       "    </tr>\n",
       "    <tr>\n",
       "      <th>1</th>\n",
       "      <td>Forest</td>\n",
       "      <td>0.574103</td>\n",
       "      <td>0.000000</td>\n",
       "      <td>0.0</td>\n",
       "      <td>0.0</td>\n",
       "    </tr>\n",
       "    <tr>\n",
       "      <th>2</th>\n",
       "      <td>Logistic</td>\n",
       "      <td>0.331081</td>\n",
       "      <td>0.488851</td>\n",
       "      <td>0.0</td>\n",
       "      <td>0.0</td>\n",
       "    </tr>\n",
       "  </tbody>\n",
       "</table>\n",
       "</div>"
      ],
      "text/plain": [
       "  Модель F1  Без баланса  Взвешивание  Увеличение  Уменьшение\n",
       "0      Tree     0.569697     0.000000         0.0         0.0\n",
       "1    Forest     0.574103     0.000000         0.0         0.0\n",
       "2  Logistic     0.331081     0.488851         0.0         0.0"
      ]
     },
     "execution_count": 683,
     "metadata": {},
     "output_type": "execute_result"
    }
   ],
   "source": [
    "# создадим датафрейм, чтобы потом сравнить все значения F1 для всех моделей и методом балансировки классов. Будем заполнять его\n",
    "# по мере подсчета значений\n",
    "\n",
    "f1_log_bw = f1_score(target_valid, predictions_valid_log)\n",
    "\n",
    "data_f1_balance_dic = {'Модель F1': ['Tree', 'Forest', 'Logistic'], 'Без баланса': [f1_tree, f1_forest, f1_log], \n",
    "                       'Взвешивание': [0,0,f1_log_bw],\n",
    "                      'Увеличение':[0.,0.,0.], 'Уменьшение': [0.,0.,0.]}\n",
    "\n",
    "data_f1_balance = pd.DataFrame(data_f1_balance_dic) \n",
    "\n",
    "data_f1_balance.head()"
   ]
  },
  {
   "cell_type": "code",
   "execution_count": 684,
   "metadata": {},
   "outputs": [
    {
     "data": {
      "text/html": [
       "<div>\n",
       "<style scoped>\n",
       "    .dataframe tbody tr th:only-of-type {\n",
       "        vertical-align: middle;\n",
       "    }\n",
       "\n",
       "    .dataframe tbody tr th {\n",
       "        vertical-align: top;\n",
       "    }\n",
       "\n",
       "    .dataframe thead th {\n",
       "        text-align: right;\n",
       "    }\n",
       "</style>\n",
       "<table border=\"1\" class=\"dataframe\">\n",
       "  <thead>\n",
       "    <tr style=\"text-align: right;\">\n",
       "      <th></th>\n",
       "      <th>Модель AUC</th>\n",
       "      <th>Без баланса</th>\n",
       "      <th>Взвешивание</th>\n",
       "      <th>Увеличение</th>\n",
       "      <th>Уменьшение</th>\n",
       "    </tr>\n",
       "  </thead>\n",
       "  <tbody>\n",
       "    <tr>\n",
       "      <th>0</th>\n",
       "      <td>Tree</td>\n",
       "      <td>0.816463</td>\n",
       "      <td>0.00000</td>\n",
       "      <td>0.0</td>\n",
       "      <td>0.0</td>\n",
       "    </tr>\n",
       "    <tr>\n",
       "      <th>1</th>\n",
       "      <td>Forest</td>\n",
       "      <td>0.851399</td>\n",
       "      <td>0.00000</td>\n",
       "      <td>0.0</td>\n",
       "      <td>0.0</td>\n",
       "    </tr>\n",
       "    <tr>\n",
       "      <th>2</th>\n",
       "      <td>Logistic</td>\n",
       "      <td>0.758750</td>\n",
       "      <td>0.76373</td>\n",
       "      <td>0.0</td>\n",
       "      <td>0.0</td>\n",
       "    </tr>\n",
       "  </tbody>\n",
       "</table>\n",
       "</div>"
      ],
      "text/plain": [
       "  Модель AUC  Без баланса  Взвешивание  Увеличение  Уменьшение\n",
       "0       Tree     0.816463      0.00000         0.0         0.0\n",
       "1     Forest     0.851399      0.00000         0.0         0.0\n",
       "2   Logistic     0.758750      0.76373         0.0         0.0"
      ]
     },
     "execution_count": 684,
     "metadata": {},
     "output_type": "execute_result"
    }
   ],
   "source": [
    "# создадим аналогичный датафрейм, чтобы потом сравнить все значения AUC-ROC для всех моделей и методом балансировки классов. \n",
    "# Будем заполнять его по мере подсчета значений\n",
    "\n",
    "auc_log_bw = roc_auc_score(target_valid, probabilities_one_valid)\n",
    "\n",
    "data_auc_balance_dic = {'Модель AUC': ['Tree', 'Forest', 'Logistic'], 'Без баланса': [auc_roc_tree, auc_roc_forest, auc_roc_log], \n",
    "                       'Взвешивание': [0,0, auc_log_bw],\n",
    "                      'Увеличение':[0.,0.,0.], 'Уменьшение': [0.,0.,0.]}\n",
    "\n",
    "data_auc_balance = pd.DataFrame(data_auc_balance_dic) \n",
    "\n",
    "data_auc_balance.head()"
   ]
  },
  {
   "cell_type": "markdown",
   "metadata": {},
   "source": [
    "#### Дерево решений"
   ]
  },
  {
   "cell_type": "code",
   "execution_count": 685,
   "metadata": {},
   "outputs": [
    {
     "name": "stdout",
     "output_type": "stream",
     "text": [
      "Оптимальная глубина дерева: 5\n",
      "F1 0.532555879494655\n"
     ]
    }
   ],
   "source": [
    "# подберем лучшие гиперпараметры при взвешивании классов\n",
    "\n",
    "best_model = None\n",
    "best_f1 = 0\n",
    "\n",
    "for depth in range(1, 10):\n",
    "    model_tree_bw = DecisionTreeClassifier(random_state=12345,\n",
    "                                        max_depth=depth,\n",
    "                                        class_weight='balanced')\n",
    "    model_tree_bw.fit(features_train, target_train)\n",
    "    predictions_valid_tree = model_tree_bw.predict(features_valid)\n",
    "    f1_tree_bw = f1_score(target_valid, predictions_valid_tree)\n",
    "    if f1_tree_bw > best_f1:\n",
    "        best_model = model_tree_bw\n",
    "        best_depth = depth\n",
    "        best_f1 = f1_tree_bw\n",
    "\n",
    "print('Оптимальная глубина дерева:', best_depth) \n",
    "print('F1', f1_tree_bw)"
   ]
  },
  {
   "cell_type": "code",
   "execution_count": 687,
   "metadata": {},
   "outputs": [
    {
     "name": "stdout",
     "output_type": "stream",
     "text": [
      "F1: 0.5963791267305644\n",
      "AUC-ROC: 0.8310244134068074\n"
     ]
    }
   ],
   "source": [
    "# обучаем модель с оптимальными значениями гиперпараметров при взвешивании классов\n",
    "\n",
    "model_tree_bw = DecisionTreeClassifier(random_state=12345,\n",
    "                                    max_depth=5,\n",
    "                                    class_weight='balanced')\n",
    "\n",
    "model_tree_bw.fit(features_train, target_train)\n",
    "predictions_valid_tree = model_tree_bw.predict(features_valid)\n",
    "\n",
    "print(\"F1:\", f1_score(target_valid, predictions_valid_tree))\n",
    "\n",
    "probabilities_valid = model_tree_bw.predict_proba(features_valid)\n",
    "probabilities_one_valid = probabilities_valid[:, 1]\n",
    "\n",
    "print(\"AUC-ROC:\", roc_auc_score(target_valid, probabilities_one_valid))"
   ]
  },
  {
   "cell_type": "code",
   "execution_count": 688,
   "metadata": {},
   "outputs": [
    {
     "data": {
      "text/html": [
       "<div>\n",
       "<style scoped>\n",
       "    .dataframe tbody tr th:only-of-type {\n",
       "        vertical-align: middle;\n",
       "    }\n",
       "\n",
       "    .dataframe tbody tr th {\n",
       "        vertical-align: top;\n",
       "    }\n",
       "\n",
       "    .dataframe thead th {\n",
       "        text-align: right;\n",
       "    }\n",
       "</style>\n",
       "<table border=\"1\" class=\"dataframe\">\n",
       "  <thead>\n",
       "    <tr style=\"text-align: right;\">\n",
       "      <th></th>\n",
       "      <th>Модель F1</th>\n",
       "      <th>Без баланса</th>\n",
       "      <th>Взвешивание</th>\n",
       "      <th>Увеличение</th>\n",
       "      <th>Уменьшение</th>\n",
       "    </tr>\n",
       "  </thead>\n",
       "  <tbody>\n",
       "    <tr>\n",
       "      <th>0</th>\n",
       "      <td>Tree</td>\n",
       "      <td>0.569697</td>\n",
       "      <td>0.596379</td>\n",
       "      <td>0.0</td>\n",
       "      <td>0.0</td>\n",
       "    </tr>\n",
       "    <tr>\n",
       "      <th>1</th>\n",
       "      <td>Forest</td>\n",
       "      <td>0.574103</td>\n",
       "      <td>0.000000</td>\n",
       "      <td>0.0</td>\n",
       "      <td>0.0</td>\n",
       "    </tr>\n",
       "    <tr>\n",
       "      <th>2</th>\n",
       "      <td>Logistic</td>\n",
       "      <td>0.331081</td>\n",
       "      <td>0.488851</td>\n",
       "      <td>0.0</td>\n",
       "      <td>0.0</td>\n",
       "    </tr>\n",
       "  </tbody>\n",
       "</table>\n",
       "</div>"
      ],
      "text/plain": [
       "  Модель F1  Без баланса  Взвешивание  Увеличение  Уменьшение\n",
       "0      Tree     0.569697     0.596379         0.0         0.0\n",
       "1    Forest     0.574103     0.000000         0.0         0.0\n",
       "2  Logistic     0.331081     0.488851         0.0         0.0"
      ]
     },
     "execution_count": 688,
     "metadata": {},
     "output_type": "execute_result"
    }
   ],
   "source": [
    "# внесем данные в таблицы\n",
    "\n",
    "data_f1_balance['Взвешивание'][0] = f1_score(target_valid, predictions_valid_tree)\n",
    "\n",
    "data_f1_balance.head()\n"
   ]
  },
  {
   "cell_type": "code",
   "execution_count": 689,
   "metadata": {},
   "outputs": [
    {
     "data": {
      "text/html": [
       "<div>\n",
       "<style scoped>\n",
       "    .dataframe tbody tr th:only-of-type {\n",
       "        vertical-align: middle;\n",
       "    }\n",
       "\n",
       "    .dataframe tbody tr th {\n",
       "        vertical-align: top;\n",
       "    }\n",
       "\n",
       "    .dataframe thead th {\n",
       "        text-align: right;\n",
       "    }\n",
       "</style>\n",
       "<table border=\"1\" class=\"dataframe\">\n",
       "  <thead>\n",
       "    <tr style=\"text-align: right;\">\n",
       "      <th></th>\n",
       "      <th>Модель AUC</th>\n",
       "      <th>Без баланса</th>\n",
       "      <th>Взвешивание</th>\n",
       "      <th>Увеличение</th>\n",
       "      <th>Уменьшение</th>\n",
       "    </tr>\n",
       "  </thead>\n",
       "  <tbody>\n",
       "    <tr>\n",
       "      <th>0</th>\n",
       "      <td>Tree</td>\n",
       "      <td>0.816463</td>\n",
       "      <td>0.831024</td>\n",
       "      <td>0.0</td>\n",
       "      <td>0.0</td>\n",
       "    </tr>\n",
       "    <tr>\n",
       "      <th>1</th>\n",
       "      <td>Forest</td>\n",
       "      <td>0.851399</td>\n",
       "      <td>0.000000</td>\n",
       "      <td>0.0</td>\n",
       "      <td>0.0</td>\n",
       "    </tr>\n",
       "    <tr>\n",
       "      <th>2</th>\n",
       "      <td>Logistic</td>\n",
       "      <td>0.758750</td>\n",
       "      <td>0.763730</td>\n",
       "      <td>0.0</td>\n",
       "      <td>0.0</td>\n",
       "    </tr>\n",
       "  </tbody>\n",
       "</table>\n",
       "</div>"
      ],
      "text/plain": [
       "  Модель AUC  Без баланса  Взвешивание  Увеличение  Уменьшение\n",
       "0       Tree     0.816463     0.831024         0.0         0.0\n",
       "1     Forest     0.851399     0.000000         0.0         0.0\n",
       "2   Logistic     0.758750     0.763730         0.0         0.0"
      ]
     },
     "execution_count": 689,
     "metadata": {},
     "output_type": "execute_result"
    }
   ],
   "source": [
    "data_auc_balance['Взвешивание'][0] = roc_auc_score(target_valid, probabilities_one_valid)\n",
    "\n",
    "data_auc_balance.head()"
   ]
  },
  {
   "cell_type": "markdown",
   "metadata": {},
   "source": [
    "#### Случайный лес"
   ]
  },
  {
   "cell_type": "code",
   "execution_count": 690,
   "metadata": {},
   "outputs": [
    {
     "name": "stdout",
     "output_type": "stream",
     "text": [
      "Оптимальное количество деревьев: 100\n",
      "Оптимальная глубина дерева: 9\n"
     ]
    }
   ],
   "source": [
    "# подберем лучшие гиперпараметры для модели Случайный лес при взвешивании классов\n",
    "\n",
    "best_model = None\n",
    "for est in range(10, 101, 10):\n",
    "    for depth in range(1, 10):\n",
    "        model_forest_bw = RandomForestClassifier(random_state=12345,\n",
    "                                              n_estimators=est, \n",
    "                                              max_depth=depth,\n",
    "                                              class_weight='balanced')\n",
    "        model_forest_bw.fit(features_train, target_train)\n",
    "        predictions_valid_forest = model_forest_bw.predict(features_valid)\n",
    "        f1_forest_bw = f1_score(target_valid, predictions_valid_forest)\n",
    "        if f1_forest_bw > best_f1:\n",
    "            best_model = model_forest_bw\n",
    "            best_est = est\n",
    "            best_depth = depth\n",
    "\n",
    "print('Оптимальное количество деревьев:', best_est)\n",
    "print('Оптимальная глубина дерева:', best_depth)"
   ]
  },
  {
   "cell_type": "code",
   "execution_count": 691,
   "metadata": {},
   "outputs": [
    {
     "name": "stdout",
     "output_type": "stream",
     "text": [
      "F1: 0.6280417149478563\n",
      "AUC-ROC: 0.8521948475371857\n"
     ]
    }
   ],
   "source": [
    "# обучим модель с оптимальными значениями гиперпараметров\n",
    "\n",
    "model_forest_bw = RandomForestClassifier(random_state=12345, \n",
    "                                      n_estimators=100, \n",
    "                                      max_depth=9,\n",
    "                                      class_weight='balanced')\n",
    "\n",
    "model_forest_bw.fit(features_train, target_train)\n",
    "predictions_valid_forest = model_forest_bw.predict(features_valid)\n",
    "\n",
    "\n",
    "print(\"F1:\", f1_score(target_valid, predictions_valid_forest))\n",
    "\n",
    "probabilities_valid = model_forest_bw.predict_proba(features_valid)\n",
    "probabilities_one_valid = probabilities_valid[:, 1]\n",
    "\n",
    "print(\"AUC-ROC:\", roc_auc_score(target_valid, probabilities_one_valid))"
   ]
  },
  {
   "cell_type": "code",
   "execution_count": 692,
   "metadata": {},
   "outputs": [
    {
     "data": {
      "text/html": [
       "<div>\n",
       "<style scoped>\n",
       "    .dataframe tbody tr th:only-of-type {\n",
       "        vertical-align: middle;\n",
       "    }\n",
       "\n",
       "    .dataframe tbody tr th {\n",
       "        vertical-align: top;\n",
       "    }\n",
       "\n",
       "    .dataframe thead th {\n",
       "        text-align: right;\n",
       "    }\n",
       "</style>\n",
       "<table border=\"1\" class=\"dataframe\">\n",
       "  <thead>\n",
       "    <tr style=\"text-align: right;\">\n",
       "      <th></th>\n",
       "      <th>Модель F1</th>\n",
       "      <th>Без баланса</th>\n",
       "      <th>Взвешивание</th>\n",
       "      <th>Увеличение</th>\n",
       "      <th>Уменьшение</th>\n",
       "    </tr>\n",
       "  </thead>\n",
       "  <tbody>\n",
       "    <tr>\n",
       "      <th>0</th>\n",
       "      <td>Tree</td>\n",
       "      <td>0.569697</td>\n",
       "      <td>0.596379</td>\n",
       "      <td>0.0</td>\n",
       "      <td>0.0</td>\n",
       "    </tr>\n",
       "    <tr>\n",
       "      <th>1</th>\n",
       "      <td>Forest</td>\n",
       "      <td>0.574103</td>\n",
       "      <td>0.628042</td>\n",
       "      <td>0.0</td>\n",
       "      <td>0.0</td>\n",
       "    </tr>\n",
       "    <tr>\n",
       "      <th>2</th>\n",
       "      <td>Logistic</td>\n",
       "      <td>0.331081</td>\n",
       "      <td>0.488851</td>\n",
       "      <td>0.0</td>\n",
       "      <td>0.0</td>\n",
       "    </tr>\n",
       "  </tbody>\n",
       "</table>\n",
       "</div>"
      ],
      "text/plain": [
       "  Модель F1  Без баланса  Взвешивание  Увеличение  Уменьшение\n",
       "0      Tree     0.569697     0.596379         0.0         0.0\n",
       "1    Forest     0.574103     0.628042         0.0         0.0\n",
       "2  Logistic     0.331081     0.488851         0.0         0.0"
      ]
     },
     "execution_count": 692,
     "metadata": {},
     "output_type": "execute_result"
    }
   ],
   "source": [
    "# внесем данные в таблицу\n",
    "\n",
    "data_f1_balance['Взвешивание'][1] = f1_score(target_valid, predictions_valid_forest)\n",
    "\n",
    "data_f1_balance.head()"
   ]
  },
  {
   "cell_type": "code",
   "execution_count": 693,
   "metadata": {},
   "outputs": [
    {
     "data": {
      "text/html": [
       "<div>\n",
       "<style scoped>\n",
       "    .dataframe tbody tr th:only-of-type {\n",
       "        vertical-align: middle;\n",
       "    }\n",
       "\n",
       "    .dataframe tbody tr th {\n",
       "        vertical-align: top;\n",
       "    }\n",
       "\n",
       "    .dataframe thead th {\n",
       "        text-align: right;\n",
       "    }\n",
       "</style>\n",
       "<table border=\"1\" class=\"dataframe\">\n",
       "  <thead>\n",
       "    <tr style=\"text-align: right;\">\n",
       "      <th></th>\n",
       "      <th>Модель AUC</th>\n",
       "      <th>Без баланса</th>\n",
       "      <th>Взвешивание</th>\n",
       "      <th>Увеличение</th>\n",
       "      <th>Уменьшение</th>\n",
       "    </tr>\n",
       "  </thead>\n",
       "  <tbody>\n",
       "    <tr>\n",
       "      <th>0</th>\n",
       "      <td>Tree</td>\n",
       "      <td>0.816463</td>\n",
       "      <td>0.831024</td>\n",
       "      <td>0.0</td>\n",
       "      <td>0.0</td>\n",
       "    </tr>\n",
       "    <tr>\n",
       "      <th>1</th>\n",
       "      <td>Forest</td>\n",
       "      <td>0.851399</td>\n",
       "      <td>0.852195</td>\n",
       "      <td>0.0</td>\n",
       "      <td>0.0</td>\n",
       "    </tr>\n",
       "    <tr>\n",
       "      <th>2</th>\n",
       "      <td>Logistic</td>\n",
       "      <td>0.758750</td>\n",
       "      <td>0.763730</td>\n",
       "      <td>0.0</td>\n",
       "      <td>0.0</td>\n",
       "    </tr>\n",
       "  </tbody>\n",
       "</table>\n",
       "</div>"
      ],
      "text/plain": [
       "  Модель AUC  Без баланса  Взвешивание  Увеличение  Уменьшение\n",
       "0       Tree     0.816463     0.831024         0.0         0.0\n",
       "1     Forest     0.851399     0.852195         0.0         0.0\n",
       "2   Logistic     0.758750     0.763730         0.0         0.0"
      ]
     },
     "execution_count": 693,
     "metadata": {},
     "output_type": "execute_result"
    }
   ],
   "source": [
    "data_auc_balance['Взвешивание'][1] = roc_auc_score(target_valid, probabilities_one_valid)\n",
    "\n",
    "data_auc_balance.head()"
   ]
  },
  {
   "cell_type": "markdown",
   "metadata": {},
   "source": [
    "### Увеличение выборки"
   ]
  },
  {
   "cell_type": "markdown",
   "metadata": {},
   "source": [
    "Введем функцию для увеличения выборки несбалансированных классов. Тк соотношение у нас примерно 80 % к 20%, значит меньшую выборку необходимо увеличить в 4 раза. Данные перемешать."
   ]
  },
  {
   "cell_type": "code",
   "execution_count": 694,
   "metadata": {},
   "outputs": [
    {
     "name": "stdout",
     "output_type": "stream",
     "text": [
      "(9588, 11)\n",
      "(9588,)\n"
     ]
    }
   ],
   "source": [
    "def upsample(features, target, repeat):\n",
    "    features_zeros = features[target == 0]\n",
    "    features_ones = features[target == 1]\n",
    "    target_zeros = target[target == 0]\n",
    "    target_ones = target[target == 1]\n",
    "\n",
    "    features_upsampled = pd.concat([features_zeros] + [features_ones] * repeat)\n",
    "    target_upsampled = pd.concat([target_zeros] + [target_ones] * repeat)\n",
    "    \n",
    "    features_upsampled, target_upsampled = shuffle(\n",
    "        features_upsampled, target_upsampled, random_state=12345)\n",
    "    \n",
    "    return features_upsampled, target_upsampled\n",
    "\n",
    "features_upsampled, target_upsampled = upsample(features_train, target_train, 4)\n",
    "\n",
    "print(features_upsampled.shape)\n",
    "print(target_upsampled.shape)"
   ]
  },
  {
   "cell_type": "markdown",
   "metadata": {},
   "source": [
    "#### Логистическая регрессия"
   ]
  },
  {
   "cell_type": "code",
   "execution_count": 695,
   "metadata": {},
   "outputs": [
    {
     "name": "stdout",
     "output_type": "stream",
     "text": [
      "F1: 0.4888507718696398\n",
      "AUC-ROC: 0.7636478565682107\n"
     ]
    }
   ],
   "source": [
    "# найдем значение метрик для модели Логистической регресси при увеличении выборки\n",
    "\n",
    "model_log_up = LogisticRegression(random_state=12345,\n",
    "                               solver='liblinear')\n",
    "\n",
    "model_log_up.fit(features_upsampled, target_upsampled)\n",
    "predictions_valid_log = model_log_up.predict(features_valid)\n",
    "\n",
    "print(\"F1:\", f1_score(target_valid, predictions_valid_log))\n",
    "\n",
    "probabilities_valid = model_log_up.predict_proba(features_valid)\n",
    "probabilities_one_valid = probabilities_valid[:, 1]\n",
    "\n",
    "print(\"AUC-ROC:\", roc_auc_score(target_valid, probabilities_one_valid))"
   ]
  },
  {
   "cell_type": "code",
   "execution_count": 696,
   "metadata": {},
   "outputs": [
    {
     "data": {
      "text/html": [
       "<div>\n",
       "<style scoped>\n",
       "    .dataframe tbody tr th:only-of-type {\n",
       "        vertical-align: middle;\n",
       "    }\n",
       "\n",
       "    .dataframe tbody tr th {\n",
       "        vertical-align: top;\n",
       "    }\n",
       "\n",
       "    .dataframe thead th {\n",
       "        text-align: right;\n",
       "    }\n",
       "</style>\n",
       "<table border=\"1\" class=\"dataframe\">\n",
       "  <thead>\n",
       "    <tr style=\"text-align: right;\">\n",
       "      <th></th>\n",
       "      <th>Модель F1</th>\n",
       "      <th>Без баланса</th>\n",
       "      <th>Взвешивание</th>\n",
       "      <th>Увеличение</th>\n",
       "      <th>Уменьшение</th>\n",
       "    </tr>\n",
       "  </thead>\n",
       "  <tbody>\n",
       "    <tr>\n",
       "      <th>0</th>\n",
       "      <td>Tree</td>\n",
       "      <td>0.569697</td>\n",
       "      <td>0.596379</td>\n",
       "      <td>0.000000</td>\n",
       "      <td>0.0</td>\n",
       "    </tr>\n",
       "    <tr>\n",
       "      <th>1</th>\n",
       "      <td>Forest</td>\n",
       "      <td>0.574103</td>\n",
       "      <td>0.628042</td>\n",
       "      <td>0.000000</td>\n",
       "      <td>0.0</td>\n",
       "    </tr>\n",
       "    <tr>\n",
       "      <th>2</th>\n",
       "      <td>Logistic</td>\n",
       "      <td>0.331081</td>\n",
       "      <td>0.488851</td>\n",
       "      <td>0.488851</td>\n",
       "      <td>0.0</td>\n",
       "    </tr>\n",
       "  </tbody>\n",
       "</table>\n",
       "</div>"
      ],
      "text/plain": [
       "  Модель F1  Без баланса  Взвешивание  Увеличение  Уменьшение\n",
       "0      Tree     0.569697     0.596379    0.000000         0.0\n",
       "1    Forest     0.574103     0.628042    0.000000         0.0\n",
       "2  Logistic     0.331081     0.488851    0.488851         0.0"
      ]
     },
     "execution_count": 696,
     "metadata": {},
     "output_type": "execute_result"
    }
   ],
   "source": [
    "# внесем данные в таблицу\n",
    "\n",
    "data_f1_balance['Увеличение'][2] = f1_score(target_valid, predictions_valid_log)\n",
    "\n",
    "data_f1_balance.head()"
   ]
  },
  {
   "cell_type": "code",
   "execution_count": 697,
   "metadata": {},
   "outputs": [
    {
     "data": {
      "text/html": [
       "<div>\n",
       "<style scoped>\n",
       "    .dataframe tbody tr th:only-of-type {\n",
       "        vertical-align: middle;\n",
       "    }\n",
       "\n",
       "    .dataframe tbody tr th {\n",
       "        vertical-align: top;\n",
       "    }\n",
       "\n",
       "    .dataframe thead th {\n",
       "        text-align: right;\n",
       "    }\n",
       "</style>\n",
       "<table border=\"1\" class=\"dataframe\">\n",
       "  <thead>\n",
       "    <tr style=\"text-align: right;\">\n",
       "      <th></th>\n",
       "      <th>Модель AUC</th>\n",
       "      <th>Без баланса</th>\n",
       "      <th>Взвешивание</th>\n",
       "      <th>Увеличение</th>\n",
       "      <th>Уменьшение</th>\n",
       "    </tr>\n",
       "  </thead>\n",
       "  <tbody>\n",
       "    <tr>\n",
       "      <th>0</th>\n",
       "      <td>Tree</td>\n",
       "      <td>0.816463</td>\n",
       "      <td>0.831024</td>\n",
       "      <td>0.000000</td>\n",
       "      <td>0.0</td>\n",
       "    </tr>\n",
       "    <tr>\n",
       "      <th>1</th>\n",
       "      <td>Forest</td>\n",
       "      <td>0.851399</td>\n",
       "      <td>0.852195</td>\n",
       "      <td>0.000000</td>\n",
       "      <td>0.0</td>\n",
       "    </tr>\n",
       "    <tr>\n",
       "      <th>2</th>\n",
       "      <td>Logistic</td>\n",
       "      <td>0.758750</td>\n",
       "      <td>0.763730</td>\n",
       "      <td>0.763648</td>\n",
       "      <td>0.0</td>\n",
       "    </tr>\n",
       "  </tbody>\n",
       "</table>\n",
       "</div>"
      ],
      "text/plain": [
       "  Модель AUC  Без баланса  Взвешивание  Увеличение  Уменьшение\n",
       "0       Tree     0.816463     0.831024    0.000000         0.0\n",
       "1     Forest     0.851399     0.852195    0.000000         0.0\n",
       "2   Logistic     0.758750     0.763730    0.763648         0.0"
      ]
     },
     "execution_count": 697,
     "metadata": {},
     "output_type": "execute_result"
    }
   ],
   "source": [
    "data_auc_balance['Увеличение'][2] = roc_auc_score(target_valid, probabilities_one_valid)\n",
    "\n",
    "data_auc_balance.head()"
   ]
  },
  {
   "cell_type": "markdown",
   "metadata": {},
   "source": [
    "#### Дерево решений"
   ]
  },
  {
   "cell_type": "code",
   "execution_count": 698,
   "metadata": {},
   "outputs": [
    {
     "name": "stdout",
     "output_type": "stream",
     "text": [
      "Оптимальная глубина дерева: 5\n",
      "F1: 0.5315227934044616\n"
     ]
    }
   ],
   "source": [
    "# подберем лучшие гиперпараметры для модели Дерево решений при увеличении выборки\n",
    "\n",
    "best_model = None\n",
    "best_f1 = 0\n",
    "\n",
    "for depth in range(1, 10):\n",
    "    model_tree_up = DecisionTreeClassifier(random_state=12345,\n",
    "                                        max_depth=depth)\n",
    "    \n",
    "    model_tree_up.fit(features_upsampled, target_upsampled)\n",
    "    predictions_valid_tree = model_tree_up.predict(features_valid)\n",
    "    f1_tree_up = f1_score(target_valid, predictions_valid_tree)\n",
    "    if f1_tree_up > best_f1:\n",
    "        best_model = model_tree_up\n",
    "        best_depth = depth\n",
    "        best_f1 = f1_tree_up\n",
    "\n",
    "print('Оптимальная глубина дерева:', best_depth) \n",
    "print('F1:', f1_tree_up)"
   ]
  },
  {
   "cell_type": "code",
   "execution_count": 700,
   "metadata": {},
   "outputs": [
    {
     "name": "stdout",
     "output_type": "stream",
     "text": [
      "F1: 0.5696969696969697\n",
      "AUC-ROC 0.8310244134068074\n"
     ]
    }
   ],
   "source": [
    "# обучим модель с оптимальными параметрами\n",
    "\n",
    "model_tree_up = DecisionTreeClassifier(random_state=12345,\n",
    "                                    max_depth=5)\n",
    "\n",
    "model_tree_up.fit(features_upsampled, target_upsampled)\n",
    "predictions_valid_tree = model_tree.predict(features_valid)\n",
    "\n",
    "print(\"F1:\", f1_score(target_valid, predictions_valid_tree))\n",
    "\n",
    "probabilities_valid = model_tree_up.predict_proba(features_valid)\n",
    "probabilities_one_valid = probabilities_valid[:, 1]\n",
    "\n",
    "print(\"AUC-ROC\", roc_auc_score(target_valid, probabilities_one_valid))"
   ]
  },
  {
   "cell_type": "code",
   "execution_count": 701,
   "metadata": {},
   "outputs": [
    {
     "data": {
      "text/html": [
       "<div>\n",
       "<style scoped>\n",
       "    .dataframe tbody tr th:only-of-type {\n",
       "        vertical-align: middle;\n",
       "    }\n",
       "\n",
       "    .dataframe tbody tr th {\n",
       "        vertical-align: top;\n",
       "    }\n",
       "\n",
       "    .dataframe thead th {\n",
       "        text-align: right;\n",
       "    }\n",
       "</style>\n",
       "<table border=\"1\" class=\"dataframe\">\n",
       "  <thead>\n",
       "    <tr style=\"text-align: right;\">\n",
       "      <th></th>\n",
       "      <th>Модель F1</th>\n",
       "      <th>Без баланса</th>\n",
       "      <th>Взвешивание</th>\n",
       "      <th>Увеличение</th>\n",
       "      <th>Уменьшение</th>\n",
       "    </tr>\n",
       "  </thead>\n",
       "  <tbody>\n",
       "    <tr>\n",
       "      <th>0</th>\n",
       "      <td>Tree</td>\n",
       "      <td>0.569697</td>\n",
       "      <td>0.596379</td>\n",
       "      <td>0.569697</td>\n",
       "      <td>0.0</td>\n",
       "    </tr>\n",
       "    <tr>\n",
       "      <th>1</th>\n",
       "      <td>Forest</td>\n",
       "      <td>0.574103</td>\n",
       "      <td>0.628042</td>\n",
       "      <td>0.000000</td>\n",
       "      <td>0.0</td>\n",
       "    </tr>\n",
       "    <tr>\n",
       "      <th>2</th>\n",
       "      <td>Logistic</td>\n",
       "      <td>0.331081</td>\n",
       "      <td>0.488851</td>\n",
       "      <td>0.488851</td>\n",
       "      <td>0.0</td>\n",
       "    </tr>\n",
       "  </tbody>\n",
       "</table>\n",
       "</div>"
      ],
      "text/plain": [
       "  Модель F1  Без баланса  Взвешивание  Увеличение  Уменьшение\n",
       "0      Tree     0.569697     0.596379    0.569697         0.0\n",
       "1    Forest     0.574103     0.628042    0.000000         0.0\n",
       "2  Logistic     0.331081     0.488851    0.488851         0.0"
      ]
     },
     "execution_count": 701,
     "metadata": {},
     "output_type": "execute_result"
    }
   ],
   "source": [
    "# внесем данные в таблицу\n",
    "\n",
    "data_f1_balance['Увеличение'][0] = f1_score(target_valid, predictions_valid_tree)\n",
    "\n",
    "data_f1_balance.head()"
   ]
  },
  {
   "cell_type": "code",
   "execution_count": 702,
   "metadata": {},
   "outputs": [
    {
     "data": {
      "text/html": [
       "<div>\n",
       "<style scoped>\n",
       "    .dataframe tbody tr th:only-of-type {\n",
       "        vertical-align: middle;\n",
       "    }\n",
       "\n",
       "    .dataframe tbody tr th {\n",
       "        vertical-align: top;\n",
       "    }\n",
       "\n",
       "    .dataframe thead th {\n",
       "        text-align: right;\n",
       "    }\n",
       "</style>\n",
       "<table border=\"1\" class=\"dataframe\">\n",
       "  <thead>\n",
       "    <tr style=\"text-align: right;\">\n",
       "      <th></th>\n",
       "      <th>Модель AUC</th>\n",
       "      <th>Без баланса</th>\n",
       "      <th>Взвешивание</th>\n",
       "      <th>Увеличение</th>\n",
       "      <th>Уменьшение</th>\n",
       "    </tr>\n",
       "  </thead>\n",
       "  <tbody>\n",
       "    <tr>\n",
       "      <th>0</th>\n",
       "      <td>Tree</td>\n",
       "      <td>0.816463</td>\n",
       "      <td>0.831024</td>\n",
       "      <td>0.831024</td>\n",
       "      <td>0.0</td>\n",
       "    </tr>\n",
       "    <tr>\n",
       "      <th>1</th>\n",
       "      <td>Forest</td>\n",
       "      <td>0.851399</td>\n",
       "      <td>0.852195</td>\n",
       "      <td>0.000000</td>\n",
       "      <td>0.0</td>\n",
       "    </tr>\n",
       "    <tr>\n",
       "      <th>2</th>\n",
       "      <td>Logistic</td>\n",
       "      <td>0.758750</td>\n",
       "      <td>0.763730</td>\n",
       "      <td>0.763648</td>\n",
       "      <td>0.0</td>\n",
       "    </tr>\n",
       "  </tbody>\n",
       "</table>\n",
       "</div>"
      ],
      "text/plain": [
       "  Модель AUC  Без баланса  Взвешивание  Увеличение  Уменьшение\n",
       "0       Tree     0.816463     0.831024    0.831024         0.0\n",
       "1     Forest     0.851399     0.852195    0.000000         0.0\n",
       "2   Logistic     0.758750     0.763730    0.763648         0.0"
      ]
     },
     "execution_count": 702,
     "metadata": {},
     "output_type": "execute_result"
    }
   ],
   "source": [
    "data_auc_balance['Увеличение'][0] = roc_auc_score(target_valid, probabilities_one_valid)\n",
    "\n",
    "data_auc_balance.head()"
   ]
  },
  {
   "cell_type": "markdown",
   "metadata": {},
   "source": [
    "#### Случайный лес"
   ]
  },
  {
   "cell_type": "code",
   "execution_count": 703,
   "metadata": {},
   "outputs": [
    {
     "name": "stdout",
     "output_type": "stream",
     "text": [
      "Оптимальное количество деревьев: 100\n",
      "Оптимальная глубина дерева: 9\n"
     ]
    }
   ],
   "source": [
    "# подберем лучшие гиперпараметры для модели Случайный лес при увеличении выборки\n",
    "\n",
    "best_model = None\n",
    "\n",
    "for est in range(10, 101, 10):\n",
    "    for depth in range(1, 10):\n",
    "        model_forest_up = RandomForestClassifier(random_state=12345,\n",
    "                                              n_estimators=est, \n",
    "                                              max_depth=depth)\n",
    "        \n",
    "        model_forest_up.fit(features_upsampled, target_upsampled)\n",
    "        predictions_valid_forest = model_forest_up.predict(features_valid)\n",
    "        f1_forest_up = f1_score(target_valid, predictions_valid_forest)\n",
    "        \n",
    "        if f1_forest_up > best_f1:\n",
    "            best_model = model_forest_up\n",
    "            best_est = est\n",
    "            best_depth = depth\n",
    "\n",
    "print('Оптимальное количество деревьев:', best_est)\n",
    "print('Оптимальная глубина дерева:', best_depth)"
   ]
  },
  {
   "cell_type": "code",
   "execution_count": 704,
   "metadata": {},
   "outputs": [
    {
     "name": "stdout",
     "output_type": "stream",
     "text": [
      "F1: 0.6142401700318809\n",
      "AUC-ROC: 0.85303564623546\n"
     ]
    }
   ],
   "source": [
    "# обучим модель при оптимальных параметрах\n",
    "\n",
    "model_forest_up = RandomForestClassifier(random_state=12345, \n",
    "                                      n_estimators=100, \n",
    "                                      max_depth=9)\n",
    "\n",
    "model_forest_up.fit(features_upsampled, target_upsampled)\n",
    "predictions_valid_forest = model_forest_up.predict(features_valid)\n",
    "\n",
    "print(\"F1:\", f1_score(target_valid, predictions_valid_forest))\n",
    "\n",
    "probabilities_valid = model_forest_up.predict_proba(features_valid)\n",
    "probabilities_one_valid = probabilities_valid[:, 1]\n",
    "\n",
    "print(\"AUC-ROC:\", roc_auc_score(target_valid, probabilities_one_valid))"
   ]
  },
  {
   "cell_type": "code",
   "execution_count": 705,
   "metadata": {},
   "outputs": [
    {
     "data": {
      "text/html": [
       "<div>\n",
       "<style scoped>\n",
       "    .dataframe tbody tr th:only-of-type {\n",
       "        vertical-align: middle;\n",
       "    }\n",
       "\n",
       "    .dataframe tbody tr th {\n",
       "        vertical-align: top;\n",
       "    }\n",
       "\n",
       "    .dataframe thead th {\n",
       "        text-align: right;\n",
       "    }\n",
       "</style>\n",
       "<table border=\"1\" class=\"dataframe\">\n",
       "  <thead>\n",
       "    <tr style=\"text-align: right;\">\n",
       "      <th></th>\n",
       "      <th>Модель F1</th>\n",
       "      <th>Без баланса</th>\n",
       "      <th>Взвешивание</th>\n",
       "      <th>Увеличение</th>\n",
       "      <th>Уменьшение</th>\n",
       "    </tr>\n",
       "  </thead>\n",
       "  <tbody>\n",
       "    <tr>\n",
       "      <th>0</th>\n",
       "      <td>Tree</td>\n",
       "      <td>0.569697</td>\n",
       "      <td>0.596379</td>\n",
       "      <td>0.569697</td>\n",
       "      <td>0.0</td>\n",
       "    </tr>\n",
       "    <tr>\n",
       "      <th>1</th>\n",
       "      <td>Forest</td>\n",
       "      <td>0.574103</td>\n",
       "      <td>0.628042</td>\n",
       "      <td>0.614240</td>\n",
       "      <td>0.0</td>\n",
       "    </tr>\n",
       "    <tr>\n",
       "      <th>2</th>\n",
       "      <td>Logistic</td>\n",
       "      <td>0.331081</td>\n",
       "      <td>0.488851</td>\n",
       "      <td>0.488851</td>\n",
       "      <td>0.0</td>\n",
       "    </tr>\n",
       "  </tbody>\n",
       "</table>\n",
       "</div>"
      ],
      "text/plain": [
       "  Модель F1  Без баланса  Взвешивание  Увеличение  Уменьшение\n",
       "0      Tree     0.569697     0.596379    0.569697         0.0\n",
       "1    Forest     0.574103     0.628042    0.614240         0.0\n",
       "2  Logistic     0.331081     0.488851    0.488851         0.0"
      ]
     },
     "execution_count": 705,
     "metadata": {},
     "output_type": "execute_result"
    }
   ],
   "source": [
    "# внесем данные в таблицу\n",
    "\n",
    "data_f1_balance['Увеличение'][1] = f1_score(target_valid, predictions_valid_forest)\n",
    "\n",
    "data_f1_balance.head()"
   ]
  },
  {
   "cell_type": "code",
   "execution_count": 706,
   "metadata": {},
   "outputs": [
    {
     "data": {
      "text/html": [
       "<div>\n",
       "<style scoped>\n",
       "    .dataframe tbody tr th:only-of-type {\n",
       "        vertical-align: middle;\n",
       "    }\n",
       "\n",
       "    .dataframe tbody tr th {\n",
       "        vertical-align: top;\n",
       "    }\n",
       "\n",
       "    .dataframe thead th {\n",
       "        text-align: right;\n",
       "    }\n",
       "</style>\n",
       "<table border=\"1\" class=\"dataframe\">\n",
       "  <thead>\n",
       "    <tr style=\"text-align: right;\">\n",
       "      <th></th>\n",
       "      <th>Модель AUC</th>\n",
       "      <th>Без баланса</th>\n",
       "      <th>Взвешивание</th>\n",
       "      <th>Увеличение</th>\n",
       "      <th>Уменьшение</th>\n",
       "    </tr>\n",
       "  </thead>\n",
       "  <tbody>\n",
       "    <tr>\n",
       "      <th>0</th>\n",
       "      <td>Tree</td>\n",
       "      <td>0.816463</td>\n",
       "      <td>0.831024</td>\n",
       "      <td>0.831024</td>\n",
       "      <td>0.0</td>\n",
       "    </tr>\n",
       "    <tr>\n",
       "      <th>1</th>\n",
       "      <td>Forest</td>\n",
       "      <td>0.851399</td>\n",
       "      <td>0.852195</td>\n",
       "      <td>0.853036</td>\n",
       "      <td>0.0</td>\n",
       "    </tr>\n",
       "    <tr>\n",
       "      <th>2</th>\n",
       "      <td>Logistic</td>\n",
       "      <td>0.758750</td>\n",
       "      <td>0.763730</td>\n",
       "      <td>0.763648</td>\n",
       "      <td>0.0</td>\n",
       "    </tr>\n",
       "  </tbody>\n",
       "</table>\n",
       "</div>"
      ],
      "text/plain": [
       "  Модель AUC  Без баланса  Взвешивание  Увеличение  Уменьшение\n",
       "0       Tree     0.816463     0.831024    0.831024         0.0\n",
       "1     Forest     0.851399     0.852195    0.853036         0.0\n",
       "2   Logistic     0.758750     0.763730    0.763648         0.0"
      ]
     },
     "execution_count": 706,
     "metadata": {},
     "output_type": "execute_result"
    }
   ],
   "source": [
    "data_auc_balance['Увеличение'][1] = roc_auc_score(target_valid, probabilities_one_valid)\n",
    "\n",
    "data_auc_balance.head()"
   ]
  },
  {
   "cell_type": "markdown",
   "metadata": {},
   "source": [
    "### Уменьшение выборки"
   ]
  },
  {
   "cell_type": "markdown",
   "metadata": {},
   "source": [
    "Применим метод уменьшения выборки. Соотношение классов у нас отличается в 4 раза. Значит будем уменьшать доминантную выборку в 4 раза. Введем соответствующую функцию."
   ]
  },
  {
   "cell_type": "code",
   "execution_count": 707,
   "metadata": {},
   "outputs": [
    {
     "name": "stdout",
     "output_type": "stream",
     "text": [
      "(2397, 11)\n",
      "(2397,)\n"
     ]
    }
   ],
   "source": [
    "def downsample(features, target, fraction):\n",
    "    features_zeros = features[target == 0]\n",
    "    features_ones = features[target == 1]\n",
    "    target_zeros = target[target == 0]\n",
    "    target_ones = target[target == 1]\n",
    "\n",
    "    \n",
    "    features_downsampled = pd.concat([features_zeros.sample(frac=fraction, random_state=12345)] +\n",
    "                                     [features_ones])\n",
    "    target_downsampled = pd.concat([target_zeros.sample(frac=fraction, random_state=12345)] +\n",
    "                                   [target_ones])\n",
    "    \n",
    "    features_downsampled, target_downsampled = shuffle(\n",
    "        features_downsampled, target_downsampled, random_state=12345)\n",
    "\n",
    "    return features_downsampled, target_downsampled\n",
    "\n",
    "features_downsampled, target_downsampled = downsample(features_train, target_train, 0.25)\n",
    "\n",
    "print(features_downsampled.shape)\n",
    "print(target_downsampled.shape)"
   ]
  },
  {
   "cell_type": "markdown",
   "metadata": {},
   "source": [
    "#### Логистическая регрессия"
   ]
  },
  {
   "cell_type": "code",
   "execution_count": 708,
   "metadata": {},
   "outputs": [
    {
     "name": "stdout",
     "output_type": "stream",
     "text": [
      "F1: 0.48406546080964685\n",
      "AUC-ROC: 0.7622883637089505\n"
     ]
    }
   ],
   "source": [
    "model_log_dw = LogisticRegression(random_state=12345,\n",
    "                               solver='liblinear')\n",
    "\n",
    "model_log_dw.fit(features_downsampled, target_downsampled)\n",
    "predictions_valid_log = model_log_dw.predict(features_valid)\n",
    "\n",
    "print(\"F1:\", f1_score(target_valid, predictions_valid_log))\n",
    "\n",
    "probabilities_valid = model_log_dw.predict_proba(features_valid)\n",
    "probabilities_one_valid = probabilities_valid[:, 1]\n",
    "\n",
    "print(\"AUC-ROC:\", roc_auc_score(target_valid, probabilities_one_valid))"
   ]
  },
  {
   "cell_type": "code",
   "execution_count": 709,
   "metadata": {},
   "outputs": [
    {
     "data": {
      "text/html": [
       "<div>\n",
       "<style scoped>\n",
       "    .dataframe tbody tr th:only-of-type {\n",
       "        vertical-align: middle;\n",
       "    }\n",
       "\n",
       "    .dataframe tbody tr th {\n",
       "        vertical-align: top;\n",
       "    }\n",
       "\n",
       "    .dataframe thead th {\n",
       "        text-align: right;\n",
       "    }\n",
       "</style>\n",
       "<table border=\"1\" class=\"dataframe\">\n",
       "  <thead>\n",
       "    <tr style=\"text-align: right;\">\n",
       "      <th></th>\n",
       "      <th>Модель F1</th>\n",
       "      <th>Без баланса</th>\n",
       "      <th>Взвешивание</th>\n",
       "      <th>Увеличение</th>\n",
       "      <th>Уменьшение</th>\n",
       "    </tr>\n",
       "  </thead>\n",
       "  <tbody>\n",
       "    <tr>\n",
       "      <th>0</th>\n",
       "      <td>Tree</td>\n",
       "      <td>0.569697</td>\n",
       "      <td>0.596379</td>\n",
       "      <td>0.569697</td>\n",
       "      <td>0.000000</td>\n",
       "    </tr>\n",
       "    <tr>\n",
       "      <th>1</th>\n",
       "      <td>Forest</td>\n",
       "      <td>0.574103</td>\n",
       "      <td>0.628042</td>\n",
       "      <td>0.614240</td>\n",
       "      <td>0.000000</td>\n",
       "    </tr>\n",
       "    <tr>\n",
       "      <th>2</th>\n",
       "      <td>Logistic</td>\n",
       "      <td>0.331081</td>\n",
       "      <td>0.488851</td>\n",
       "      <td>0.488851</td>\n",
       "      <td>0.484065</td>\n",
       "    </tr>\n",
       "  </tbody>\n",
       "</table>\n",
       "</div>"
      ],
      "text/plain": [
       "  Модель F1  Без баланса  Взвешивание  Увеличение  Уменьшение\n",
       "0      Tree     0.569697     0.596379    0.569697    0.000000\n",
       "1    Forest     0.574103     0.628042    0.614240    0.000000\n",
       "2  Logistic     0.331081     0.488851    0.488851    0.484065"
      ]
     },
     "execution_count": 709,
     "metadata": {},
     "output_type": "execute_result"
    }
   ],
   "source": [
    "# внесем данные в таблицу\n",
    "\n",
    "data_f1_balance['Уменьшение'][2] = f1_score(target_valid, predictions_valid_log)\n",
    "\n",
    "data_f1_balance.head()"
   ]
  },
  {
   "cell_type": "code",
   "execution_count": 710,
   "metadata": {},
   "outputs": [
    {
     "data": {
      "text/html": [
       "<div>\n",
       "<style scoped>\n",
       "    .dataframe tbody tr th:only-of-type {\n",
       "        vertical-align: middle;\n",
       "    }\n",
       "\n",
       "    .dataframe tbody tr th {\n",
       "        vertical-align: top;\n",
       "    }\n",
       "\n",
       "    .dataframe thead th {\n",
       "        text-align: right;\n",
       "    }\n",
       "</style>\n",
       "<table border=\"1\" class=\"dataframe\">\n",
       "  <thead>\n",
       "    <tr style=\"text-align: right;\">\n",
       "      <th></th>\n",
       "      <th>Модель AUC</th>\n",
       "      <th>Без баланса</th>\n",
       "      <th>Взвешивание</th>\n",
       "      <th>Увеличение</th>\n",
       "      <th>Уменьшение</th>\n",
       "    </tr>\n",
       "  </thead>\n",
       "  <tbody>\n",
       "    <tr>\n",
       "      <th>0</th>\n",
       "      <td>Tree</td>\n",
       "      <td>0.816463</td>\n",
       "      <td>0.831024</td>\n",
       "      <td>0.831024</td>\n",
       "      <td>0.000000</td>\n",
       "    </tr>\n",
       "    <tr>\n",
       "      <th>1</th>\n",
       "      <td>Forest</td>\n",
       "      <td>0.851399</td>\n",
       "      <td>0.852195</td>\n",
       "      <td>0.853036</td>\n",
       "      <td>0.000000</td>\n",
       "    </tr>\n",
       "    <tr>\n",
       "      <th>2</th>\n",
       "      <td>Logistic</td>\n",
       "      <td>0.758750</td>\n",
       "      <td>0.763730</td>\n",
       "      <td>0.763648</td>\n",
       "      <td>0.762288</td>\n",
       "    </tr>\n",
       "  </tbody>\n",
       "</table>\n",
       "</div>"
      ],
      "text/plain": [
       "  Модель AUC  Без баланса  Взвешивание  Увеличение  Уменьшение\n",
       "0       Tree     0.816463     0.831024    0.831024    0.000000\n",
       "1     Forest     0.851399     0.852195    0.853036    0.000000\n",
       "2   Logistic     0.758750     0.763730    0.763648    0.762288"
      ]
     },
     "execution_count": 710,
     "metadata": {},
     "output_type": "execute_result"
    }
   ],
   "source": [
    "data_auc_balance['Уменьшение'][2] = roc_auc_score(target_valid, probabilities_one_valid)\n",
    "\n",
    "data_auc_balance.head()"
   ]
  },
  {
   "cell_type": "markdown",
   "metadata": {},
   "source": [
    "#### Дерево решений"
   ]
  },
  {
   "cell_type": "code",
   "execution_count": 711,
   "metadata": {},
   "outputs": [
    {
     "name": "stdout",
     "output_type": "stream",
     "text": [
      "Оптимальная глубина дерева: 5\n",
      "F1 0.5319926873857405\n"
     ]
    }
   ],
   "source": [
    "# подберем лучшие гиперпараметры для модели Дерево решений при уменьшении выборки\n",
    "\n",
    "best_model = None\n",
    "best_f1 = 0\n",
    "\n",
    "for depth in range(1, 10):\n",
    "    model_tree_dw = DecisionTreeClassifier(random_state=12345,\n",
    "                                        max_depth=depth)\n",
    "    model_tree_dw.fit(features_downsampled, target_downsampled)\n",
    "    predictions_valid_tree = model_tree_dw.predict(features_valid)\n",
    "    \n",
    "    f1_tree_dw = f1_score(target_valid, predictions_valid_tree)\n",
    "    if f1_tree_dw > best_f1:\n",
    "        best_model = model_tree_dw\n",
    "        best_depth = depth\n",
    "        best_f1 = f1_tree_dw\n",
    "\n",
    "print('Оптимальная глубина дерева:', best_depth) \n",
    "print('F1', f1_tree_dw)"
   ]
  },
  {
   "cell_type": "code",
   "execution_count": 713,
   "metadata": {},
   "outputs": [
    {
     "name": "stdout",
     "output_type": "stream",
     "text": [
      "F1: 0.5953109072375127\n",
      "AUC-ROC: 0.8240212861195628\n"
     ]
    }
   ],
   "source": [
    "# обучим модель с оптимальными гиперпараметрами\n",
    "\n",
    "model_tree_dw = DecisionTreeClassifier(random_state=12345,\n",
    "                                    max_depth=5)\n",
    "model_tree_dw.fit(features_downsampled, target_downsampled)\n",
    "predictions_valid_tree = model_tree_dw.predict(features_valid)\n",
    "\n",
    "print(\"F1:\", f1_score(target_valid, predictions_valid_tree))\n",
    "\n",
    "probabilities_valid = model_tree_dw.predict_proba(features_valid)\n",
    "probabilities_one_valid = probabilities_valid[:, 1]\n",
    "\n",
    "print(\"AUC-ROC:\", roc_auc_score(target_valid, probabilities_one_valid))"
   ]
  },
  {
   "cell_type": "code",
   "execution_count": 714,
   "metadata": {},
   "outputs": [
    {
     "data": {
      "text/html": [
       "<div>\n",
       "<style scoped>\n",
       "    .dataframe tbody tr th:only-of-type {\n",
       "        vertical-align: middle;\n",
       "    }\n",
       "\n",
       "    .dataframe tbody tr th {\n",
       "        vertical-align: top;\n",
       "    }\n",
       "\n",
       "    .dataframe thead th {\n",
       "        text-align: right;\n",
       "    }\n",
       "</style>\n",
       "<table border=\"1\" class=\"dataframe\">\n",
       "  <thead>\n",
       "    <tr style=\"text-align: right;\">\n",
       "      <th></th>\n",
       "      <th>Модель F1</th>\n",
       "      <th>Без баланса</th>\n",
       "      <th>Взвешивание</th>\n",
       "      <th>Увеличение</th>\n",
       "      <th>Уменьшение</th>\n",
       "    </tr>\n",
       "  </thead>\n",
       "  <tbody>\n",
       "    <tr>\n",
       "      <th>0</th>\n",
       "      <td>Tree</td>\n",
       "      <td>0.569697</td>\n",
       "      <td>0.596379</td>\n",
       "      <td>0.569697</td>\n",
       "      <td>0.595311</td>\n",
       "    </tr>\n",
       "    <tr>\n",
       "      <th>1</th>\n",
       "      <td>Forest</td>\n",
       "      <td>0.574103</td>\n",
       "      <td>0.628042</td>\n",
       "      <td>0.614240</td>\n",
       "      <td>0.000000</td>\n",
       "    </tr>\n",
       "    <tr>\n",
       "      <th>2</th>\n",
       "      <td>Logistic</td>\n",
       "      <td>0.331081</td>\n",
       "      <td>0.488851</td>\n",
       "      <td>0.488851</td>\n",
       "      <td>0.484065</td>\n",
       "    </tr>\n",
       "  </tbody>\n",
       "</table>\n",
       "</div>"
      ],
      "text/plain": [
       "  Модель F1  Без баланса  Взвешивание  Увеличение  Уменьшение\n",
       "0      Tree     0.569697     0.596379    0.569697    0.595311\n",
       "1    Forest     0.574103     0.628042    0.614240    0.000000\n",
       "2  Logistic     0.331081     0.488851    0.488851    0.484065"
      ]
     },
     "execution_count": 714,
     "metadata": {},
     "output_type": "execute_result"
    }
   ],
   "source": [
    "# внесем данные в таблицу\n",
    "\n",
    "data_f1_balance['Уменьшение'][0] = f1_score(target_valid, predictions_valid_tree)\n",
    "\n",
    "data_f1_balance.head()"
   ]
  },
  {
   "cell_type": "code",
   "execution_count": 715,
   "metadata": {},
   "outputs": [
    {
     "data": {
      "text/html": [
       "<div>\n",
       "<style scoped>\n",
       "    .dataframe tbody tr th:only-of-type {\n",
       "        vertical-align: middle;\n",
       "    }\n",
       "\n",
       "    .dataframe tbody tr th {\n",
       "        vertical-align: top;\n",
       "    }\n",
       "\n",
       "    .dataframe thead th {\n",
       "        text-align: right;\n",
       "    }\n",
       "</style>\n",
       "<table border=\"1\" class=\"dataframe\">\n",
       "  <thead>\n",
       "    <tr style=\"text-align: right;\">\n",
       "      <th></th>\n",
       "      <th>Модель AUC</th>\n",
       "      <th>Без баланса</th>\n",
       "      <th>Взвешивание</th>\n",
       "      <th>Увеличение</th>\n",
       "      <th>Уменьшение</th>\n",
       "    </tr>\n",
       "  </thead>\n",
       "  <tbody>\n",
       "    <tr>\n",
       "      <th>0</th>\n",
       "      <td>Tree</td>\n",
       "      <td>0.816463</td>\n",
       "      <td>0.831024</td>\n",
       "      <td>0.831024</td>\n",
       "      <td>0.824021</td>\n",
       "    </tr>\n",
       "    <tr>\n",
       "      <th>1</th>\n",
       "      <td>Forest</td>\n",
       "      <td>0.851399</td>\n",
       "      <td>0.852195</td>\n",
       "      <td>0.853036</td>\n",
       "      <td>0.000000</td>\n",
       "    </tr>\n",
       "    <tr>\n",
       "      <th>2</th>\n",
       "      <td>Logistic</td>\n",
       "      <td>0.758750</td>\n",
       "      <td>0.763730</td>\n",
       "      <td>0.763648</td>\n",
       "      <td>0.762288</td>\n",
       "    </tr>\n",
       "  </tbody>\n",
       "</table>\n",
       "</div>"
      ],
      "text/plain": [
       "  Модель AUC  Без баланса  Взвешивание  Увеличение  Уменьшение\n",
       "0       Tree     0.816463     0.831024    0.831024    0.824021\n",
       "1     Forest     0.851399     0.852195    0.853036    0.000000\n",
       "2   Logistic     0.758750     0.763730    0.763648    0.762288"
      ]
     },
     "execution_count": 715,
     "metadata": {},
     "output_type": "execute_result"
    }
   ],
   "source": [
    "data_auc_balance['Уменьшение'][0] = roc_auc_score(target_valid, probabilities_one_valid)\n",
    "\n",
    "data_auc_balance.head()"
   ]
  },
  {
   "cell_type": "markdown",
   "metadata": {},
   "source": [
    "#### Случайный лес"
   ]
  },
  {
   "cell_type": "code",
   "execution_count": 716,
   "metadata": {},
   "outputs": [
    {
     "name": "stdout",
     "output_type": "stream",
     "text": [
      "Оптимальное количество деревьев: 100\n",
      "Оптимальная глубина дерева: 8\n"
     ]
    }
   ],
   "source": [
    "# подберем лучшие гиперпараметры для модели Случайный лес при уменьшении выборки\n",
    "\n",
    "best_model = None\n",
    "for est in range(10, 101, 10):\n",
    "    for depth in range(1, 10):\n",
    "        model_forest_dw = RandomForestClassifier(random_state=12345,\n",
    "                                              n_estimators=est, \n",
    "                                              max_depth=depth)\n",
    "        model_forest_dw.fit(features_downsampled, target_downsampled)\n",
    "        predictions_valid_forest = model_forest_dw.predict(features_valid)\n",
    "        \n",
    "        f1_forest_dw = f1_score(target_valid, predictions_valid_forest)\n",
    "        if f1_forest_dw > best_f1:\n",
    "            best_model = model_forest_dw\n",
    "            best_est = est\n",
    "            best_depth = depth\n",
    "\n",
    "print('Оптимальное количество деревьев:', best_est)\n",
    "print('Оптимальная глубина дерева:', best_depth)"
   ]
  },
  {
   "cell_type": "code",
   "execution_count": 717,
   "metadata": {},
   "outputs": [
    {
     "name": "stdout",
     "output_type": "stream",
     "text": [
      "F1: 0.5959885386819483\n",
      "AUC-ROC: 0.8497843563050829\n"
     ]
    }
   ],
   "source": [
    "# обучим модель с оптимальными параметрами\n",
    "\n",
    "model_forest_dw = RandomForestClassifier(random_state=12345, \n",
    "                                      n_estimators=100, \n",
    "                                      max_depth=8)\n",
    "model_forest_dw.fit(features_downsampled, target_downsampled)\n",
    "predictions_valid_forest = model_forest_dw.predict(features_valid)\n",
    "\n",
    "\n",
    "print(\"F1:\", f1_score(target_valid, predictions_valid_forest))\n",
    "\n",
    "probabilities_valid = model_forest_dw.predict_proba(features_valid)\n",
    "probabilities_one_valid = probabilities_valid[:, 1]\n",
    "\n",
    "print(\"AUC-ROC:\", roc_auc_score(target_valid, probabilities_one_valid))"
   ]
  },
  {
   "cell_type": "code",
   "execution_count": 718,
   "metadata": {},
   "outputs": [
    {
     "data": {
      "text/html": [
       "<div>\n",
       "<style scoped>\n",
       "    .dataframe tbody tr th:only-of-type {\n",
       "        vertical-align: middle;\n",
       "    }\n",
       "\n",
       "    .dataframe tbody tr th {\n",
       "        vertical-align: top;\n",
       "    }\n",
       "\n",
       "    .dataframe thead th {\n",
       "        text-align: right;\n",
       "    }\n",
       "</style>\n",
       "<table border=\"1\" class=\"dataframe\">\n",
       "  <thead>\n",
       "    <tr style=\"text-align: right;\">\n",
       "      <th></th>\n",
       "      <th>Модель F1</th>\n",
       "      <th>Без баланса</th>\n",
       "      <th>Взвешивание</th>\n",
       "      <th>Увеличение</th>\n",
       "      <th>Уменьшение</th>\n",
       "    </tr>\n",
       "  </thead>\n",
       "  <tbody>\n",
       "    <tr>\n",
       "      <th>0</th>\n",
       "      <td>Tree</td>\n",
       "      <td>0.569697</td>\n",
       "      <td>0.596379</td>\n",
       "      <td>0.569697</td>\n",
       "      <td>0.595311</td>\n",
       "    </tr>\n",
       "    <tr>\n",
       "      <th>1</th>\n",
       "      <td>Forest</td>\n",
       "      <td>0.574103</td>\n",
       "      <td>0.628042</td>\n",
       "      <td>0.614240</td>\n",
       "      <td>0.595989</td>\n",
       "    </tr>\n",
       "    <tr>\n",
       "      <th>2</th>\n",
       "      <td>Logistic</td>\n",
       "      <td>0.331081</td>\n",
       "      <td>0.488851</td>\n",
       "      <td>0.488851</td>\n",
       "      <td>0.484065</td>\n",
       "    </tr>\n",
       "  </tbody>\n",
       "</table>\n",
       "</div>"
      ],
      "text/plain": [
       "  Модель F1  Без баланса  Взвешивание  Увеличение  Уменьшение\n",
       "0      Tree     0.569697     0.596379    0.569697    0.595311\n",
       "1    Forest     0.574103     0.628042    0.614240    0.595989\n",
       "2  Logistic     0.331081     0.488851    0.488851    0.484065"
      ]
     },
     "execution_count": 718,
     "metadata": {},
     "output_type": "execute_result"
    }
   ],
   "source": [
    "# внесем данные в таблицу\n",
    "\n",
    "data_f1_balance['Уменьшение'][1] = f1_score(target_valid, predictions_valid_forest)\n",
    "\n",
    "data_f1_balance.head()"
   ]
  },
  {
   "cell_type": "code",
   "execution_count": 719,
   "metadata": {},
   "outputs": [
    {
     "data": {
      "text/html": [
       "<div>\n",
       "<style scoped>\n",
       "    .dataframe tbody tr th:only-of-type {\n",
       "        vertical-align: middle;\n",
       "    }\n",
       "\n",
       "    .dataframe tbody tr th {\n",
       "        vertical-align: top;\n",
       "    }\n",
       "\n",
       "    .dataframe thead th {\n",
       "        text-align: right;\n",
       "    }\n",
       "</style>\n",
       "<table border=\"1\" class=\"dataframe\">\n",
       "  <thead>\n",
       "    <tr style=\"text-align: right;\">\n",
       "      <th></th>\n",
       "      <th>Модель AUC</th>\n",
       "      <th>Без баланса</th>\n",
       "      <th>Взвешивание</th>\n",
       "      <th>Увеличение</th>\n",
       "      <th>Уменьшение</th>\n",
       "    </tr>\n",
       "  </thead>\n",
       "  <tbody>\n",
       "    <tr>\n",
       "      <th>0</th>\n",
       "      <td>Tree</td>\n",
       "      <td>0.816463</td>\n",
       "      <td>0.831024</td>\n",
       "      <td>0.831024</td>\n",
       "      <td>0.824021</td>\n",
       "    </tr>\n",
       "    <tr>\n",
       "      <th>1</th>\n",
       "      <td>Forest</td>\n",
       "      <td>0.851399</td>\n",
       "      <td>0.852195</td>\n",
       "      <td>0.853036</td>\n",
       "      <td>0.849784</td>\n",
       "    </tr>\n",
       "    <tr>\n",
       "      <th>2</th>\n",
       "      <td>Logistic</td>\n",
       "      <td>0.758750</td>\n",
       "      <td>0.763730</td>\n",
       "      <td>0.763648</td>\n",
       "      <td>0.762288</td>\n",
       "    </tr>\n",
       "  </tbody>\n",
       "</table>\n",
       "</div>"
      ],
      "text/plain": [
       "  Модель AUC  Без баланса  Взвешивание  Увеличение  Уменьшение\n",
       "0       Tree     0.816463     0.831024    0.831024    0.824021\n",
       "1     Forest     0.851399     0.852195    0.853036    0.849784\n",
       "2   Logistic     0.758750     0.763730    0.763648    0.762288"
      ]
     },
     "execution_count": 719,
     "metadata": {},
     "output_type": "execute_result"
    }
   ],
   "source": [
    "data_auc_balance['Уменьшение'][1] = roc_auc_score(target_valid, probabilities_one_valid)\n",
    "\n",
    "data_auc_balance.head()"
   ]
  },
  {
   "cell_type": "markdown",
   "metadata": {},
   "source": [
    "### Матрица ошибок для лучшей модели"
   ]
  },
  {
   "cell_type": "markdown",
   "metadata": {},
   "source": [
    "Построим матрицу ошибок для лучшей модели для метрики F1. Ею оказалась  модель Случайного леса при балансировке классов методом взвешивания."
   ]
  },
  {
   "cell_type": "code",
   "execution_count": 727,
   "metadata": {},
   "outputs": [
    {
     "data": {
      "text/plain": [
       "<sklearn.metrics._plot.confusion_matrix.ConfusionMatrixDisplay at 0x7f76bb07c3a0>"
      ]
     },
     "execution_count": 727,
     "metadata": {},
     "output_type": "execute_result"
    },
    {
     "data": {
      "image/png": "[encoded data removed]",
      "text/plain": [
       "<Figure size 432x288 with 2 Axes>"
      ]
     },
     "metadata": {
      "needs_background": "light"
     },
     "output_type": "display_data"
    }
   ],
   "source": [
    "plot_confusion_matrix(estimator=model_forest_bw, \n",
    "                      X = features_valid,\n",
    "                      y_true = target_valid,\n",
    "                      normalize='true',\n",
    "                      cmap='Blues')\n"
   ]
  },
  {
   "cell_type": "markdown",
   "metadata": {},
   "source": [
    "Качество предсказаний модели True Negative - 89%, True Positive - 65%"
   ]
  },
  {
   "cell_type": "markdown",
   "metadata": {},
   "source": [
    "### Вывод"
   ]
  },
  {
   "cell_type": "markdown",
   "metadata": {},
   "source": [
    "- Наилучший показатель метрики F1 на обучающей выборке показала модель Случайного леса (est = 100, depth = 9) при балансировке классов методом взвешивания\n",
    "- Качество предсказаний модели True Negative - 89%, True Positive - 65%\n",
    "- F1 = 0.628\n",
    "- AUC-ROC = 0.852"
   ]
  },
  {
   "cell_type": "markdown",
   "metadata": {},
   "source": [
    "## Тестирование модели"
   ]
  },
  {
   "cell_type": "markdown",
   "metadata": {},
   "source": [
    "Протестируем модель на тестовой выборке. Найдем значение метрик F1 и AUC-ROC."
   ]
  },
  {
   "cell_type": "code",
   "execution_count": 728,
   "metadata": {},
   "outputs": [
    {
     "name": "stdout",
     "output_type": "stream",
     "text": [
      "F1: 0.6120591581342435\n",
      "AUC-ROC: 0.859968429147722\n"
     ]
    }
   ],
   "source": [
    "predictions_valid_forest_final = model_forest_bw.predict(features_test)\n",
    "\n",
    "\n",
    "print(\"F1:\", f1_score(target_test, predictions_valid_forest_final))\n",
    "\n",
    "probabilities_valid = model_forest_bw.predict_proba(features_test)\n",
    "probabilities_one_valid = probabilities_valid[:, 1]\n",
    "\n",
    "print(\"AUC-ROC:\", roc_auc_score(target_test, probabilities_one_valid))"
   ]
  },
  {
   "cell_type": "markdown",
   "metadata": {},
   "source": [
    "Значение F1= 0.612, это выше значения 0.59 по заданию."
   ]
  },
  {
   "cell_type": "code",
   "execution_count": 729,
   "metadata": {
    "scrolled": true
   },
   "outputs": [
    {
     "data": {
      "image/png": "[encoded data removed]",
      "text/plain": [
       "<Figure size 432x288 with 1 Axes>"
      ]
     },
     "metadata": {
      "needs_background": "light"
     },
     "output_type": "display_data"
    }
   ],
   "source": [
    "# построим ROC-кривую\n",
    "\n",
    "fpr, tpr, thresholds = roc_curve(target_test, probabilities_one_valid) \n",
    "\n",
    "plt.figure()\n",
    "plt.plot(fpr, tpr, linestyle='solid')\n",
    "plt.plot([0, 1], [0, 1], linestyle='--')\n",
    "plt.xlim([0.0, 1.0])\n",
    "plt.ylim([0.0, 1.0])\n",
    "plt.xlabel('False Positive Rate')\n",
    "plt.ylabel('True Positive Rate')\n",
    "plt.title('ROC-кривая')\n",
    "plt.show()"
   ]
  },
  {
   "cell_type": "code",
   "execution_count": 731,
   "metadata": {},
   "outputs": [
    {
     "data": {
      "text/plain": [
       "0    2000\n",
       "dtype: int64"
      ]
     },
     "execution_count": 731,
     "metadata": {},
     "output_type": "execute_result"
    }
   ],
   "source": [
    "#Создаем константную модель\n",
    "\n",
    "target_predict_constant = pd.Series([0]*len(target_test))\n",
    "target_predict_constant.value_counts()"
   ]
  },
  {
   "cell_type": "code",
   "execution_count": 733,
   "metadata": {
    "scrolled": true
   },
   "outputs": [
    {
     "name": "stdout",
     "output_type": "stream",
     "text": [
      "Accuracy_score константой модели: 0.791\n",
      "Accuracy_score финальной модели: 0.8295\n",
      "AUC-ROC константой модели: 0.5\n",
      "AUC-ROC финальной модели: 0.859968429147722\n"
     ]
    }
   ],
   "source": [
    "#Сравним показатель точности accuracy_score константной модели и финальной\n",
    "\n",
    "print('Accuracy_score константой модели:', accuracy_score(target_valid, target_predict_constant))\n",
    "print('Accuracy_score финальной модели:', accuracy_score(target_test, predictions_valid_forest_final))\n",
    "\n",
    "#Дополнительно сравним AUC-ROC — единственный параметр подающийся сравнению, \n",
    "#потому что константная подель содержит только негативные ответы\n",
    "\n",
    "print('AUC-ROC константой модели:', roc_auc_score(target_valid, target_predict_constant))\n",
    "print('AUC-ROC финальной модели:', roc_auc_score(target_test, probabilities_one_valid))"
   ]
  },
  {
   "cell_type": "markdown",
   "metadata": {},
   "source": [
    "Финальная модель показывает результаты лучше, чем константная модель, значит нашу модель можно считать адекватной."
   ]
  },
  {
   "cell_type": "markdown",
   "metadata": {},
   "source": [
    "## Общий вывод"
   ]
  },
  {
   "cell_type": "markdown",
   "metadata": {},
   "source": [
    "Подготовка данных:\n",
    "\n",
    "- Нам дан датафрейм в 10 000 строк и 14 столбцов\n",
    "- Пропуски есть только в столбце tenure в количестве 909 строк\n",
    "- Дубликатов нет\n",
    "\n",
    "Было сделано:\n",
    "\n",
    "- Приведены названия столбцов и их содержимого к нижнему регистру\n",
    "- Удалены стоблцы 'rownumber'- номер строки, 'customerid' - id клиента, 'surname' - фамилия клиента, как не важные для дальнейших исследований\n",
    "- Заполнены пропуски в столбце tenure - общий срок обслуживания клиента в банке - средним значением по столбцу.\n",
    "- Получена на выходе база с 10 000 строк и 11 столбцов"
   ]
  },
  {
   "cell_type": "markdown",
   "metadata": {},
   "source": [
    "Исследование задачи:\n",
    "\n",
    "- Категориальные данные столбцов были переведены в числовые методом One-Hot Encoding\n",
    "- Подготовленные данные были масштабированы по столбцам 'creditscore', 'age', 'tenure', 'balance', 'numofproducts', 'estimatedsalary'\n",
    "- Данные были разделены на тестовую, валидационную и обучающую выборки в соотношении 60/20/20\n",
    "- У целевого признака наблюдается дисбаланс классов в пользу значения 0 (оставшиеся клиенты)\n",
    "\n",
    "Построение моделей без учета дисбаланса:\n",
    "\n",
    "- Построили модели Дерево решений, Случайный лес и Логистическая регрессия при дисбалансе классов с оптимальными показателями для метрики F1\n",
    "- Получили лучший показатель F1  для модели Случайный лес - 0.57\n",
    "- Построили матрицы ошибок для всех трех моделей - они показывают, что все три модели хорошо предсказывают доминирующий класс, но точность предсказания класса 1 (уход из банка) не превышает точности 45%"
   ]
  },
  {
   "cell_type": "markdown",
   "metadata": {},
   "source": [
    "Построение моделей с учетом дисбаланса:\n",
    "    \n",
    "- Построили модели Логистической регрессии, Дерево решений и Случайного леса  для разных способов балансировки классов : взвешивание, увеличение и уменьшение выборки\n",
    "- Собрали данные в таблицу для выбора лучшего показателя метрики F1\n",
    "- Наилучший показатель метрики F1 на обучающей выборке показала модель Случайного леса (est = 100, depth = 9) при балансировке классов методом взвешивания\n",
    "- Качество предсказаний модели True Negative - 89%, True Positive - 65%\n",
    "- F1 = 0.628\n",
    "- AUC-ROC = 0.852"
   ]
  },
  {
   "cell_type": "markdown",
   "metadata": {},
   "source": [
    "Тестирование модели:\n",
    "\n",
    "- Протестировали лучшую модель на тестовой выборке\n",
    "- Получили значения метрик  F1: 0.6120591581342435 и AUC-ROC: 0.859968429147722\n",
    "- Полученное значение F1 больше 0.59 по заданию\n",
    "- Значение  AUC-ROC близко к 1\n",
    "- Построили график ROC - кривой\n",
    "- Проверили модель на адекватность, сравнив Accuracy_score константой  и финальной модели. Модель прошла тест на адекватность"
   ]
  },
  {
   "cell_type": "code",
   "execution_count": null,
   "metadata": {},
   "outputs": [],
   "source": []
  }
 ],
 "metadata": {
  "ExecuteTimeLog": [
   {
    "duration": 51,
    "start_time": "2023-06-22T06:08:21.042Z"
   },
   {
    "duration": 1228,
    "start_time": "2023-06-22T06:08:42.654Z"
   },
   {
    "duration": 94,
    "start_time": "2023-06-22T06:08:48.122Z"
   },
   {
    "duration": 26,
    "start_time": "2023-06-22T06:09:25.386Z"
   },
   {
    "duration": 68,
    "start_time": "2023-06-22T06:37:44.824Z"
   },
   {
    "duration": 8,
    "start_time": "2023-06-22T06:37:58.516Z"
   },
   {
    "duration": 15,
    "start_time": "2023-06-22T06:44:43.050Z"
   },
   {
    "duration": 9,
    "start_time": "2023-06-22T06:44:55.792Z"
   },
   {
    "duration": 15,
    "start_time": "2023-06-22T06:45:50.518Z"
   },
   {
    "duration": 16,
    "start_time": "2023-06-22T06:46:01.003Z"
   },
   {
    "duration": 20,
    "start_time": "2023-06-22T06:50:10.703Z"
   },
   {
    "duration": 8,
    "start_time": "2023-06-22T06:50:18.934Z"
   },
   {
    "duration": 595,
    "start_time": "2023-06-22T06:58:16.128Z"
   },
   {
    "duration": 201,
    "start_time": "2023-06-22T07:01:19.195Z"
   },
   {
    "duration": 134,
    "start_time": "2023-06-22T07:01:33.730Z"
   },
   {
    "duration": 172,
    "start_time": "2023-06-22T07:01:44.739Z"
   },
   {
    "duration": 181,
    "start_time": "2023-06-22T07:03:34.635Z"
   },
   {
    "duration": 4,
    "start_time": "2023-06-22T07:04:22.124Z"
   },
   {
    "duration": 279,
    "start_time": "2023-06-22T07:04:26.930Z"
   },
   {
    "duration": 10,
    "start_time": "2023-06-22T07:05:39.339Z"
   },
   {
    "duration": 19,
    "start_time": "2023-06-22T07:05:54.444Z"
   },
   {
    "duration": 9,
    "start_time": "2023-06-22T07:10:13.991Z"
   },
   {
    "duration": 11,
    "start_time": "2023-06-22T07:10:23.579Z"
   },
   {
    "duration": 13,
    "start_time": "2023-06-22T07:11:29.467Z"
   },
   {
    "duration": 4,
    "start_time": "2023-06-22T10:26:47.135Z"
   },
   {
    "duration": 51,
    "start_time": "2023-06-22T10:26:47.770Z"
   },
   {
    "duration": 15,
    "start_time": "2023-06-22T10:26:51.318Z"
   },
   {
    "duration": 22,
    "start_time": "2023-06-22T10:26:53.763Z"
   },
   {
    "duration": 26,
    "start_time": "2023-06-22T10:27:03.227Z"
   },
   {
    "duration": 17,
    "start_time": "2023-06-22T10:27:09.028Z"
   },
   {
    "duration": 20,
    "start_time": "2023-06-22T10:29:09.745Z"
   },
   {
    "duration": 15,
    "start_time": "2023-06-22T10:30:03.034Z"
   },
   {
    "duration": 28,
    "start_time": "2023-06-22T10:30:36.914Z"
   },
   {
    "duration": 15,
    "start_time": "2023-06-22T10:31:02.120Z"
   },
   {
    "duration": 3,
    "start_time": "2023-06-22T10:31:07.122Z"
   },
   {
    "duration": 61,
    "start_time": "2023-06-22T10:31:08.326Z"
   },
   {
    "duration": 17,
    "start_time": "2023-06-22T10:31:11.659Z"
   },
   {
    "duration": 34,
    "start_time": "2023-06-22T10:31:18.282Z"
   },
   {
    "duration": 14,
    "start_time": "2023-06-22T10:31:21.275Z"
   },
   {
    "duration": 8,
    "start_time": "2023-06-22T10:31:28.508Z"
   },
   {
    "duration": 16,
    "start_time": "2023-06-22T10:31:40.212Z"
   },
   {
    "duration": 15,
    "start_time": "2023-06-22T10:31:59.717Z"
   },
   {
    "duration": 4,
    "start_time": "2023-06-22T10:32:19.000Z"
   },
   {
    "duration": 50,
    "start_time": "2023-06-22T10:32:19.643Z"
   },
   {
    "duration": 14,
    "start_time": "2023-06-22T10:32:22.660Z"
   },
   {
    "duration": 26,
    "start_time": "2023-06-22T10:32:26.904Z"
   },
   {
    "duration": 15,
    "start_time": "2023-06-22T10:32:37.955Z"
   },
   {
    "duration": 8,
    "start_time": "2023-06-22T10:32:44.212Z"
   },
   {
    "duration": 14,
    "start_time": "2023-06-22T10:33:00.215Z"
   },
   {
    "duration": 178,
    "start_time": "2023-06-22T10:33:11.068Z"
   },
   {
    "duration": 15,
    "start_time": "2023-06-22T10:33:26.228Z"
   },
   {
    "duration": 10,
    "start_time": "2023-06-22T10:33:34.915Z"
   },
   {
    "duration": 10,
    "start_time": "2023-06-22T10:33:45.516Z"
   },
   {
    "duration": 22,
    "start_time": "2023-06-22T10:36:57.659Z"
   },
   {
    "duration": 20,
    "start_time": "2023-06-22T10:37:11.326Z"
   },
   {
    "duration": 4,
    "start_time": "2023-06-22T10:38:44.308Z"
   },
   {
    "duration": 60,
    "start_time": "2023-06-22T10:38:45.008Z"
   },
   {
    "duration": 13,
    "start_time": "2023-06-22T10:38:45.701Z"
   },
   {
    "duration": 26,
    "start_time": "2023-06-22T10:38:47.213Z"
   },
   {
    "duration": 14,
    "start_time": "2023-06-22T10:38:48.716Z"
   },
   {
    "duration": 8,
    "start_time": "2023-06-22T10:38:49.531Z"
   },
   {
    "duration": 15,
    "start_time": "2023-06-22T10:38:55.308Z"
   },
   {
    "duration": 171,
    "start_time": "2023-06-22T10:38:59.022Z"
   },
   {
    "duration": 14,
    "start_time": "2023-06-22T10:39:02.721Z"
   },
   {
    "duration": 12,
    "start_time": "2023-06-22T10:39:24.666Z"
   },
   {
    "duration": 18,
    "start_time": "2023-06-22T10:39:41.852Z"
   },
   {
    "duration": 13,
    "start_time": "2023-06-22T10:39:43.623Z"
   },
   {
    "duration": 4,
    "start_time": "2023-06-22T11:36:54.612Z"
   },
   {
    "duration": 55,
    "start_time": "2023-06-22T11:36:55.270Z"
   },
   {
    "duration": 16,
    "start_time": "2023-06-22T11:36:55.963Z"
   },
   {
    "duration": 28,
    "start_time": "2023-06-22T11:36:57.241Z"
   },
   {
    "duration": 15,
    "start_time": "2023-06-22T11:36:58.552Z"
   },
   {
    "duration": 9,
    "start_time": "2023-06-22T11:36:59.232Z"
   },
   {
    "duration": 15,
    "start_time": "2023-06-22T11:37:00.654Z"
   },
   {
    "duration": 210,
    "start_time": "2023-06-22T11:37:02.866Z"
   },
   {
    "duration": 14,
    "start_time": "2023-06-22T11:37:04.848Z"
   },
   {
    "duration": 9,
    "start_time": "2023-06-22T11:37:09.808Z"
   },
   {
    "duration": 20,
    "start_time": "2023-06-22T11:37:26.669Z"
   },
   {
    "duration": 14,
    "start_time": "2023-06-22T11:37:32.352Z"
   },
   {
    "duration": 27,
    "start_time": "2023-06-22T11:46:49.443Z"
   },
   {
    "duration": 21,
    "start_time": "2023-06-22T11:46:56.924Z"
   },
   {
    "duration": 12,
    "start_time": "2023-06-22T11:46:59.947Z"
   },
   {
    "duration": 21,
    "start_time": "2023-06-22T11:47:19.635Z"
   },
   {
    "duration": 22,
    "start_time": "2023-06-22T11:50:07.723Z"
   },
   {
    "duration": 20,
    "start_time": "2023-06-22T11:50:16.573Z"
   },
   {
    "duration": 12,
    "start_time": "2023-06-22T11:59:03.342Z"
   },
   {
    "duration": 94,
    "start_time": "2023-06-22T12:16:19.508Z"
   },
   {
    "duration": 197,
    "start_time": "2023-06-22T12:16:28.834Z"
   },
   {
    "duration": 26,
    "start_time": "2023-06-22T12:16:38.950Z"
   },
   {
    "duration": 16,
    "start_time": "2023-06-22T12:18:07.434Z"
   },
   {
    "duration": 13,
    "start_time": "2023-06-22T12:19:29.744Z"
   },
   {
    "duration": 106,
    "start_time": "2023-06-22T12:19:43.756Z"
   },
   {
    "duration": 98,
    "start_time": "2023-06-22T12:22:25.550Z"
   },
   {
    "duration": 115,
    "start_time": "2023-06-22T12:22:32.114Z"
   },
   {
    "duration": 95,
    "start_time": "2023-06-22T12:22:59.400Z"
   },
   {
    "duration": 76,
    "start_time": "2023-06-22T12:23:07.131Z"
   },
   {
    "duration": 73,
    "start_time": "2023-06-22T12:23:54.061Z"
   },
   {
    "duration": 73,
    "start_time": "2023-06-22T12:24:11.416Z"
   },
   {
    "duration": 96,
    "start_time": "2023-06-22T12:25:47.558Z"
   },
   {
    "duration": 128,
    "start_time": "2023-06-22T12:25:54.322Z"
   },
   {
    "duration": 109,
    "start_time": "2023-06-22T12:26:03.708Z"
   },
   {
    "duration": 216,
    "start_time": "2023-06-22T12:26:13.728Z"
   },
   {
    "duration": 93,
    "start_time": "2023-06-22T12:26:24.262Z"
   },
   {
    "duration": 131,
    "start_time": "2023-06-22T12:30:22.355Z"
   },
   {
    "duration": 585,
    "start_time": "2023-06-22T12:30:33.704Z"
   },
   {
    "duration": 131,
    "start_time": "2023-06-22T12:31:42.712Z"
   },
   {
    "duration": 7,
    "start_time": "2023-06-22T12:31:59.604Z"
   },
   {
    "duration": 127,
    "start_time": "2023-06-22T12:33:57.259Z"
   },
   {
    "duration": 96,
    "start_time": "2023-06-22T12:34:15.847Z"
   },
   {
    "duration": 124,
    "start_time": "2023-06-22T12:34:26.864Z"
   },
   {
    "duration": 96,
    "start_time": "2023-06-22T12:34:33.228Z"
   },
   {
    "duration": 128,
    "start_time": "2023-06-22T12:36:38.546Z"
   },
   {
    "duration": 91,
    "start_time": "2023-06-22T12:36:49.651Z"
   },
   {
    "duration": 103,
    "start_time": "2023-06-22T12:38:43.201Z"
   },
   {
    "duration": 134,
    "start_time": "2023-06-22T12:39:19.724Z"
   },
   {
    "duration": 90,
    "start_time": "2023-06-22T12:39:48.122Z"
   },
   {
    "duration": 95,
    "start_time": "2023-06-22T12:40:13.622Z"
   },
   {
    "duration": 106,
    "start_time": "2023-06-22T12:40:36.860Z"
   },
   {
    "duration": 92,
    "start_time": "2023-06-22T12:40:47.927Z"
   },
   {
    "duration": 98,
    "start_time": "2023-06-22T12:44:31.727Z"
   },
   {
    "duration": 103,
    "start_time": "2023-06-22T12:44:51.222Z"
   },
   {
    "duration": 8,
    "start_time": "2023-06-22T12:45:51.543Z"
   },
   {
    "duration": 27,
    "start_time": "2023-06-22T12:45:55.071Z"
   },
   {
    "duration": 12,
    "start_time": "2023-06-22T12:45:58.208Z"
   },
   {
    "duration": 5,
    "start_time": "2023-06-24T09:31:35.389Z"
   },
   {
    "duration": 88,
    "start_time": "2023-06-24T09:31:36.002Z"
   },
   {
    "duration": 15,
    "start_time": "2023-06-24T09:31:36.699Z"
   },
   {
    "duration": 27,
    "start_time": "2023-06-24T09:31:38.027Z"
   },
   {
    "duration": 14,
    "start_time": "2023-06-24T09:31:39.291Z"
   },
   {
    "duration": 8,
    "start_time": "2023-06-24T09:31:39.963Z"
   },
   {
    "duration": 15,
    "start_time": "2023-06-24T09:31:41.245Z"
   },
   {
    "duration": 189,
    "start_time": "2023-06-24T09:31:42.546Z"
   },
   {
    "duration": 22,
    "start_time": "2023-06-24T09:31:44.074Z"
   },
   {
    "duration": 10,
    "start_time": "2023-06-24T09:31:45.546Z"
   },
   {
    "duration": 241,
    "start_time": "2023-06-24T09:31:49.651Z"
   },
   {
    "duration": 10,
    "start_time": "2023-06-24T09:31:51.258Z"
   },
   {
    "duration": 29,
    "start_time": "2023-06-24T09:31:52.579Z"
   },
   {
    "duration": 19,
    "start_time": "2023-06-24T09:31:53.427Z"
   },
   {
    "duration": 4,
    "start_time": "2023-06-24T09:36:23.516Z"
   },
   {
    "duration": 35,
    "start_time": "2023-06-24T09:37:42.884Z"
   },
   {
    "duration": 31,
    "start_time": "2023-06-24T09:39:31.459Z"
   },
   {
    "duration": 10,
    "start_time": "2023-06-24T09:40:04.148Z"
   },
   {
    "duration": 10,
    "start_time": "2023-06-24T09:40:37.147Z"
   },
   {
    "duration": 27,
    "start_time": "2023-06-24T09:40:54.786Z"
   },
   {
    "duration": 10,
    "start_time": "2023-06-24T09:53:05.821Z"
   },
   {
    "duration": 7,
    "start_time": "2023-06-24T09:53:07.395Z"
   },
   {
    "duration": 34,
    "start_time": "2023-06-24T09:54:10.691Z"
   },
   {
    "duration": 14,
    "start_time": "2023-06-24T09:54:30.899Z"
   },
   {
    "duration": 12,
    "start_time": "2023-06-24T09:56:43.213Z"
   },
   {
    "duration": 14,
    "start_time": "2023-06-24T09:56:57.019Z"
   },
   {
    "duration": 3,
    "start_time": "2023-06-24T10:03:31.297Z"
   },
   {
    "duration": 3,
    "start_time": "2023-06-24T10:25:58.620Z"
   },
   {
    "duration": 13,
    "start_time": "2023-06-24T10:26:07.139Z"
   },
   {
    "duration": 4,
    "start_time": "2023-06-24T10:28:31.747Z"
   },
   {
    "duration": 168,
    "start_time": "2023-06-24T10:28:37.851Z"
   },
   {
    "duration": 3,
    "start_time": "2023-06-24T10:31:08.865Z"
   },
   {
    "duration": 6,
    "start_time": "2023-06-24T10:35:43.889Z"
   },
   {
    "duration": 31,
    "start_time": "2023-06-24T10:35:50.283Z"
   },
   {
    "duration": 6,
    "start_time": "2023-06-24T10:40:35.395Z"
   },
   {
    "duration": 9,
    "start_time": "2023-06-24T10:44:31.026Z"
   },
   {
    "duration": 12,
    "start_time": "2023-06-24T10:46:24.428Z"
   },
   {
    "duration": 15,
    "start_time": "2023-06-24T10:46:53.953Z"
   },
   {
    "duration": 5,
    "start_time": "2023-06-24T10:47:29.602Z"
   },
   {
    "duration": 135,
    "start_time": "2023-06-24T10:47:34.787Z"
   },
   {
    "duration": 4,
    "start_time": "2023-06-24T10:57:36.436Z"
   },
   {
    "duration": 22841,
    "start_time": "2023-06-24T10:59:01.036Z"
   },
   {
    "duration": 626,
    "start_time": "2023-06-24T11:01:21.677Z"
   },
   {
    "duration": 9,
    "start_time": "2023-06-24T11:03:40.908Z"
   },
   {
    "duration": 51,
    "start_time": "2023-06-24T11:03:52.366Z"
   },
   {
    "duration": 48,
    "start_time": "2023-06-24T11:04:16.491Z"
   },
   {
    "duration": 53,
    "start_time": "2023-06-24T11:04:54.715Z"
   },
   {
    "duration": 152,
    "start_time": "2023-06-24T11:05:38.797Z"
   },
   {
    "duration": 8,
    "start_time": "2023-06-24T11:06:26.880Z"
   },
   {
    "duration": 22015,
    "start_time": "2023-06-24T11:06:34.332Z"
   },
   {
    "duration": 644,
    "start_time": "2023-06-24T11:07:01.176Z"
   },
   {
    "duration": 58,
    "start_time": "2023-06-24T11:07:06.115Z"
   },
   {
    "duration": 3,
    "start_time": "2023-06-24T12:39:48.702Z"
   },
   {
    "duration": 110,
    "start_time": "2023-06-24T12:41:09.849Z"
   },
   {
    "duration": 11,
    "start_time": "2023-06-24T12:42:16.793Z"
   },
   {
    "duration": 51,
    "start_time": "2023-06-24T12:42:24.242Z"
   },
   {
    "duration": 154,
    "start_time": "2023-06-24T12:42:32.651Z"
   },
   {
    "duration": 135,
    "start_time": "2023-06-24T12:42:46.258Z"
   },
   {
    "duration": 15,
    "start_time": "2023-06-24T12:43:15.458Z"
   },
   {
    "duration": 144,
    "start_time": "2023-06-24T12:43:57.028Z"
   },
   {
    "duration": 22,
    "start_time": "2023-06-24T12:47:51.337Z"
   },
   {
    "duration": 16,
    "start_time": "2023-06-24T12:48:27.453Z"
   },
   {
    "duration": 17,
    "start_time": "2023-06-24T12:48:48.499Z"
   },
   {
    "duration": 15,
    "start_time": "2023-06-24T12:49:04.994Z"
   },
   {
    "duration": 91,
    "start_time": "2023-06-24T13:05:46.683Z"
   },
   {
    "duration": 131,
    "start_time": "2023-06-24T13:05:54.547Z"
   },
   {
    "duration": 291,
    "start_time": "2023-06-24T13:06:06.217Z"
   },
   {
    "duration": 12,
    "start_time": "2023-06-24T13:06:36.196Z"
   },
   {
    "duration": 4,
    "start_time": "2023-06-24T13:07:19.915Z"
   },
   {
    "duration": 420,
    "start_time": "2023-06-24T13:07:24.883Z"
   },
   {
    "duration": 433,
    "start_time": "2023-06-24T13:08:28.932Z"
   },
   {
    "duration": 324,
    "start_time": "2023-06-24T13:10:02.204Z"
   },
   {
    "duration": 418,
    "start_time": "2023-06-24T13:11:10.605Z"
   },
   {
    "duration": 295,
    "start_time": "2023-06-24T13:11:33.089Z"
   },
   {
    "duration": 370,
    "start_time": "2023-06-24T13:11:41.819Z"
   },
   {
    "duration": 359,
    "start_time": "2023-06-24T13:12:05.828Z"
   },
   {
    "duration": 682,
    "start_time": "2023-06-24T13:13:26.653Z"
   },
   {
    "duration": 663,
    "start_time": "2023-06-24T13:13:38.802Z"
   },
   {
    "duration": 527,
    "start_time": "2023-06-24T13:14:16.847Z"
   },
   {
    "duration": 635,
    "start_time": "2023-06-24T13:16:49.565Z"
   },
   {
    "duration": 666,
    "start_time": "2023-06-24T13:17:27.036Z"
   },
   {
    "duration": 6,
    "start_time": "2023-06-26T05:55:15.561Z"
   },
   {
    "duration": 75,
    "start_time": "2023-06-26T05:55:16.261Z"
   },
   {
    "duration": 16,
    "start_time": "2023-06-26T05:55:16.933Z"
   },
   {
    "duration": 26,
    "start_time": "2023-06-26T05:55:18.117Z"
   },
   {
    "duration": 14,
    "start_time": "2023-06-26T05:55:19.246Z"
   },
   {
    "duration": 8,
    "start_time": "2023-06-26T05:55:19.829Z"
   },
   {
    "duration": 15,
    "start_time": "2023-06-26T05:55:20.982Z"
   },
   {
    "duration": 181,
    "start_time": "2023-06-26T05:55:22.173Z"
   },
   {
    "duration": 13,
    "start_time": "2023-06-26T05:55:23.694Z"
   },
   {
    "duration": 10,
    "start_time": "2023-06-26T05:55:24.909Z"
   },
   {
    "duration": 118,
    "start_time": "2023-06-26T05:55:28.253Z"
   },
   {
    "duration": 9,
    "start_time": "2023-06-26T05:55:31.277Z"
   },
   {
    "duration": 20,
    "start_time": "2023-06-26T05:55:33.029Z"
   },
   {
    "duration": 12,
    "start_time": "2023-06-26T05:55:33.924Z"
   },
   {
    "duration": 10,
    "start_time": "2023-06-26T05:55:35.261Z"
   },
   {
    "duration": 7,
    "start_time": "2023-06-26T05:55:36.218Z"
   },
   {
    "duration": 32,
    "start_time": "2023-06-26T05:55:36.516Z"
   },
   {
    "duration": 13,
    "start_time": "2023-06-26T05:55:37.277Z"
   },
   {
    "duration": 12,
    "start_time": "2023-06-26T05:55:37.925Z"
   },
   {
    "duration": 13,
    "start_time": "2023-06-26T05:55:38.548Z"
   },
   {
    "duration": 152,
    "start_time": "2023-06-26T05:55:44.143Z"
   },
   {
    "duration": 29,
    "start_time": "2023-06-26T05:55:44.757Z"
   },
   {
    "duration": 9,
    "start_time": "2023-06-26T05:55:45.885Z"
   },
   {
    "duration": 136,
    "start_time": "2023-06-26T05:55:46.676Z"
   },
   {
    "duration": 19851,
    "start_time": "2023-06-26T05:55:48.188Z"
   },
   {
    "duration": 626,
    "start_time": "2023-06-26T05:56:08.041Z"
   },
   {
    "duration": 47,
    "start_time": "2023-06-26T05:56:08.669Z"
   },
   {
    "duration": 153,
    "start_time": "2023-06-26T05:56:08.719Z"
   },
   {
    "duration": 80,
    "start_time": "2023-06-26T05:56:08.874Z"
   },
   {
    "duration": 98,
    "start_time": "2023-06-26T05:56:08.955Z"
   },
   {
    "duration": 240,
    "start_time": "2023-06-26T05:56:09.055Z"
   },
   {
    "duration": 16,
    "start_time": "2023-06-26T05:56:09.297Z"
   },
   {
    "duration": 841,
    "start_time": "2023-06-26T05:56:09.314Z"
   },
   {
    "duration": 665,
    "start_time": "2023-06-26T05:56:25.822Z"
   },
   {
    "duration": 605,
    "start_time": "2023-06-26T05:56:39.477Z"
   },
   {
    "duration": 3,
    "start_time": "2023-06-26T06:03:21.074Z"
   },
   {
    "duration": 67,
    "start_time": "2023-06-26T06:15:44.003Z"
   },
   {
    "duration": 21,
    "start_time": "2023-06-26T06:18:15.881Z"
   },
   {
    "duration": 30,
    "start_time": "2023-06-26T06:23:15.607Z"
   },
   {
    "duration": 18,
    "start_time": "2023-06-26T06:24:48.096Z"
   },
   {
    "duration": 119,
    "start_time": "2023-06-26T06:25:47.252Z"
   },
   {
    "duration": 29,
    "start_time": "2023-06-26T06:25:49.844Z"
   },
   {
    "duration": 94,
    "start_time": "2023-06-26T06:27:15.508Z"
   },
   {
    "duration": 5,
    "start_time": "2023-06-26T06:27:21.220Z"
   },
   {
    "duration": 60,
    "start_time": "2023-06-26T06:27:21.818Z"
   },
   {
    "duration": 15,
    "start_time": "2023-06-26T06:27:22.412Z"
   },
   {
    "duration": 27,
    "start_time": "2023-06-26T06:27:23.500Z"
   },
   {
    "duration": 15,
    "start_time": "2023-06-26T06:27:24.628Z"
   },
   {
    "duration": 8,
    "start_time": "2023-06-26T06:27:25.139Z"
   },
   {
    "duration": 20,
    "start_time": "2023-06-26T06:27:26.186Z"
   },
   {
    "duration": 219,
    "start_time": "2023-06-26T06:27:27.315Z"
   },
   {
    "duration": 37,
    "start_time": "2023-06-26T06:27:28.358Z"
   },
   {
    "duration": 11,
    "start_time": "2023-06-26T06:27:29.419Z"
   },
   {
    "duration": 147,
    "start_time": "2023-06-26T06:27:31.939Z"
   },
   {
    "duration": 18,
    "start_time": "2023-06-26T06:27:34.074Z"
   },
   {
    "duration": 22,
    "start_time": "2023-06-26T06:27:35.122Z"
   },
   {
    "duration": 13,
    "start_time": "2023-06-26T06:27:35.715Z"
   },
   {
    "duration": 11,
    "start_time": "2023-06-26T06:27:36.819Z"
   },
   {
    "duration": 18,
    "start_time": "2023-06-26T06:27:37.376Z"
   },
   {
    "duration": 70,
    "start_time": "2023-06-26T06:27:37.946Z"
   },
   {
    "duration": 17,
    "start_time": "2023-06-26T06:27:38.628Z"
   },
   {
    "duration": 25,
    "start_time": "2023-06-26T06:27:39.270Z"
   },
   {
    "duration": 18,
    "start_time": "2023-06-26T06:27:39.828Z"
   },
   {
    "duration": 201,
    "start_time": "2023-06-26T06:27:56.731Z"
   },
   {
    "duration": 39,
    "start_time": "2023-06-26T06:27:57.694Z"
   },
   {
    "duration": 25,
    "start_time": "2023-06-26T06:27:58.547Z"
   },
   {
    "duration": 152,
    "start_time": "2023-06-26T06:27:59.393Z"
   },
   {
    "duration": 24414,
    "start_time": "2023-06-26T06:28:01.497Z"
   },
   {
    "duration": 718,
    "start_time": "2023-06-26T06:28:38.746Z"
   },
   {
    "duration": 56,
    "start_time": "2023-06-26T06:28:41.376Z"
   },
   {
    "duration": 161,
    "start_time": "2023-06-26T06:28:42.798Z"
   },
   {
    "duration": 77,
    "start_time": "2023-06-26T06:28:48.984Z"
   },
   {
    "duration": 31,
    "start_time": "2023-06-26T06:28:51.570Z"
   },
   {
    "duration": 194,
    "start_time": "2023-06-26T06:28:53.442Z"
   },
   {
    "duration": 32,
    "start_time": "2023-06-26T06:28:59.195Z"
   },
   {
    "duration": 695,
    "start_time": "2023-06-26T06:29:06.622Z"
   },
   {
    "duration": 70,
    "start_time": "2023-06-26T06:29:22.385Z"
   },
   {
    "duration": 27,
    "start_time": "2023-06-26T06:29:24.270Z"
   },
   {
    "duration": 183,
    "start_time": "2023-06-26T06:38:16.725Z"
   },
   {
    "duration": 62,
    "start_time": "2023-06-26T06:40:05.149Z"
   },
   {
    "duration": 48,
    "start_time": "2023-06-26T06:42:45.444Z"
   },
   {
    "duration": 18,
    "start_time": "2023-06-26T06:43:12.627Z"
   },
   {
    "duration": 23647,
    "start_time": "2023-06-26T06:46:51.444Z"
   },
   {
    "duration": 754,
    "start_time": "2023-06-26T06:49:57.395Z"
   },
   {
    "duration": 790,
    "start_time": "2023-06-26T06:50:12.904Z"
   },
   {
    "duration": 21,
    "start_time": "2023-06-26T06:50:53.099Z"
   },
   {
    "duration": 39,
    "start_time": "2023-06-26T06:50:58.940Z"
   },
   {
    "duration": 15,
    "start_time": "2023-06-26T06:51:20.024Z"
   },
   {
    "duration": 17,
    "start_time": "2023-06-26T06:51:33.296Z"
   },
   {
    "duration": 19,
    "start_time": "2023-06-26T06:51:37.596Z"
   },
   {
    "duration": 25,
    "start_time": "2023-06-26T06:56:56.592Z"
   },
   {
    "duration": 6,
    "start_time": "2023-06-26T06:57:24.508Z"
   },
   {
    "duration": 26,
    "start_time": "2023-06-26T06:57:28.644Z"
   },
   {
    "duration": 231,
    "start_time": "2023-06-26T07:08:13.340Z"
   },
   {
    "duration": 166,
    "start_time": "2023-06-26T07:09:28.507Z"
   },
   {
    "duration": 5,
    "start_time": "2023-06-26T07:10:05.724Z"
   },
   {
    "duration": 68,
    "start_time": "2023-06-26T07:10:06.523Z"
   },
   {
    "duration": 15,
    "start_time": "2023-06-26T07:10:07.189Z"
   },
   {
    "duration": 42,
    "start_time": "2023-06-26T07:10:08.406Z"
   },
   {
    "duration": 17,
    "start_time": "2023-06-26T07:10:09.627Z"
   },
   {
    "duration": 13,
    "start_time": "2023-06-26T07:10:10.253Z"
   },
   {
    "duration": 28,
    "start_time": "2023-06-26T07:10:11.367Z"
   },
   {
    "duration": 193,
    "start_time": "2023-06-26T07:10:12.605Z"
   },
   {
    "duration": 16,
    "start_time": "2023-06-26T07:10:13.971Z"
   },
   {
    "duration": 11,
    "start_time": "2023-06-26T07:10:15.180Z"
   },
   {
    "duration": 120,
    "start_time": "2023-06-26T07:10:18.116Z"
   },
   {
    "duration": 15,
    "start_time": "2023-06-26T07:10:20.696Z"
   },
   {
    "duration": 23,
    "start_time": "2023-06-26T07:10:21.812Z"
   },
   {
    "duration": 15,
    "start_time": "2023-06-26T07:10:22.406Z"
   },
   {
    "duration": 12,
    "start_time": "2023-06-26T07:10:23.515Z"
   },
   {
    "duration": 7,
    "start_time": "2023-06-26T07:10:24.090Z"
   },
   {
    "duration": 46,
    "start_time": "2023-06-26T07:10:24.651Z"
   },
   {
    "duration": 22,
    "start_time": "2023-06-26T07:10:25.318Z"
   },
   {
    "duration": 21,
    "start_time": "2023-06-26T07:10:25.915Z"
   },
   {
    "duration": 20,
    "start_time": "2023-06-26T07:10:26.512Z"
   },
   {
    "duration": 192,
    "start_time": "2023-06-26T07:10:28.837Z"
   },
   {
    "duration": 43,
    "start_time": "2023-06-26T07:10:29.588Z"
   },
   {
    "duration": 11,
    "start_time": "2023-06-26T07:10:30.523Z"
   },
   {
    "duration": 194,
    "start_time": "2023-06-26T07:10:31.611Z"
   },
   {
    "duration": 24997,
    "start_time": "2023-06-26T07:10:34.801Z"
   },
   {
    "duration": 737,
    "start_time": "2023-06-26T07:10:59.801Z"
   },
   {
    "duration": 55,
    "start_time": "2023-06-26T07:11:00.541Z"
   },
   {
    "duration": 195,
    "start_time": "2023-06-26T07:11:00.598Z"
   },
   {
    "duration": 217,
    "start_time": "2023-06-26T07:11:03.547Z"
   },
   {
    "duration": 59,
    "start_time": "2023-06-26T07:11:05.323Z"
   },
   {
    "duration": 165,
    "start_time": "2023-06-26T07:11:06.393Z"
   },
   {
    "duration": 16,
    "start_time": "2023-06-26T07:11:08.932Z"
   },
   {
    "duration": 719,
    "start_time": "2023-06-26T07:11:32.305Z"
   },
   {
    "duration": 126,
    "start_time": "2023-06-26T07:11:40.747Z"
   },
   {
    "duration": 15,
    "start_time": "2023-06-26T07:11:42.940Z"
   },
   {
    "duration": 216,
    "start_time": "2023-06-26T07:11:49.875Z"
   },
   {
    "duration": 31,
    "start_time": "2023-06-26T07:11:51.606Z"
   },
   {
    "duration": 14,
    "start_time": "2023-06-26T07:11:54.926Z"
   },
   {
    "duration": 23532,
    "start_time": "2023-06-26T07:11:58.540Z"
   },
   {
    "duration": 688,
    "start_time": "2023-06-26T07:12:22.075Z"
   },
   {
    "duration": 16,
    "start_time": "2023-06-26T07:12:22.768Z"
   },
   {
    "duration": 20,
    "start_time": "2023-06-26T07:12:26.538Z"
   },
   {
    "duration": 232,
    "start_time": "2023-06-26T07:12:55.643Z"
   },
   {
    "duration": 17,
    "start_time": "2023-06-26T07:12:57.902Z"
   },
   {
    "duration": 18,
    "start_time": "2023-06-26T07:13:22.725Z"
   },
   {
    "duration": 32,
    "start_time": "2023-06-26T07:15:03.589Z"
   },
   {
    "duration": 35,
    "start_time": "2023-06-26T07:16:53.028Z"
   },
   {
    "duration": 103,
    "start_time": "2023-06-26T07:17:37.151Z"
   },
   {
    "duration": 13,
    "start_time": "2023-06-26T07:17:43.100Z"
   },
   {
    "duration": 5,
    "start_time": "2023-06-26T07:18:10.326Z"
   },
   {
    "duration": 49,
    "start_time": "2023-06-26T07:18:23.965Z"
   },
   {
    "duration": 14,
    "start_time": "2023-06-26T07:18:24.614Z"
   },
   {
    "duration": 36,
    "start_time": "2023-06-26T07:18:25.733Z"
   },
   {
    "duration": 18,
    "start_time": "2023-06-26T07:18:26.948Z"
   },
   {
    "duration": 11,
    "start_time": "2023-06-26T07:18:27.332Z"
   },
   {
    "duration": 18,
    "start_time": "2023-06-26T07:18:28.044Z"
   },
   {
    "duration": 205,
    "start_time": "2023-06-26T07:18:28.968Z"
   },
   {
    "duration": 14,
    "start_time": "2023-06-26T07:18:29.869Z"
   },
   {
    "duration": 11,
    "start_time": "2023-06-26T07:18:30.910Z"
   },
   {
    "duration": 124,
    "start_time": "2023-06-26T07:18:33.352Z"
   },
   {
    "duration": 14,
    "start_time": "2023-06-26T07:18:35.340Z"
   },
   {
    "duration": 30,
    "start_time": "2023-06-26T07:18:36.421Z"
   },
   {
    "duration": 13,
    "start_time": "2023-06-26T07:18:36.994Z"
   },
   {
    "duration": 11,
    "start_time": "2023-06-26T07:18:37.967Z"
   },
   {
    "duration": 9,
    "start_time": "2023-06-26T07:18:38.511Z"
   },
   {
    "duration": 34,
    "start_time": "2023-06-26T07:18:39.020Z"
   },
   {
    "duration": 15,
    "start_time": "2023-06-26T07:18:39.531Z"
   },
   {
    "duration": 16,
    "start_time": "2023-06-26T07:18:40.053Z"
   },
   {
    "duration": 14,
    "start_time": "2023-06-26T07:18:40.602Z"
   },
   {
    "duration": 170,
    "start_time": "2023-06-26T07:18:44.238Z"
   },
   {
    "duration": 41,
    "start_time": "2023-06-26T07:18:46.428Z"
   },
   {
    "duration": 11,
    "start_time": "2023-06-26T07:18:54.063Z"
   },
   {
    "duration": 158,
    "start_time": "2023-06-26T07:18:55.549Z"
   },
   {
    "duration": 22418,
    "start_time": "2023-06-26T07:18:56.798Z"
   },
   {
    "duration": 630,
    "start_time": "2023-06-26T07:19:19.218Z"
   },
   {
    "duration": 53,
    "start_time": "2023-06-26T07:19:19.854Z"
   },
   {
    "duration": 161,
    "start_time": "2023-06-26T07:19:19.910Z"
   },
   {
    "duration": 87,
    "start_time": "2023-06-26T07:19:20.073Z"
   },
   {
    "duration": 112,
    "start_time": "2023-06-26T07:19:20.161Z"
   },
   {
    "duration": 350,
    "start_time": "2023-06-26T07:19:20.275Z"
   },
   {
    "duration": 34,
    "start_time": "2023-06-26T07:19:20.627Z"
   },
   {
    "duration": 637,
    "start_time": "2023-06-26T07:19:20.666Z"
   },
   {
    "duration": 56,
    "start_time": "2023-06-26T07:19:45.200Z"
   },
   {
    "duration": 21,
    "start_time": "2023-06-26T07:19:46.237Z"
   },
   {
    "duration": 201,
    "start_time": "2023-06-26T07:20:13.228Z"
   },
   {
    "duration": 31,
    "start_time": "2023-06-26T07:20:14.298Z"
   },
   {
    "duration": 13,
    "start_time": "2023-06-26T07:20:29.004Z"
   },
   {
    "duration": 22207,
    "start_time": "2023-06-26T07:20:33.462Z"
   },
   {
    "duration": 653,
    "start_time": "2023-06-26T07:20:55.671Z"
   },
   {
    "duration": 12,
    "start_time": "2023-06-26T07:20:56.326Z"
   },
   {
    "duration": 15,
    "start_time": "2023-06-26T07:21:09.697Z"
   },
   {
    "duration": 214,
    "start_time": "2023-06-26T07:22:06.644Z"
   },
   {
    "duration": 28,
    "start_time": "2023-06-26T07:22:08.456Z"
   },
   {
    "duration": 4,
    "start_time": "2023-06-26T07:22:37.918Z"
   },
   {
    "duration": 7,
    "start_time": "2023-06-26T07:22:47.036Z"
   },
   {
    "duration": 9,
    "start_time": "2023-06-26T07:22:59.467Z"
   },
   {
    "duration": 160,
    "start_time": "2023-06-26T07:23:52.422Z"
   },
   {
    "duration": 105,
    "start_time": "2023-06-26T07:24:09.252Z"
   },
   {
    "duration": 5,
    "start_time": "2023-06-26T07:24:58.430Z"
   },
   {
    "duration": 7,
    "start_time": "2023-06-26T07:24:59.794Z"
   },
   {
    "duration": 20,
    "start_time": "2023-06-26T07:25:00.481Z"
   },
   {
    "duration": 4,
    "start_time": "2023-06-26T07:25:09.317Z"
   },
   {
    "duration": 4,
    "start_time": "2023-06-26T07:25:24.612Z"
   },
   {
    "duration": 9,
    "start_time": "2023-06-26T07:25:25.415Z"
   },
   {
    "duration": 16,
    "start_time": "2023-06-26T07:25:29.116Z"
   },
   {
    "duration": 6,
    "start_time": "2023-06-26T07:25:46.305Z"
   },
   {
    "duration": 19,
    "start_time": "2023-06-26T07:25:50.518Z"
   },
   {
    "duration": 24,
    "start_time": "2023-06-26T07:26:23.444Z"
   },
   {
    "duration": 15,
    "start_time": "2023-06-26T07:26:30.220Z"
   },
   {
    "duration": 113,
    "start_time": "2023-06-26T07:27:24.230Z"
   },
   {
    "duration": 46,
    "start_time": "2023-06-26T07:27:35.011Z"
   },
   {
    "duration": 10,
    "start_time": "2023-06-26T07:27:37.020Z"
   },
   {
    "duration": 68,
    "start_time": "2023-06-26T07:28:08.113Z"
   },
   {
    "duration": 9,
    "start_time": "2023-06-26T07:28:12.540Z"
   },
   {
    "duration": 40,
    "start_time": "2023-06-26T07:28:27.237Z"
   },
   {
    "duration": 11,
    "start_time": "2023-06-26T07:28:29.800Z"
   },
   {
    "duration": 103,
    "start_time": "2023-06-26T07:28:57.454Z"
   },
   {
    "duration": 13,
    "start_time": "2023-06-26T07:28:59.147Z"
   },
   {
    "duration": 77,
    "start_time": "2023-06-26T07:29:30.097Z"
   },
   {
    "duration": 11,
    "start_time": "2023-06-26T07:29:32.197Z"
   },
   {
    "duration": 149,
    "start_time": "2023-06-26T07:29:51.627Z"
   },
   {
    "duration": 12,
    "start_time": "2023-06-26T07:30:11.844Z"
   },
   {
    "duration": 15,
    "start_time": "2023-06-26T07:30:56.463Z"
   },
   {
    "duration": 13,
    "start_time": "2023-06-26T07:31:00.925Z"
   },
   {
    "duration": 18,
    "start_time": "2023-06-26T07:31:07.348Z"
   },
   {
    "duration": 12,
    "start_time": "2023-06-26T07:31:13.819Z"
   },
   {
    "duration": 240,
    "start_time": "2023-06-26T07:31:17.118Z"
   },
   {
    "duration": 11,
    "start_time": "2023-06-26T07:31:19.196Z"
   },
   {
    "duration": 50,
    "start_time": "2023-06-26T07:31:36.405Z"
   },
   {
    "duration": 13,
    "start_time": "2023-06-26T07:31:38.714Z"
   },
   {
    "duration": 49,
    "start_time": "2023-06-26T07:31:59.109Z"
   },
   {
    "duration": 13,
    "start_time": "2023-06-26T07:32:00.124Z"
   },
   {
    "duration": 93,
    "start_time": "2023-06-26T07:32:20.388Z"
   },
   {
    "duration": 226,
    "start_time": "2023-06-26T07:33:32.639Z"
   },
   {
    "duration": 190,
    "start_time": "2023-06-26T07:33:45.971Z"
   },
   {
    "duration": 10,
    "start_time": "2023-06-26T07:33:56.806Z"
   },
   {
    "duration": 83,
    "start_time": "2023-06-26T07:34:45.013Z"
   },
   {
    "duration": 126,
    "start_time": "2023-06-26T07:35:02.733Z"
   },
   {
    "duration": 314,
    "start_time": "2023-06-26T07:35:20.148Z"
   },
   {
    "duration": 14,
    "start_time": "2023-06-26T07:35:45.113Z"
   },
   {
    "duration": 15,
    "start_time": "2023-06-26T07:36:13.163Z"
   },
   {
    "duration": 17,
    "start_time": "2023-06-26T07:36:20.652Z"
   },
   {
    "duration": 21,
    "start_time": "2023-06-26T07:36:28.624Z"
   },
   {
    "duration": 4,
    "start_time": "2023-06-26T07:36:46.197Z"
   },
   {
    "duration": 63,
    "start_time": "2023-06-26T07:36:46.805Z"
   },
   {
    "duration": 16,
    "start_time": "2023-06-26T07:36:47.309Z"
   },
   {
    "duration": 43,
    "start_time": "2023-06-26T07:36:48.329Z"
   },
   {
    "duration": 20,
    "start_time": "2023-06-26T07:36:49.368Z"
   },
   {
    "duration": 11,
    "start_time": "2023-06-26T07:36:49.913Z"
   },
   {
    "duration": 29,
    "start_time": "2023-06-26T07:36:50.940Z"
   },
   {
    "duration": 224,
    "start_time": "2023-06-26T07:36:51.947Z"
   },
   {
    "duration": 15,
    "start_time": "2023-06-26T07:36:53.035Z"
   },
   {
    "duration": 11,
    "start_time": "2023-06-26T07:36:54.170Z"
   },
   {
    "duration": 108,
    "start_time": "2023-06-26T07:36:56.822Z"
   },
   {
    "duration": 9,
    "start_time": "2023-06-26T07:36:58.723Z"
   },
   {
    "duration": 30,
    "start_time": "2023-06-26T07:36:59.723Z"
   },
   {
    "duration": 15,
    "start_time": "2023-06-26T07:37:00.206Z"
   },
   {
    "duration": 15,
    "start_time": "2023-06-26T07:37:01.072Z"
   },
   {
    "duration": 9,
    "start_time": "2023-06-26T07:37:01.561Z"
   },
   {
    "duration": 36,
    "start_time": "2023-06-26T07:37:02.070Z"
   },
   {
    "duration": 19,
    "start_time": "2023-06-26T07:37:02.539Z"
   },
   {
    "duration": 21,
    "start_time": "2023-06-26T07:37:03.017Z"
   },
   {
    "duration": 17,
    "start_time": "2023-06-26T07:37:03.505Z"
   },
   {
    "duration": 217,
    "start_time": "2023-06-26T07:37:05.425Z"
   },
   {
    "duration": 37,
    "start_time": "2023-06-26T07:37:05.924Z"
   },
   {
    "duration": 10,
    "start_time": "2023-06-26T07:37:06.435Z"
   },
   {
    "duration": 145,
    "start_time": "2023-06-26T07:37:07.001Z"
   },
   {
    "duration": 22854,
    "start_time": "2023-06-26T07:37:08.009Z"
   },
   {
    "duration": 687,
    "start_time": "2023-06-26T07:37:30.865Z"
   },
   {
    "duration": 55,
    "start_time": "2023-06-26T07:37:31.554Z"
   },
   {
    "duration": 198,
    "start_time": "2023-06-26T07:37:31.612Z"
   },
   {
    "duration": 158,
    "start_time": "2023-06-26T07:37:31.812Z"
   },
   {
    "duration": 100,
    "start_time": "2023-06-26T07:37:31.973Z"
   },
   {
    "duration": 391,
    "start_time": "2023-06-26T07:37:32.077Z"
   },
   {
    "duration": 20,
    "start_time": "2023-06-26T07:37:32.476Z"
   },
   {
    "duration": 740,
    "start_time": "2023-06-26T07:37:32.500Z"
   },
   {
    "duration": 104,
    "start_time": "2023-06-26T07:37:37.052Z"
   },
   {
    "duration": 18,
    "start_time": "2023-06-26T07:37:37.636Z"
   },
   {
    "duration": 205,
    "start_time": "2023-06-26T07:37:39.324Z"
   },
   {
    "duration": 40,
    "start_time": "2023-06-26T07:37:42.560Z"
   },
   {
    "duration": 16,
    "start_time": "2023-06-26T07:37:48.254Z"
   },
   {
    "duration": 23729,
    "start_time": "2023-06-26T07:37:51.122Z"
   },
   {
    "duration": 789,
    "start_time": "2023-06-26T07:38:14.854Z"
   },
   {
    "duration": 19,
    "start_time": "2023-06-26T07:38:15.645Z"
   },
   {
    "duration": 17,
    "start_time": "2023-06-26T07:38:20.272Z"
   },
   {
    "duration": 330,
    "start_time": "2023-06-26T07:38:27.444Z"
   },
   {
    "duration": 97,
    "start_time": "2023-06-26T07:42:14.470Z"
   },
   {
    "duration": 132,
    "start_time": "2023-06-26T07:44:11.142Z"
   },
   {
    "duration": 62,
    "start_time": "2023-06-26T07:44:29.107Z"
   },
   {
    "duration": 32,
    "start_time": "2023-06-26T07:45:02.798Z"
   },
   {
    "duration": 14,
    "start_time": "2023-06-26T07:45:39.765Z"
   },
   {
    "duration": 19,
    "start_time": "2023-06-26T07:45:44.149Z"
   },
   {
    "duration": 11,
    "start_time": "2023-06-26T07:45:46.523Z"
   },
   {
    "duration": 17,
    "start_time": "2023-06-26T07:46:15.425Z"
   },
   {
    "duration": 13,
    "start_time": "2023-06-26T07:46:25.717Z"
   },
   {
    "duration": 12,
    "start_time": "2023-06-26T07:46:32.771Z"
   },
   {
    "duration": 12,
    "start_time": "2023-06-26T07:46:36.768Z"
   },
   {
    "duration": 14,
    "start_time": "2023-06-26T07:46:50.569Z"
   },
   {
    "duration": 218,
    "start_time": "2023-06-26T07:47:24.571Z"
   },
   {
    "duration": 47,
    "start_time": "2023-06-26T07:49:33.252Z"
   },
   {
    "duration": 19,
    "start_time": "2023-06-26T07:50:13.307Z"
   },
   {
    "duration": 32805,
    "start_time": "2023-06-26T07:52:43.740Z"
   },
   {
    "duration": 125,
    "start_time": "2023-06-26T07:57:26.552Z"
   },
   {
    "duration": 14,
    "start_time": "2023-06-26T07:57:54.719Z"
   },
   {
    "duration": 18,
    "start_time": "2023-06-26T08:02:39.429Z"
   },
   {
    "duration": 11,
    "start_time": "2023-06-26T08:20:26.253Z"
   },
   {
    "duration": 77,
    "start_time": "2023-06-26T08:20:27.053Z"
   },
   {
    "duration": 16,
    "start_time": "2023-06-26T08:20:27.820Z"
   },
   {
    "duration": 39,
    "start_time": "2023-06-26T08:20:29.301Z"
   },
   {
    "duration": 25,
    "start_time": "2023-06-26T08:20:30.513Z"
   },
   {
    "duration": 11,
    "start_time": "2023-06-26T08:20:31.035Z"
   },
   {
    "duration": 17,
    "start_time": "2023-06-26T08:20:32.021Z"
   },
   {
    "duration": 225,
    "start_time": "2023-06-26T08:20:33.115Z"
   },
   {
    "duration": 26,
    "start_time": "2023-06-26T08:20:34.471Z"
   },
   {
    "duration": 12,
    "start_time": "2023-06-26T08:20:35.828Z"
   },
   {
    "duration": 141,
    "start_time": "2023-06-26T08:20:38.985Z"
   },
   {
    "duration": 12,
    "start_time": "2023-06-26T08:20:41.629Z"
   },
   {
    "duration": 35,
    "start_time": "2023-06-26T08:20:42.948Z"
   },
   {
    "duration": 19,
    "start_time": "2023-06-26T08:20:43.627Z"
   },
   {
    "duration": 19,
    "start_time": "2023-06-26T08:20:45.948Z"
   },
   {
    "duration": 7,
    "start_time": "2023-06-26T08:20:46.909Z"
   },
   {
    "duration": 48,
    "start_time": "2023-06-26T08:20:48.199Z"
   },
   {
    "duration": 22,
    "start_time": "2023-06-26T08:20:48.926Z"
   },
   {
    "duration": 20,
    "start_time": "2023-06-26T08:20:49.482Z"
   },
   {
    "duration": 18,
    "start_time": "2023-06-26T08:20:50.012Z"
   },
   {
    "duration": 218,
    "start_time": "2023-06-26T08:20:53.739Z"
   },
   {
    "duration": 38,
    "start_time": "2023-06-26T08:20:56.140Z"
   },
   {
    "duration": 192,
    "start_time": "2023-06-26T08:21:10.020Z"
   },
   {
    "duration": 25938,
    "start_time": "2023-06-26T08:21:17.508Z"
   },
   {
    "duration": 762,
    "start_time": "2023-06-26T08:22:31.192Z"
   },
   {
    "duration": 182,
    "start_time": "2023-06-26T08:22:45.543Z"
   },
   {
    "duration": 125,
    "start_time": "2023-06-26T08:23:19.348Z"
   },
   {
    "duration": 188,
    "start_time": "2023-06-26T08:23:22.405Z"
   },
   {
    "duration": 19,
    "start_time": "2023-06-26T08:26:06.845Z"
   },
   {
    "duration": 42,
    "start_time": "2023-06-26T08:26:14.143Z"
   },
   {
    "duration": 1004,
    "start_time": "2023-06-26T08:26:56.919Z"
   },
   {
    "duration": 82,
    "start_time": "2023-06-26T08:27:23.038Z"
   },
   {
    "duration": 20,
    "start_time": "2023-06-26T08:29:38.037Z"
   },
   {
    "duration": 235,
    "start_time": "2023-06-26T08:29:55.305Z"
   },
   {
    "duration": 58,
    "start_time": "2023-06-26T08:30:01.939Z"
   },
   {
    "duration": 15,
    "start_time": "2023-06-26T08:30:55.605Z"
   },
   {
    "duration": 32,
    "start_time": "2023-06-26T08:31:33.532Z"
   },
   {
    "duration": 16,
    "start_time": "2023-06-26T08:31:35.229Z"
   },
   {
    "duration": 285,
    "start_time": "2023-06-26T08:31:38.122Z"
   },
   {
    "duration": 44,
    "start_time": "2023-06-26T08:31:39.380Z"
   },
   {
    "duration": 23,
    "start_time": "2023-06-26T08:31:40.714Z"
   },
   {
    "duration": 16,
    "start_time": "2023-06-26T08:31:42.115Z"
   },
   {
    "duration": 26925,
    "start_time": "2023-06-26T08:31:54.312Z"
   },
   {
    "duration": 802,
    "start_time": "2023-06-26T08:32:21.239Z"
   },
   {
    "duration": 27,
    "start_time": "2023-06-26T08:32:23.950Z"
   },
   {
    "duration": 19,
    "start_time": "2023-06-26T08:32:26.803Z"
   },
   {
    "duration": 22,
    "start_time": "2023-06-26T08:32:38.890Z"
   },
   {
    "duration": 120,
    "start_time": "2023-06-26T08:32:42.379Z"
   },
   {
    "duration": 29972,
    "start_time": "2023-06-26T08:33:57.504Z"
   },
   {
    "duration": 935,
    "start_time": "2023-06-26T08:34:32.314Z"
   },
   {
    "duration": 36,
    "start_time": "2023-06-26T08:34:34.778Z"
   },
   {
    "duration": 22,
    "start_time": "2023-06-26T08:34:47.812Z"
   },
   {
    "duration": 17,
    "start_time": "2023-06-26T08:34:52.704Z"
   },
   {
    "duration": 83,
    "start_time": "2023-06-26T08:34:57.313Z"
   },
   {
    "duration": 22,
    "start_time": "2023-06-26T08:35:00.410Z"
   },
   {
    "duration": 31,
    "start_time": "2023-06-26T08:35:16.246Z"
   },
   {
    "duration": 255,
    "start_time": "2023-06-26T08:35:24.637Z"
   },
   {
    "duration": 58,
    "start_time": "2023-06-26T08:35:28.324Z"
   },
   {
    "duration": 17,
    "start_time": "2023-06-26T08:35:31.106Z"
   },
   {
    "duration": 21,
    "start_time": "2023-06-26T08:35:49.622Z"
   },
   {
    "duration": 36314,
    "start_time": "2023-06-26T08:35:55.200Z"
   },
   {
    "duration": 145,
    "start_time": "2023-06-26T08:36:31.517Z"
   },
   {
    "duration": 670,
    "start_time": "2023-06-26T08:36:31.666Z"
   },
   {
    "duration": 175,
    "start_time": "2023-06-26T08:36:35.303Z"
   },
   {
    "duration": 35,
    "start_time": "2023-06-26T08:36:36.748Z"
   },
   {
    "duration": 33,
    "start_time": "2023-06-26T08:36:39.252Z"
   },
   {
    "duration": 41,
    "start_time": "2023-06-26T08:37:03.949Z"
   },
   {
    "duration": 181,
    "start_time": "2023-06-26T08:38:13.125Z"
   },
   {
    "duration": 38,
    "start_time": "2023-06-26T08:39:10.453Z"
   },
   {
    "duration": 23,
    "start_time": "2023-06-26T08:39:12.861Z"
   },
   {
    "duration": 135,
    "start_time": "2023-06-26T08:41:34.548Z"
   },
   {
    "duration": 43,
    "start_time": "2023-06-26T08:43:03.228Z"
   },
   {
    "duration": 20,
    "start_time": "2023-06-26T08:43:38.422Z"
   },
   {
    "duration": 17,
    "start_time": "2023-06-26T08:43:40.332Z"
   },
   {
    "duration": 24,
    "start_time": "2023-06-26T08:44:10.637Z"
   },
   {
    "duration": 21,
    "start_time": "2023-06-26T08:44:39.415Z"
   },
   {
    "duration": 16,
    "start_time": "2023-06-26T08:45:32.098Z"
   },
   {
    "duration": 18,
    "start_time": "2023-06-26T08:45:40.215Z"
   },
   {
    "duration": 6,
    "start_time": "2023-06-26T08:46:56.525Z"
   },
   {
    "duration": 62,
    "start_time": "2023-06-26T08:46:57.005Z"
   },
   {
    "duration": 20,
    "start_time": "2023-06-26T08:46:57.414Z"
   },
   {
    "duration": 47,
    "start_time": "2023-06-26T08:46:58.332Z"
   },
   {
    "duration": 16,
    "start_time": "2023-06-26T08:46:59.220Z"
   },
   {
    "duration": 16,
    "start_time": "2023-06-26T08:46:59.747Z"
   },
   {
    "duration": 24,
    "start_time": "2023-06-26T08:47:00.443Z"
   },
   {
    "duration": 326,
    "start_time": "2023-06-26T08:47:00.997Z"
   },
   {
    "duration": 23,
    "start_time": "2023-06-26T08:47:01.515Z"
   },
   {
    "duration": 17,
    "start_time": "2023-06-26T08:47:02.103Z"
   },
   {
    "duration": 124,
    "start_time": "2023-06-26T08:47:03.452Z"
   },
   {
    "duration": 14,
    "start_time": "2023-06-26T08:47:04.636Z"
   },
   {
    "duration": 41,
    "start_time": "2023-06-26T08:47:05.148Z"
   },
   {
    "duration": 21,
    "start_time": "2023-06-26T08:47:05.411Z"
   },
   {
    "duration": 11,
    "start_time": "2023-06-26T08:47:06.139Z"
   },
   {
    "duration": 9,
    "start_time": "2023-06-26T08:47:06.402Z"
   },
   {
    "duration": 65,
    "start_time": "2023-06-26T08:47:06.636Z"
   },
   {
    "duration": 15,
    "start_time": "2023-06-26T08:47:06.923Z"
   },
   {
    "duration": 19,
    "start_time": "2023-06-26T08:47:07.228Z"
   },
   {
    "duration": 28,
    "start_time": "2023-06-26T08:47:07.548Z"
   },
   {
    "duration": 189,
    "start_time": "2023-06-26T08:47:09.627Z"
   },
   {
    "duration": 35,
    "start_time": "2023-06-26T08:47:09.844Z"
   },
   {
    "duration": 183,
    "start_time": "2023-06-26T08:47:10.104Z"
   },
   {
    "duration": 25473,
    "start_time": "2023-06-26T08:47:10.602Z"
   },
   {
    "duration": 763,
    "start_time": "2023-06-26T08:47:36.078Z"
   },
   {
    "duration": 188,
    "start_time": "2023-06-26T08:47:36.844Z"
   },
   {
    "duration": 217,
    "start_time": "2023-06-26T08:47:37.035Z"
   },
   {
    "duration": 210,
    "start_time": "2023-06-26T08:47:37.257Z"
   },
   {
    "duration": 13,
    "start_time": "2023-06-26T08:47:37.469Z"
   },
   {
    "duration": 44,
    "start_time": "2023-06-26T08:47:37.484Z"
   },
   {
    "duration": 760,
    "start_time": "2023-06-26T08:47:37.530Z"
   },
   {
    "duration": 250,
    "start_time": "2023-06-26T08:49:17.315Z"
   },
   {
    "duration": 36,
    "start_time": "2023-06-26T08:49:22.975Z"
   },
   {
    "duration": 34,
    "start_time": "2023-06-26T08:49:25.077Z"
   },
   {
    "duration": 240,
    "start_time": "2023-06-26T08:49:26.518Z"
   },
   {
    "duration": 48,
    "start_time": "2023-06-26T08:49:27.173Z"
   },
   {
    "duration": 20,
    "start_time": "2023-06-26T08:49:27.910Z"
   },
   {
    "duration": 23,
    "start_time": "2023-06-26T08:49:28.618Z"
   },
   {
    "duration": 27743,
    "start_time": "2023-06-26T08:49:39.220Z"
   },
   {
    "duration": 833,
    "start_time": "2023-06-26T08:50:06.973Z"
   },
   {
    "duration": 23,
    "start_time": "2023-06-26T08:50:09.884Z"
   },
   {
    "duration": 29,
    "start_time": "2023-06-26T08:50:13.647Z"
   },
   {
    "duration": 34,
    "start_time": "2023-06-26T08:50:26.255Z"
   },
   {
    "duration": 150,
    "start_time": "2023-06-26T08:50:48.407Z"
   },
   {
    "duration": 39,
    "start_time": "2023-06-26T08:50:49.869Z"
   },
   {
    "duration": 15,
    "start_time": "2023-06-26T08:50:52.829Z"
   },
   {
    "duration": 299,
    "start_time": "2023-06-26T08:51:00.024Z"
   },
   {
    "duration": 57,
    "start_time": "2023-06-26T08:51:01.724Z"
   },
   {
    "duration": 21,
    "start_time": "2023-06-26T08:51:03.828Z"
   },
   {
    "duration": 36,
    "start_time": "2023-06-26T08:51:06.652Z"
   },
   {
    "duration": 35292,
    "start_time": "2023-06-26T08:51:14.225Z"
   },
   {
    "duration": 126,
    "start_time": "2023-06-26T08:51:50.600Z"
   },
   {
    "duration": 20,
    "start_time": "2023-06-26T08:51:52.424Z"
   },
   {
    "duration": 25,
    "start_time": "2023-06-26T08:51:54.693Z"
   },
   {
    "duration": 21,
    "start_time": "2023-06-26T08:52:01.113Z"
   },
   {
    "duration": 41,
    "start_time": "2023-06-26T08:52:12.312Z"
   },
   {
    "duration": 21,
    "start_time": "2023-06-26T08:52:31.575Z"
   },
   {
    "duration": 16,
    "start_time": "2023-06-26T08:52:38.095Z"
   },
   {
    "duration": 119,
    "start_time": "2023-06-26T08:52:46.932Z"
   },
   {
    "duration": 27,
    "start_time": "2023-06-26T08:52:48.220Z"
   },
   {
    "duration": 24,
    "start_time": "2023-06-26T08:52:59.141Z"
   },
   {
    "duration": 16,
    "start_time": "2023-06-26T08:53:01.499Z"
   },
   {
    "duration": 16145,
    "start_time": "2023-06-26T08:55:19.882Z"
   },
   {
    "duration": 401,
    "start_time": "2023-06-26T08:59:03.772Z"
   },
   {
    "duration": 15,
    "start_time": "2023-06-26T08:59:33.111Z"
   },
   {
    "duration": 16,
    "start_time": "2023-06-26T08:59:41.298Z"
   },
   {
    "duration": 14,
    "start_time": "2023-06-26T08:59:45.324Z"
   },
   {
    "duration": 5,
    "start_time": "2023-06-26T09:00:15.038Z"
   },
   {
    "duration": 52,
    "start_time": "2023-06-26T09:00:15.805Z"
   },
   {
    "duration": 23,
    "start_time": "2023-06-26T09:00:16.549Z"
   },
   {
    "duration": 35,
    "start_time": "2023-06-26T09:00:18.294Z"
   },
   {
    "duration": 29,
    "start_time": "2023-06-26T09:00:20.150Z"
   },
   {
    "duration": 12,
    "start_time": "2023-06-26T09:00:20.949Z"
   },
   {
    "duration": 14,
    "start_time": "2023-06-26T09:00:22.636Z"
   },
   {
    "duration": 191,
    "start_time": "2023-06-26T09:00:24.220Z"
   },
   {
    "duration": 15,
    "start_time": "2023-06-26T09:00:25.873Z"
   },
   {
    "duration": 13,
    "start_time": "2023-06-26T09:00:27.304Z"
   },
   {
    "duration": 107,
    "start_time": "2023-06-26T09:00:31.150Z"
   },
   {
    "duration": 9,
    "start_time": "2023-06-26T09:00:35.036Z"
   },
   {
    "duration": 19,
    "start_time": "2023-06-26T09:00:37.594Z"
   },
   {
    "duration": 21,
    "start_time": "2023-06-26T09:00:38.901Z"
   },
   {
    "duration": 11,
    "start_time": "2023-06-26T09:00:41.036Z"
   },
   {
    "duration": 7,
    "start_time": "2023-06-26T09:00:41.901Z"
   },
   {
    "duration": 33,
    "start_time": "2023-06-26T09:00:42.876Z"
   },
   {
    "duration": 13,
    "start_time": "2023-06-26T09:00:43.806Z"
   },
   {
    "duration": 13,
    "start_time": "2023-06-26T09:00:44.386Z"
   },
   {
    "duration": 14,
    "start_time": "2023-06-26T09:00:44.972Z"
   },
   {
    "duration": 172,
    "start_time": "2023-06-26T09:00:51.917Z"
   },
   {
    "duration": 39,
    "start_time": "2023-06-26T09:00:54.444Z"
   },
   {
    "duration": 162,
    "start_time": "2023-06-26T09:00:56.054Z"
   },
   {
    "duration": 21364,
    "start_time": "2023-06-26T09:01:01.013Z"
   },
   {
    "duration": 655,
    "start_time": "2023-06-26T09:01:24.774Z"
   },
   {
    "duration": 149,
    "start_time": "2023-06-26T09:01:28.099Z"
   },
   {
    "duration": 81,
    "start_time": "2023-06-26T09:01:33.174Z"
   },
   {
    "duration": 146,
    "start_time": "2023-06-26T09:01:34.172Z"
   },
   {
    "duration": 13,
    "start_time": "2023-06-26T09:01:37.827Z"
   },
   {
    "duration": 17,
    "start_time": "2023-06-26T09:01:42.574Z"
   },
   {
    "duration": 694,
    "start_time": "2023-06-26T09:01:46.603Z"
   },
   {
    "duration": 44,
    "start_time": "2023-06-26T09:02:08.011Z"
   },
   {
    "duration": 16,
    "start_time": "2023-06-26T09:02:15.734Z"
   },
   {
    "duration": 19,
    "start_time": "2023-06-26T09:02:24.654Z"
   },
   {
    "duration": 182,
    "start_time": "2023-06-26T09:02:32.709Z"
   },
   {
    "duration": 32,
    "start_time": "2023-06-26T09:02:36.534Z"
   },
   {
    "duration": 31,
    "start_time": "2023-06-26T09:02:47.775Z"
   },
   {
    "duration": 25,
    "start_time": "2023-06-26T09:02:50.044Z"
   },
   {
    "duration": 12,
    "start_time": "2023-06-26T09:02:53.301Z"
   },
   {
    "duration": 22187,
    "start_time": "2023-06-26T09:03:07.292Z"
   },
   {
    "duration": 668,
    "start_time": "2023-06-26T09:03:32.550Z"
   },
   {
    "duration": 14,
    "start_time": "2023-06-26T09:03:37.206Z"
   },
   {
    "duration": 18,
    "start_time": "2023-06-26T09:03:39.970Z"
   },
   {
    "duration": 14,
    "start_time": "2023-06-26T09:03:53.283Z"
   },
   {
    "duration": 92,
    "start_time": "2023-06-26T09:04:02.772Z"
   },
   {
    "duration": 22,
    "start_time": "2023-06-26T09:04:06.162Z"
   },
   {
    "duration": 22,
    "start_time": "2023-06-26T09:04:07.454Z"
   },
   {
    "duration": 237,
    "start_time": "2023-06-26T09:04:12.742Z"
   },
   {
    "duration": 34,
    "start_time": "2023-06-26T09:04:17.709Z"
   },
   {
    "duration": 42,
    "start_time": "2023-06-26T09:04:29.953Z"
   },
   {
    "duration": 15,
    "start_time": "2023-06-26T09:04:30.901Z"
   },
   {
    "duration": 14,
    "start_time": "2023-06-26T09:04:34.022Z"
   },
   {
    "duration": 31815,
    "start_time": "2023-06-26T09:04:39.324Z"
   },
   {
    "duration": 942,
    "start_time": "2023-06-26T09:05:14.327Z"
   },
   {
    "duration": 15,
    "start_time": "2023-06-26T09:05:20.126Z"
   },
   {
    "duration": 15,
    "start_time": "2023-06-26T09:05:21.595Z"
   },
   {
    "duration": 14,
    "start_time": "2023-06-26T09:05:28.605Z"
   },
   {
    "duration": 108,
    "start_time": "2023-06-26T09:05:38.262Z"
   },
   {
    "duration": 14,
    "start_time": "2023-06-26T09:05:40.814Z"
   },
   {
    "duration": 19,
    "start_time": "2023-06-26T09:05:41.540Z"
   },
   {
    "duration": 121,
    "start_time": "2023-06-26T09:05:48.640Z"
   },
   {
    "duration": 27,
    "start_time": "2023-06-26T09:05:51.168Z"
   },
   {
    "duration": 22,
    "start_time": "2023-06-26T09:06:01.871Z"
   },
   {
    "duration": 13,
    "start_time": "2023-06-26T09:06:02.604Z"
   },
   {
    "duration": 14,
    "start_time": "2023-06-26T09:06:04.522Z"
   },
   {
    "duration": 13871,
    "start_time": "2023-06-26T09:06:19.498Z"
   },
   {
    "duration": 378,
    "start_time": "2023-06-26T09:06:42.570Z"
   },
   {
    "duration": 15,
    "start_time": "2023-06-26T09:06:46.375Z"
   },
   {
    "duration": 15,
    "start_time": "2023-06-26T09:06:49.921Z"
   },
   {
    "duration": 348,
    "start_time": "2023-06-26T09:13:05.700Z"
   },
   {
    "duration": 565,
    "start_time": "2023-06-26T09:14:02.142Z"
   },
   {
    "duration": 157,
    "start_time": "2023-06-26T09:14:46.327Z"
   },
   {
    "duration": 343,
    "start_time": "2023-06-26T09:15:01.432Z"
   },
   {
    "duration": 330,
    "start_time": "2023-06-26T09:15:22.541Z"
   },
   {
    "duration": 303,
    "start_time": "2023-06-26T09:15:30.200Z"
   },
   {
    "duration": 174,
    "start_time": "2023-06-26T09:15:42.325Z"
   },
   {
    "duration": 254,
    "start_time": "2023-06-26T09:16:30.290Z"
   },
   {
    "duration": 91,
    "start_time": "2023-06-26T09:38:00.932Z"
   },
   {
    "duration": 136,
    "start_time": "2023-06-26T09:44:43.752Z"
   },
   {
    "duration": 11,
    "start_time": "2023-06-26T09:48:32.261Z"
   },
   {
    "duration": 7,
    "start_time": "2023-06-26T09:48:37.144Z"
   },
   {
    "duration": 12,
    "start_time": "2023-06-26T09:48:39.599Z"
   },
   {
    "duration": 10,
    "start_time": "2023-06-26T09:48:55.760Z"
   }
  ],
  "kernelspec": {
   "display_name": "Python 3 (ipykernel)",
   "language": "python",
   "name": "python3"
  },
  "language_info": {
   "codemirror_mode": {
    "name": "ipython",
    "version": 3
   },
   "file_extension": ".py",
   "mimetype": "text/x-python",
   "name": "python",
   "nbconvert_exporter": "python",
   "pygments_lexer": "ipython3",
   "version": "3.8.6rc1"
  },
  "toc": {
   "base_numbering": 1,
   "nav_menu": {},
   "number_sections": true,
   "sideBar": true,
   "skip_h1_title": true,
   "title_cell": "Содержание",
   "title_sidebar": "Contents",
   "toc_cell": true,
   "toc_position": {
    "height": "calc(100% - 180px)",
    "left": "10px",
    "top": "150px",
    "width": "336.179px"
   },
   "toc_section_display": true,
   "toc_window_display": true
  }
 },
 "nbformat": 4,
 "nbformat_minor": 4
}
