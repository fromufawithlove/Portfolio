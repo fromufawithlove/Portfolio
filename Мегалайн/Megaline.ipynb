{
 "cells": [
  {
   "cell_type": "markdown",
   "metadata": {},
   "source": [
    "# Рекомендация тарифов"
   ]
  },
  {
   "cell_type": "markdown",
   "metadata": {},
   "source": [
    "В вашем распоряжении данные о поведении клиентов, которые уже перешли на эти тарифы (из проекта курса «Статистический анализ данных»). Нужно построить модель для задачи классификации, которая выберет подходящий тариф. Предобработка данных не понадобится — вы её уже сделали.\n",
    "\n",
    "Постройте модель с максимально большим значением *accuracy*. Чтобы сдать проект успешно, нужно довести долю правильных ответов по крайней мере до 0.75. Проверьте *accuracy* на тестовой выборке самостоятельно."
   ]
  },
  {
   "cell_type": "markdown",
   "metadata": {},
   "source": [
    "## Откройте и изучите файл"
   ]
  },
  {
   "cell_type": "code",
   "execution_count": 1,
   "metadata": {},
   "outputs": [],
   "source": [
    "import pandas as pd\n",
    "from sklearn.model_selection import train_test_split\n",
    "\n",
    "from sklearn.tree import DecisionTreeClassifier\n",
    "from sklearn.ensemble import RandomForestClassifier\n",
    "from sklearn.linear_model import LogisticRegression \n",
    "from sklearn.dummy import DummyClassifier\n",
    "\n",
    "from sklearn.metrics import accuracy_score"
   ]
  },
  {
   "cell_type": "code",
   "execution_count": 2,
   "metadata": {},
   "outputs": [
    {
     "data": {
      "text/html": [
       "<div>\n",
       "<style scoped>\n",
       "    .dataframe tbody tr th:only-of-type {\n",
       "        vertical-align: middle;\n",
       "    }\n",
       "\n",
       "    .dataframe tbody tr th {\n",
       "        vertical-align: top;\n",
       "    }\n",
       "\n",
       "    .dataframe thead th {\n",
       "        text-align: right;\n",
       "    }\n",
       "</style>\n",
       "<table border=\"1\" class=\"dataframe\">\n",
       "  <thead>\n",
       "    <tr style=\"text-align: right;\">\n",
       "      <th></th>\n",
       "      <th>calls</th>\n",
       "      <th>minutes</th>\n",
       "      <th>messages</th>\n",
       "      <th>mb_used</th>\n",
       "      <th>is_ultra</th>\n",
       "    </tr>\n",
       "  </thead>\n",
       "  <tbody>\n",
       "    <tr>\n",
       "      <th>0</th>\n",
       "      <td>40.0</td>\n",
       "      <td>311.90</td>\n",
       "      <td>83.0</td>\n",
       "      <td>19915.42</td>\n",
       "      <td>0</td>\n",
       "    </tr>\n",
       "    <tr>\n",
       "      <th>1</th>\n",
       "      <td>85.0</td>\n",
       "      <td>516.75</td>\n",
       "      <td>56.0</td>\n",
       "      <td>22696.96</td>\n",
       "      <td>0</td>\n",
       "    </tr>\n",
       "    <tr>\n",
       "      <th>2</th>\n",
       "      <td>77.0</td>\n",
       "      <td>467.66</td>\n",
       "      <td>86.0</td>\n",
       "      <td>21060.45</td>\n",
       "      <td>0</td>\n",
       "    </tr>\n",
       "    <tr>\n",
       "      <th>3</th>\n",
       "      <td>106.0</td>\n",
       "      <td>745.53</td>\n",
       "      <td>81.0</td>\n",
       "      <td>8437.39</td>\n",
       "      <td>1</td>\n",
       "    </tr>\n",
       "    <tr>\n",
       "      <th>4</th>\n",
       "      <td>66.0</td>\n",
       "      <td>418.74</td>\n",
       "      <td>1.0</td>\n",
       "      <td>14502.75</td>\n",
       "      <td>0</td>\n",
       "    </tr>\n",
       "  </tbody>\n",
       "</table>\n",
       "</div>"
      ],
      "text/plain": [
       "   calls  minutes  messages   mb_used  is_ultra\n",
       "0   40.0   311.90      83.0  19915.42         0\n",
       "1   85.0   516.75      56.0  22696.96         0\n",
       "2   77.0   467.66      86.0  21060.45         0\n",
       "3  106.0   745.53      81.0   8437.39         1\n",
       "4   66.0   418.74       1.0  14502.75         0"
      ]
     },
     "execution_count": 2,
     "metadata": {},
     "output_type": "execute_result"
    }
   ],
   "source": [
    "df = pd.read_csv('/datasets/users_behavior.csv')\n",
    "\n",
    "df.head()"
   ]
  },
  {
   "cell_type": "code",
   "execution_count": 3,
   "metadata": {},
   "outputs": [
    {
     "name": "stdout",
     "output_type": "stream",
     "text": [
      "<class 'pandas.core.frame.DataFrame'>\n",
      "RangeIndex: 3214 entries, 0 to 3213\n",
      "Data columns (total 5 columns):\n",
      " #   Column    Non-Null Count  Dtype  \n",
      "---  ------    --------------  -----  \n",
      " 0   calls     3214 non-null   float64\n",
      " 1   minutes   3214 non-null   float64\n",
      " 2   messages  3214 non-null   float64\n",
      " 3   mb_used   3214 non-null   float64\n",
      " 4   is_ultra  3214 non-null   int64  \n",
      "dtypes: float64(4), int64(1)\n",
      "memory usage: 125.7 KB\n"
     ]
    }
   ],
   "source": [
    "df.info()"
   ]
  },
  {
   "cell_type": "code",
   "execution_count": 4,
   "metadata": {},
   "outputs": [
    {
     "data": {
      "text/plain": [
       "calls       0\n",
       "minutes     0\n",
       "messages    0\n",
       "mb_used     0\n",
       "is_ultra    0\n",
       "dtype: int64"
      ]
     },
     "execution_count": 4,
     "metadata": {},
     "output_type": "execute_result"
    }
   ],
   "source": [
    "df.isna().sum()"
   ]
  },
  {
   "cell_type": "markdown",
   "metadata": {},
   "source": [
    "Выводы шага 1:\n",
    "\n",
    "* У нас есть база в 3214 строк и 5 столбцов.\n",
    "* Пропусков в данных нет, типы данных и наименования корректные."
   ]
  },
  {
   "cell_type": "markdown",
   "metadata": {},
   "source": [
    "## Разбейте данные на выборки"
   ]
  },
  {
   "cell_type": "code",
   "execution_count": 5,
   "metadata": {},
   "outputs": [],
   "source": [
    "# делим все данные на паризнаки и целевой признак \n",
    "features = df.drop(['is_ultra'], axis=1)\n",
    "target = df['is_ultra']\n",
    "\n",
    "# разбиваем данные на обучающую, валидационную и тестовую выборки\n",
    "\n",
    "# для начала выберем обучающую выборку в размере 60%\n",
    "\n",
    "features_train, features_x, target_train, target_x = train_test_split(\n",
    "    features, target, test_size=0.4, random_state=12345) \n",
    "\n",
    "\n",
    "# из оставшейся выборки выберем половину на валидационные и тестовые данные\n",
    "\n",
    "features_valid, features_test,  target_valid, target_test = train_test_split(\n",
    "    features_x, target_x, test_size=0.5, random_state=12345)"
   ]
  },
  {
   "cell_type": "code",
   "execution_count": 6,
   "metadata": {},
   "outputs": [
    {
     "name": "stdout",
     "output_type": "stream",
     "text": [
      "features: (3214, 4)\n",
      "target: (3214,)\n",
      "features_train: (1928, 4)\n",
      "target_train: (1928,)\n",
      "features_valid: (643, 4)\n",
      "target_valid: (643,)\n",
      "features_test: (643, 4)\n",
      "target_test: (643,)\n"
     ]
    }
   ],
   "source": [
    "# проверим выборки на размерность\n",
    "\n",
    "print('features:', features.shape)\n",
    "print('target:', target.shape)\n",
    "\n",
    "print('features_train:', features_train.shape)\n",
    "print('target_train:', target_train.shape)\n",
    "\n",
    "print('features_valid:', features_valid.shape)\n",
    "print('target_valid:', target_valid.shape)\n",
    "\n",
    "print('features_test:', features_test.shape)\n",
    "print('target_test:', target_test.shape)"
   ]
  },
  {
   "cell_type": "markdown",
   "metadata": {},
   "source": [
    "Выводы шага 2:\n",
    "\n",
    "* Разделили базу на признаки и целевой признак\n",
    "* Разделили базу на обучающую, валидационную и тестовую выборки в соотношении 60/20/20\n",
    "* Проверили размерность полученных выборок"
   ]
  },
  {
   "cell_type": "markdown",
   "metadata": {},
   "source": [
    "## Исследуйте модели"
   ]
  },
  {
   "cell_type": "markdown",
   "metadata": {},
   "source": [
    "### Модель дерева решений"
   ]
  },
  {
   "cell_type": "markdown",
   "metadata": {},
   "source": [
    "Изучим модель дерева решений и сразу выберем глубину для наилучшего решения."
   ]
  },
  {
   "cell_type": "code",
   "execution_count": 8,
   "metadata": {},
   "outputs": [
    {
     "name": "stdout",
     "output_type": "stream",
     "text": [
      "max_depth = 1 : 0.7542768273716952\n",
      "max_depth = 2 : 0.7822706065318819\n",
      "max_depth = 3 : 0.7853810264385692\n",
      "max_depth = 4 : 0.7791601866251944\n",
      "max_depth = 5 : 0.7791601866251944\n",
      "max_depth = 6 : 0.7838258164852255\n",
      "max_depth = 7 : 0.7822706065318819\n",
      "max_depth = 8 : 0.7791601866251944\n",
      "max_depth = 9 : 0.7822706065318819\n",
      "max_depth = 10 : 0.7744945567651633\n",
      "Максимальное значение accuracy при данной модели решения:0.7853810264385692, max_depth: 3\n"
     ]
    }
   ],
   "source": [
    "# исследуем глубину дерева до 10\n",
    "\n",
    "max_accuracy = 0\n",
    "best_depth = 0\n",
    "\n",
    "for depth in range(1, 11):\n",
    "    model_tree = DecisionTreeClassifier(random_state=12345, max_depth=depth)\n",
    "    model_tree.fit(features_train , target_train)\n",
    "\n",
    "    predictions_valid = model_tree.predict(features_valid)\n",
    "\n",
    "    print(\"max_depth =\", depth, \": \", end='')\n",
    "    print(accuracy_score(target_valid, predictions_valid))\n",
    "    \n",
    "    if accuracy_score(target_valid, predictions_valid) > max_accuracy:\n",
    "        max_accuracy = accuracy_score(target_valid, predictions_valid)\n",
    "        best_depth = depth\n",
    "        model_tree_best = model_tree\n",
    "          \n",
    "print(f'Максимальное значение accuracy при данной модели решения:{max_accuracy}, max_depth: {best_depth}')"
   ]
  },
  {
   "cell_type": "markdown",
   "metadata": {},
   "source": [
    "Вывод:  Для модели дерева решений (DecisionTreeClassifier) наилушим показателем accuracy оказалось 0.7853810264385692 при max_depth = 3"
   ]
  },
  {
   "cell_type": "markdown",
   "metadata": {},
   "source": [
    "### Модель Случайный лес"
   ]
  },
  {
   "cell_type": "markdown",
   "metadata": {},
   "source": [
    "Изучим модель Случайный лес и сразу выберем количество деревьев для наилучшего решения."
   ]
  },
  {
   "cell_type": "code",
   "execution_count": 9,
   "metadata": {},
   "outputs": [
    {
     "name": "stdout",
     "output_type": "stream",
     "text": [
      "Accuracy наилучшей модели на валидационной выборке:0.7931570762052877, количество деревьев 18\n"
     ]
    }
   ],
   "source": [
    "best_result = 0\n",
    "best_est = 0\n",
    "\n",
    "for est in range(1, 21):\n",
    "    model_forest = RandomForestClassifier(random_state=12345, n_estimators= est)\n",
    "    \n",
    "    model_forest.fit(features_train, target_train)\n",
    "    result = model_forest.score(features_valid, target_valid)\n",
    "    \n",
    "    if result > best_result:\n",
    "        best_result = result\n",
    "        best_est = est\n",
    "        model_forest_best = model_forest\n",
    "\n",
    "print(f'Accuracy наилучшей модели на валидационной выборке:{best_result}, количество деревьев {best_est}')"
   ]
  },
  {
   "cell_type": "markdown",
   "metadata": {},
   "source": [
    "Вывод: Для модели Случайный лес (RandomForestClassifier) наилушим показателем accuracy оказалось 0.7931570762052877 при n_estimators = 18"
   ]
  },
  {
   "cell_type": "markdown",
   "metadata": {},
   "source": [
    "### Модель Логистическая регрессия"
   ]
  },
  {
   "cell_type": "markdown",
   "metadata": {},
   "source": [
    "Изучим модель Логистической регрессии."
   ]
  },
  {
   "cell_type": "code",
   "execution_count": 10,
   "metadata": {},
   "outputs": [
    {
     "data": {
      "text/plain": [
       "0.7107309486780715"
      ]
     },
     "execution_count": 10,
     "metadata": {},
     "output_type": "execute_result"
    }
   ],
   "source": [
    "model_log = LogisticRegression(random_state=12345) \n",
    "model_log.fit(features_train, target_train)\n",
    "\n",
    "result = model_log.score(features_valid, target_valid)\n",
    "\n",
    "result"
   ]
  },
  {
   "cell_type": "markdown",
   "metadata": {},
   "source": [
    "Вывод: Для модели Логистической регрессии (LogisticRegressionClassifier)  accuracy равна 0.7107309486780715"
   ]
  },
  {
   "cell_type": "markdown",
   "metadata": {},
   "source": [
    "Общий вывод по шагу 3:\n",
    "\n",
    "Мы применили три модели для задачи классификации - дерево решений с глубиной от 1 до 10, случайный лес с количеством деревьев от 1 до 20 и логическую регрессию.\n",
    "\n",
    "Для модели дерева решений (DecisionTreeClassifier) наилушим показателем accuracy оказалось 0.7853810264385692 при max_depth = 3\n",
    "\n",
    "Для модели Случайный лес (RandomForestClassifier) наилушим показателем accuracy оказалось 0.7931570762052877 при n_estimators = 18\n",
    "\n",
    "Для модели Логистической регрессии (LogisticRegressionClassifier) мы получили accuracy равной 0.7107309486780715"
   ]
  },
  {
   "cell_type": "markdown",
   "metadata": {},
   "source": [
    "## Проверьте модель на тестовой выборке"
   ]
  },
  {
   "cell_type": "markdown",
   "metadata": {},
   "source": [
    "Выберем модель с лучшим показателем accuracy  - Случайный лес с количеством деревьев 18. Посчитаем accuracy на тестовой выборке."
   ]
  },
  {
   "cell_type": "code",
   "execution_count": 11,
   "metadata": {},
   "outputs": [
    {
     "data": {
      "text/plain": [
       "0.7853810264385692"
      ]
     },
     "execution_count": 11,
     "metadata": {},
     "output_type": "execute_result"
    }
   ],
   "source": [
    "model_forest_best.score(features_test, target_test)"
   ]
  },
  {
   "cell_type": "markdown",
   "metadata": {},
   "source": [
    "Выбрав лучший показатель accuracy - Случайный лес с количеством деревьев 18, мы протестировали модель на тестовой выборке и получили значение accuracy = 0.7853810264385692"
   ]
  },
  {
   "cell_type": "markdown",
   "metadata": {},
   "source": [
    "## (бонус) Проверьте модели на адекватность"
   ]
  },
  {
   "cell_type": "code",
   "execution_count": 96,
   "metadata": {},
   "outputs": [
    {
     "name": "stdout",
     "output_type": "stream",
     "text": [
      "Accuracy DummyClassifier: 0.7060653188180405\n"
     ]
    }
   ],
   "source": [
    "model_dc = DummyClassifier(strategy='most_frequent', random_state=12345)\n",
    "model_dc.fit(features_train, target_train)\n",
    "result_dc = model_dc.score(features_valid, target_valid)\n",
    "print('Accuracy DummyClassifier:', result_dc)"
   ]
  },
  {
   "cell_type": "code",
   "execution_count": 97,
   "metadata": {},
   "outputs": [
    {
     "data": {
      "text/plain": [
       "985"
      ]
     },
     "execution_count": 97,
     "metadata": {},
     "output_type": "execute_result"
    }
   ],
   "source": [
    "# is_ultra = 1\n",
    "\n",
    "target.sum()"
   ]
  },
  {
   "cell_type": "code",
   "execution_count": 100,
   "metadata": {},
   "outputs": [
    {
     "data": {
      "text/plain": [
       "2229"
      ]
     },
     "execution_count": 100,
     "metadata": {},
     "output_type": "execute_result"
    }
   ],
   "source": [
    "# is_ultra = 1\n",
    "\n",
    "len(target) - target.sum()"
   ]
  },
  {
   "cell_type": "code",
   "execution_count": 102,
   "metadata": {},
   "outputs": [
    {
     "data": {
      "text/plain": [
       "0.693528313627878"
      ]
     },
     "execution_count": 102,
     "metadata": {},
     "output_type": "execute_result"
    }
   ],
   "source": [
    "# процент распространенности популярного класса в исходных данных\n",
    "\n",
    "(len(target) - target.sum())/len(target)"
   ]
  },
  {
   "cell_type": "code",
   "execution_count": 104,
   "metadata": {},
   "outputs": [],
   "source": [
    "# лучшая модель на общих данных сделает прогноз целевого признака\n",
    "\n",
    "pred_total = model_forest_best.predict(features)"
   ]
  },
  {
   "cell_type": "code",
   "execution_count": 107,
   "metadata": {},
   "outputs": [
    {
     "data": {
      "text/plain": [
       "868"
      ]
     },
     "execution_count": 107,
     "metadata": {},
     "output_type": "execute_result"
    }
   ],
   "source": [
    "# найдем сумму значений is_ultra = 1\n",
    "\n",
    "sum(pred_total)"
   ]
  },
  {
   "cell_type": "code",
   "execution_count": 109,
   "metadata": {},
   "outputs": [
    {
     "data": {
      "text/plain": [
       "0.7299315494710641"
      ]
     },
     "execution_count": 109,
     "metadata": {},
     "output_type": "execute_result"
    }
   ],
   "source": [
    "# процент распространенности популярного класса в прогнозируемых данных\n",
    "\n",
    "(len(pred_total) - sum(pred_total))/len(pred_total)"
   ]
  },
  {
   "cell_type": "markdown",
   "metadata": {},
   "source": [
    "## Общий вывод"
   ]
  },
  {
   "cell_type": "markdown",
   "metadata": {},
   "source": [
    "Шаг 1.\n",
    "\n",
    "* У нас есть база в 3214 строк и 5 столбцов.\n",
    "* Пропусков в данных нет, типы данных и наименования корректные.\n",
    "\n",
    "Шаг 2.\n",
    "\n",
    "* Разделили базу на признаки и целевой признак\n",
    "* Разделили базу на обучающую, валидационную и тестовую выборки в соотношении 60/20/20\n",
    "* Проверили размерность полученных выборок\n",
    "\n",
    "Шаг 3.\n",
    "\n",
    "Мы применили три модели для задачи классификации - дерево решений с глубиной от 1 до 10, случайный лес с количеством деревьев от 1 до 20 и логическую регрессию.\n",
    "\n",
    "* Для модели дерева решений (DecisionTreeClassifier) наилушим показателем accuracy оказалось 0.7853810264385692 при max_depth = 3\n",
    "\n",
    "* Для модели Случайный лес (RandomForestClassifier) наилушим показателем accuracy оказалось 0.7931570762052877 при n_estimators = 18\n",
    "\n",
    "* Для модели Логистической регрессии (LogisticRegressionClassifier) мы получили accuracy равной 0.7107309486780715\n",
    "\n",
    "Шаг4.\n",
    "\n",
    "Выбрав лучший показатель accuracy - Случайный лес с количеством деревьев 18, мы протестировали модель на тестовой выборке и получили значение accuracy = 0.7853810264385692\n"
   ]
  }
 ],
 "metadata": {
  "ExecuteTimeLog": [
   {
    "duration": 51,
    "start_time": "2023-06-06T11:10:01.481Z"
   },
   {
    "duration": 1394,
    "start_time": "2023-06-06T11:10:07.468Z"
   },
   {
    "duration": 192,
    "start_time": "2023-06-06T11:10:08.864Z"
   },
   {
    "duration": 49,
    "start_time": "2023-06-06T11:10:15.826Z"
   },
   {
    "duration": 16,
    "start_time": "2023-06-06T11:10:40.309Z"
   },
   {
    "duration": 13,
    "start_time": "2023-06-06T11:10:46.810Z"
   },
   {
    "duration": 9,
    "start_time": "2023-06-06T11:12:31.274Z"
   },
   {
    "duration": 6,
    "start_time": "2023-06-06T11:12:38.130Z"
   },
   {
    "duration": 11,
    "start_time": "2023-06-06T11:26:06.829Z"
   },
   {
    "duration": 5,
    "start_time": "2023-06-06T11:26:31.481Z"
   },
   {
    "duration": 3,
    "start_time": "2023-06-06T11:26:50.509Z"
   },
   {
    "duration": 12,
    "start_time": "2023-06-06T11:28:04.244Z"
   },
   {
    "duration": 5,
    "start_time": "2023-06-06T11:54:18.926Z"
   },
   {
    "duration": 92,
    "start_time": "2023-06-06T11:57:37.493Z"
   },
   {
    "duration": 234,
    "start_time": "2023-06-06T12:04:14.642Z"
   },
   {
    "duration": 580,
    "start_time": "2023-06-06T12:05:19.653Z"
   },
   {
    "duration": 187,
    "start_time": "2023-06-06T12:07:34.704Z"
   },
   {
    "duration": 403,
    "start_time": "2023-06-06T12:08:19.167Z"
   },
   {
    "duration": 318,
    "start_time": "2023-06-06T12:08:24.504Z"
   },
   {
    "duration": 530,
    "start_time": "2023-06-06T12:08:43.536Z"
   },
   {
    "duration": 3,
    "start_time": "2023-06-06T12:08:56.639Z"
   },
   {
    "duration": 39,
    "start_time": "2023-06-06T12:08:57.957Z"
   },
   {
    "duration": 16,
    "start_time": "2023-06-06T12:09:00.451Z"
   },
   {
    "duration": 8,
    "start_time": "2023-06-06T12:09:01.423Z"
   },
   {
    "duration": 8,
    "start_time": "2023-06-06T12:09:04.672Z"
   },
   {
    "duration": 7,
    "start_time": "2023-06-06T12:09:06.087Z"
   },
   {
    "duration": 214,
    "start_time": "2023-06-06T12:09:10.338Z"
   },
   {
    "duration": 801,
    "start_time": "2023-06-06T12:09:39.985Z"
   },
   {
    "duration": 138,
    "start_time": "2023-06-06T12:09:55.979Z"
   },
   {
    "duration": 385,
    "start_time": "2023-06-06T12:10:14.089Z"
   },
   {
    "duration": 84,
    "start_time": "2023-06-06T12:10:53.563Z"
   },
   {
    "duration": 90,
    "start_time": "2023-06-06T12:11:46.097Z"
   },
   {
    "duration": 3,
    "start_time": "2023-06-06T12:17:35.125Z"
   },
   {
    "duration": 37,
    "start_time": "2023-06-06T12:17:35.804Z"
   },
   {
    "duration": 84,
    "start_time": "2023-06-06T12:18:59.646Z"
   },
   {
    "duration": 84,
    "start_time": "2023-06-06T12:20:00.542Z"
   },
   {
    "duration": 83,
    "start_time": "2023-06-06T12:20:10.858Z"
   },
   {
    "duration": 207,
    "start_time": "2023-06-06T12:22:40.683Z"
   },
   {
    "duration": 304,
    "start_time": "2023-06-06T12:23:06.570Z"
   },
   {
    "duration": 1040,
    "start_time": "2023-06-06T12:23:23.138Z"
   },
   {
    "duration": 4,
    "start_time": "2023-06-06T12:27:41.851Z"
   },
   {
    "duration": 4,
    "start_time": "2023-06-06T12:28:12.601Z"
   },
   {
    "duration": 48,
    "start_time": "2023-06-06T12:34:32.198Z"
   },
   {
    "duration": 3,
    "start_time": "2023-06-07T06:59:05.528Z"
   },
   {
    "duration": 40,
    "start_time": "2023-06-07T06:59:06.127Z"
   },
   {
    "duration": 11,
    "start_time": "2023-06-07T06:59:06.960Z"
   },
   {
    "duration": 7,
    "start_time": "2023-06-07T06:59:07.789Z"
   },
   {
    "duration": 8,
    "start_time": "2023-06-07T06:59:09.954Z"
   },
   {
    "duration": 6,
    "start_time": "2023-06-07T06:59:10.971Z"
   },
   {
    "duration": 4,
    "start_time": "2023-06-07T06:59:29.556Z"
   },
   {
    "duration": 36,
    "start_time": "2023-06-07T06:59:30.170Z"
   },
   {
    "duration": 10,
    "start_time": "2023-06-07T06:59:30.781Z"
   },
   {
    "duration": 7,
    "start_time": "2023-06-07T06:59:31.374Z"
   },
   {
    "duration": 10,
    "start_time": "2023-06-07T06:59:33.341Z"
   },
   {
    "duration": 6,
    "start_time": "2023-06-07T06:59:33.982Z"
   },
   {
    "duration": 89,
    "start_time": "2023-06-07T06:59:37.005Z"
   },
   {
    "duration": 993,
    "start_time": "2023-06-07T06:59:43.573Z"
   },
   {
    "duration": 31,
    "start_time": "2023-06-07T06:59:48.934Z"
   },
   {
    "duration": 84,
    "start_time": "2023-06-07T07:02:07.029Z"
   },
   {
    "duration": 929,
    "start_time": "2023-06-07T07:02:28.412Z"
   },
   {
    "duration": 32,
    "start_time": "2023-06-07T07:02:50.227Z"
   },
   {
    "duration": 949,
    "start_time": "2023-06-07T07:03:27.628Z"
   },
   {
    "duration": 87,
    "start_time": "2023-06-07T07:03:55.835Z"
   },
   {
    "duration": 35,
    "start_time": "2023-06-07T07:06:26.538Z"
   },
   {
    "duration": 22,
    "start_time": "2023-06-07T07:23:12.550Z"
   },
   {
    "duration": 18,
    "start_time": "2023-06-07T07:42:21.926Z"
   },
   {
    "duration": 11,
    "start_time": "2023-06-07T07:42:35.989Z"
   },
   {
    "duration": 5,
    "start_time": "2023-06-07T07:43:29.165Z"
   },
   {
    "duration": 3,
    "start_time": "2023-06-07T07:43:53.359Z"
   },
   {
    "duration": 10,
    "start_time": "2023-06-07T07:44:01.662Z"
   },
   {
    "duration": 9,
    "start_time": "2023-06-07T07:46:36.981Z"
   },
   {
    "duration": 18,
    "start_time": "2023-06-07T07:47:34.166Z"
   },
   {
    "duration": 12,
    "start_time": "2023-06-07T07:48:05.750Z"
   },
   {
    "duration": 4,
    "start_time": "2023-06-07T07:48:10.694Z"
   },
   {
    "duration": 4,
    "start_time": "2023-06-07T07:48:26.658Z"
   },
   {
    "duration": 6,
    "start_time": "2023-06-07T07:49:23.267Z"
   },
   {
    "duration": 23,
    "start_time": "2023-06-07T07:49:57.152Z"
   },
   {
    "duration": 12,
    "start_time": "2023-06-07T07:50:46.158Z"
   },
   {
    "duration": 8,
    "start_time": "2023-06-07T07:51:44.271Z"
   },
   {
    "duration": 2,
    "start_time": "2023-06-07T07:51:58.142Z"
   },
   {
    "duration": 14,
    "start_time": "2023-06-07T07:52:10.319Z"
   },
   {
    "duration": 12,
    "start_time": "2023-06-07T07:52:14.670Z"
   },
   {
    "duration": 17,
    "start_time": "2023-06-07T07:53:03.935Z"
   },
   {
    "duration": 5,
    "start_time": "2023-06-07T07:53:12.510Z"
   },
   {
    "duration": 18,
    "start_time": "2023-06-07T07:53:26.541Z"
   },
   {
    "duration": 21,
    "start_time": "2023-06-07T07:53:44.256Z"
   },
   {
    "duration": 5,
    "start_time": "2023-06-07T09:07:58.579Z"
   },
   {
    "duration": 11,
    "start_time": "2023-06-07T09:10:22.924Z"
   },
   {
    "duration": 2,
    "start_time": "2023-06-07T11:00:44.909Z"
   },
   {
    "duration": 14,
    "start_time": "2023-06-07T11:08:16.741Z"
   },
   {
    "duration": 4,
    "start_time": "2023-06-07T11:08:54.102Z"
   },
   {
    "duration": 10,
    "start_time": "2023-06-07T11:09:00.367Z"
   },
   {
    "duration": 6,
    "start_time": "2023-06-07T11:09:06.270Z"
   },
   {
    "duration": 494,
    "start_time": "2023-06-07T11:17:50.274Z"
   },
   {
    "duration": 2289,
    "start_time": "2023-06-07T11:31:30.045Z"
   },
   {
    "duration": 82,
    "start_time": "2023-06-07T11:31:32.335Z"
   },
   {
    "duration": 13,
    "start_time": "2023-06-07T11:31:32.419Z"
   },
   {
    "duration": 16,
    "start_time": "2023-06-07T11:31:32.434Z"
   },
   {
    "duration": 22,
    "start_time": "2023-06-07T11:31:32.453Z"
   },
   {
    "duration": 23,
    "start_time": "2023-06-07T11:31:32.477Z"
   },
   {
    "duration": 229,
    "start_time": "2023-06-07T11:31:32.502Z"
   },
   {
    "duration": 0,
    "start_time": "2023-06-07T11:31:32.733Z"
   },
   {
    "duration": 0,
    "start_time": "2023-06-07T11:31:32.734Z"
   },
   {
    "duration": 0,
    "start_time": "2023-06-07T11:31:32.735Z"
   },
   {
    "duration": 80,
    "start_time": "2023-06-07T11:38:33.472Z"
   },
   {
    "duration": 835,
    "start_time": "2023-06-07T11:38:51.289Z"
   },
   {
    "duration": 37,
    "start_time": "2023-06-07T11:39:18.626Z"
   },
   {
    "duration": 12,
    "start_time": "2023-06-07T11:39:29.954Z"
   },
   {
    "duration": 229,
    "start_time": "2023-06-07T11:59:53.804Z"
   },
   {
    "duration": 6,
    "start_time": "2023-06-07T12:08:08.290Z"
   },
   {
    "duration": 4,
    "start_time": "2023-06-07T12:12:34.706Z"
   },
   {
    "duration": 4,
    "start_time": "2023-06-07T12:13:42.078Z"
   },
   {
    "duration": 276,
    "start_time": "2023-06-07T12:13:48.104Z"
   },
   {
    "duration": 5,
    "start_time": "2023-06-07T12:13:52.541Z"
   },
   {
    "duration": 4,
    "start_time": "2023-06-07T12:14:20.630Z"
   },
   {
    "duration": 6,
    "start_time": "2023-06-07T12:14:53.958Z"
   },
   {
    "duration": 9,
    "start_time": "2023-06-07T12:15:35.094Z"
   },
   {
    "duration": 16,
    "start_time": "2023-06-07T12:15:38.429Z"
   },
   {
    "duration": 9,
    "start_time": "2023-06-07T12:15:41.189Z"
   },
   {
    "duration": 4,
    "start_time": "2023-06-07T12:15:57.965Z"
   },
   {
    "duration": 5,
    "start_time": "2023-06-07T12:16:08.325Z"
   },
   {
    "duration": 4,
    "start_time": "2023-06-07T12:16:26.782Z"
   },
   {
    "duration": 4,
    "start_time": "2023-06-07T12:16:58.958Z"
   }
  ],
  "kernelspec": {
   "display_name": "Python 3 (ipykernel)",
   "language": "python",
   "name": "python3"
  },
  "language_info": {
   "codemirror_mode": {
    "name": "ipython",
    "version": 3
   },
   "file_extension": ".py",
   "mimetype": "text/x-python",
   "name": "python",
   "nbconvert_exporter": "python",
   "pygments_lexer": "ipython3",
   "version": "3.8.6rc1"
  },
  "toc": {
   "base_numbering": 1,
   "nav_menu": {},
   "number_sections": true,
   "sideBar": true,
   "skip_h1_title": true,
   "title_cell": "Table of Contents",
   "title_sidebar": "Contents",
   "toc_cell": false,
   "toc_position": {},
   "toc_section_display": true,
   "toc_window_display": true
  }
 },
 "nbformat": 4,
 "nbformat_minor": 4
}
