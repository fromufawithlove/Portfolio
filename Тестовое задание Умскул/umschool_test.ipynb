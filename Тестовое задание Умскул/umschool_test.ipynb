{
 "cells": [
  {
   "cell_type": "code",
   "execution_count": 1,
   "id": "abcfcb32-b949-4fbb-bad3-fe69e8be8d6d",
   "metadata": {},
   "outputs": [],
   "source": [
    "import pandas as pd\n",
    "import numpy as np\n",
    "import seaborn as sb\n",
    "import matplotlib.pyplot as plt\n",
    "from datetime import datetime as dt"
   ]
  },
  {
   "cell_type": "markdown",
   "id": "0cee7134-d6ba-4c32-9c4a-72680bfa011e",
   "metadata": {},
   "source": [
    "## Изучение данных"
   ]
  },
  {
   "cell_type": "code",
   "execution_count": 2,
   "id": "e8a1e75c-0d94-43ab-98e3-747f19649b5f",
   "metadata": {},
   "outputs": [
    {
     "name": "stdout",
     "output_type": "stream",
     "text": [
      "<class 'pandas.core.frame.DataFrame'>\n",
      "RangeIndex: 147813 entries, 0 to 147812\n",
      "Data columns (total 6 columns):\n",
      " #   Column    Non-Null Count   Dtype  \n",
      "---  ------    --------------   -----  \n",
      " 0   time      147813 non-null  object \n",
      " 1   user_id   147813 non-null  int64  \n",
      " 2   event     147813 non-null  object \n",
      " 3   hotel_id  147813 non-null  int64  \n",
      " 4   sum_usd   9392 non-null    float64\n",
      " 5   n_days    9392 non-null    float64\n",
      "dtypes: float64(2), int64(2), object(2)\n",
      "memory usage: 6.8+ MB\n"
     ]
    }
   ],
   "source": [
    "df = pd.read_csv(r'C:/Users/Shatalina-yur/data/data_test.csv', sep=',')\n",
    "\n",
    "df.info()"
   ]
  },
  {
   "cell_type": "markdown",
   "id": "609b9ae4-83d2-4b5a-8594-c482e27a2024",
   "metadata": {},
   "source": [
    "Дана таблица на 147 813 строк, 5 столбцов. Много нулевых значений в столбцах sum_usd и n_days. Заполним пропуски нулями."
   ]
  },
  {
   "cell_type": "code",
   "execution_count": 3,
   "id": "885824cb-47f0-41ce-824f-e7fdda2391e6",
   "metadata": {},
   "outputs": [
    {
     "data": {
      "text/html": [
       "<div>\n",
       "<style scoped>\n",
       "    .dataframe tbody tr th:only-of-type {\n",
       "        vertical-align: middle;\n",
       "    }\n",
       "\n",
       "    .dataframe tbody tr th {\n",
       "        vertical-align: top;\n",
       "    }\n",
       "\n",
       "    .dataframe thead th {\n",
       "        text-align: right;\n",
       "    }\n",
       "</style>\n",
       "<table border=\"1\" class=\"dataframe\">\n",
       "  <thead>\n",
       "    <tr style=\"text-align: right;\">\n",
       "      <th></th>\n",
       "      <th>time</th>\n",
       "      <th>user_id</th>\n",
       "      <th>event</th>\n",
       "      <th>hotel_id</th>\n",
       "      <th>sum_usd</th>\n",
       "      <th>n_days</th>\n",
       "    </tr>\n",
       "  </thead>\n",
       "  <tbody>\n",
       "    <tr>\n",
       "      <th>0</th>\n",
       "      <td>04:34:58</td>\n",
       "      <td>288941</td>\n",
       "      <td>open_hotel</td>\n",
       "      <td>37183566</td>\n",
       "      <td>NaN</td>\n",
       "      <td>NaN</td>\n",
       "    </tr>\n",
       "    <tr>\n",
       "      <th>1</th>\n",
       "      <td>04:34:58</td>\n",
       "      <td>288941</td>\n",
       "      <td>open_hotel</td>\n",
       "      <td>37183566</td>\n",
       "      <td>NaN</td>\n",
       "      <td>NaN</td>\n",
       "    </tr>\n",
       "    <tr>\n",
       "      <th>2</th>\n",
       "      <td>04:35:29</td>\n",
       "      <td>288941</td>\n",
       "      <td>open_hotel</td>\n",
       "      <td>37183566</td>\n",
       "      <td>NaN</td>\n",
       "      <td>NaN</td>\n",
       "    </tr>\n",
       "    <tr>\n",
       "      <th>3</th>\n",
       "      <td>04:35:30</td>\n",
       "      <td>288941</td>\n",
       "      <td>open_hotel</td>\n",
       "      <td>37183566</td>\n",
       "      <td>NaN</td>\n",
       "      <td>NaN</td>\n",
       "    </tr>\n",
       "    <tr>\n",
       "      <th>4</th>\n",
       "      <td>14:05:53</td>\n",
       "      <td>234057</td>\n",
       "      <td>open_hotel</td>\n",
       "      <td>21723277</td>\n",
       "      <td>NaN</td>\n",
       "      <td>NaN</td>\n",
       "    </tr>\n",
       "  </tbody>\n",
       "</table>\n",
       "</div>"
      ],
      "text/plain": [
       "       time  user_id       event  hotel_id  sum_usd  n_days\n",
       "0  04:34:58   288941  open_hotel  37183566      NaN     NaN\n",
       "1  04:34:58   288941  open_hotel  37183566      NaN     NaN\n",
       "2  04:35:29   288941  open_hotel  37183566      NaN     NaN\n",
       "3  04:35:30   288941  open_hotel  37183566      NaN     NaN\n",
       "4  14:05:53   234057  open_hotel  21723277      NaN     NaN"
      ]
     },
     "execution_count": 3,
     "metadata": {},
     "output_type": "execute_result"
    }
   ],
   "source": [
    "df.head()"
   ]
  },
  {
   "cell_type": "code",
   "execution_count": 4,
   "id": "e51d7589-8f0f-4782-8bf1-7ee699cca3c4",
   "metadata": {},
   "outputs": [
    {
     "data": {
      "text/plain": [
       "time             0\n",
       "user_id          0\n",
       "event            0\n",
       "hotel_id         0\n",
       "sum_usd     138421\n",
       "n_days      138421\n",
       "dtype: int64"
      ]
     },
     "execution_count": 4,
     "metadata": {},
     "output_type": "execute_result"
    }
   ],
   "source": [
    "df.isna().sum()"
   ]
  },
  {
   "cell_type": "code",
   "execution_count": 5,
   "id": "425b70d3-8b30-4994-a34d-d61d6e1f9d64",
   "metadata": {},
   "outputs": [
    {
     "data": {
      "text/html": [
       "<div>\n",
       "<style scoped>\n",
       "    .dataframe tbody tr th:only-of-type {\n",
       "        vertical-align: middle;\n",
       "    }\n",
       "\n",
       "    .dataframe tbody tr th {\n",
       "        vertical-align: top;\n",
       "    }\n",
       "\n",
       "    .dataframe thead th {\n",
       "        text-align: right;\n",
       "    }\n",
       "</style>\n",
       "<table border=\"1\" class=\"dataframe\">\n",
       "  <thead>\n",
       "    <tr style=\"text-align: right;\">\n",
       "      <th></th>\n",
       "      <th>time</th>\n",
       "      <th>user_id</th>\n",
       "      <th>event</th>\n",
       "      <th>hotel_id</th>\n",
       "      <th>sum_usd</th>\n",
       "      <th>n_days</th>\n",
       "    </tr>\n",
       "  </thead>\n",
       "  <tbody>\n",
       "    <tr>\n",
       "      <th>0</th>\n",
       "      <td>04:34:58</td>\n",
       "      <td>288941</td>\n",
       "      <td>open_hotel</td>\n",
       "      <td>37183566</td>\n",
       "      <td>0.0</td>\n",
       "      <td>0.0</td>\n",
       "    </tr>\n",
       "    <tr>\n",
       "      <th>1</th>\n",
       "      <td>04:34:58</td>\n",
       "      <td>288941</td>\n",
       "      <td>open_hotel</td>\n",
       "      <td>37183566</td>\n",
       "      <td>0.0</td>\n",
       "      <td>0.0</td>\n",
       "    </tr>\n",
       "    <tr>\n",
       "      <th>2</th>\n",
       "      <td>04:35:29</td>\n",
       "      <td>288941</td>\n",
       "      <td>open_hotel</td>\n",
       "      <td>37183566</td>\n",
       "      <td>0.0</td>\n",
       "      <td>0.0</td>\n",
       "    </tr>\n",
       "    <tr>\n",
       "      <th>3</th>\n",
       "      <td>04:35:30</td>\n",
       "      <td>288941</td>\n",
       "      <td>open_hotel</td>\n",
       "      <td>37183566</td>\n",
       "      <td>0.0</td>\n",
       "      <td>0.0</td>\n",
       "    </tr>\n",
       "    <tr>\n",
       "      <th>4</th>\n",
       "      <td>14:05:53</td>\n",
       "      <td>234057</td>\n",
       "      <td>open_hotel</td>\n",
       "      <td>21723277</td>\n",
       "      <td>0.0</td>\n",
       "      <td>0.0</td>\n",
       "    </tr>\n",
       "  </tbody>\n",
       "</table>\n",
       "</div>"
      ],
      "text/plain": [
       "       time  user_id       event  hotel_id  sum_usd  n_days\n",
       "0  04:34:58   288941  open_hotel  37183566      0.0     0.0\n",
       "1  04:34:58   288941  open_hotel  37183566      0.0     0.0\n",
       "2  04:35:29   288941  open_hotel  37183566      0.0     0.0\n",
       "3  04:35:30   288941  open_hotel  37183566      0.0     0.0\n",
       "4  14:05:53   234057  open_hotel  21723277      0.0     0.0"
      ]
     },
     "execution_count": 5,
     "metadata": {},
     "output_type": "execute_result"
    }
   ],
   "source": [
    "df = df.fillna(0)\n",
    "\n",
    "df.head()"
   ]
  },
  {
   "cell_type": "code",
   "execution_count": 6,
   "id": "00f74358-b706-4719-8a61-6cb30f76dbf3",
   "metadata": {},
   "outputs": [
    {
     "data": {
      "text/plain": [
       "time        0\n",
       "user_id     0\n",
       "event       0\n",
       "hotel_id    0\n",
       "sum_usd     0\n",
       "n_days      0\n",
       "dtype: int64"
      ]
     },
     "execution_count": 6,
     "metadata": {},
     "output_type": "execute_result"
    }
   ],
   "source": [
    "df.isna().sum()"
   ]
  },
  {
   "cell_type": "markdown",
   "id": "cab88f47-d2e0-4ce3-a416-511f498528b3",
   "metadata": {},
   "source": [
    "Проверим на дубликаты"
   ]
  },
  {
   "cell_type": "code",
   "execution_count": 7,
   "id": "5454c97c-2c86-4b97-b0c3-967efc1d55a6",
   "metadata": {},
   "outputs": [
    {
     "data": {
      "text/plain": [
       "np.int64(11156)"
      ]
     },
     "execution_count": 7,
     "metadata": {},
     "output_type": "execute_result"
    }
   ],
   "source": [
    "df.duplicated().sum()"
   ]
  },
  {
   "cell_type": "markdown",
   "id": "c6838571-10fc-4842-97c1-ad04ed406103",
   "metadata": {},
   "source": [
    "Удалим дубликаты"
   ]
  },
  {
   "cell_type": "code",
   "execution_count": 8,
   "id": "38298105-35a8-4f3a-a73e-8069318b3fef",
   "metadata": {},
   "outputs": [
    {
     "data": {
      "text/html": [
       "<div>\n",
       "<style scoped>\n",
       "    .dataframe tbody tr th:only-of-type {\n",
       "        vertical-align: middle;\n",
       "    }\n",
       "\n",
       "    .dataframe tbody tr th {\n",
       "        vertical-align: top;\n",
       "    }\n",
       "\n",
       "    .dataframe thead th {\n",
       "        text-align: right;\n",
       "    }\n",
       "</style>\n",
       "<table border=\"1\" class=\"dataframe\">\n",
       "  <thead>\n",
       "    <tr style=\"text-align: right;\">\n",
       "      <th></th>\n",
       "      <th>time</th>\n",
       "      <th>user_id</th>\n",
       "      <th>event</th>\n",
       "      <th>hotel_id</th>\n",
       "      <th>sum_usd</th>\n",
       "      <th>n_days</th>\n",
       "    </tr>\n",
       "  </thead>\n",
       "  <tbody>\n",
       "    <tr>\n",
       "      <th>0</th>\n",
       "      <td>04:34:58</td>\n",
       "      <td>288941</td>\n",
       "      <td>open_hotel</td>\n",
       "      <td>37183566</td>\n",
       "      <td>0.0</td>\n",
       "      <td>0.0</td>\n",
       "    </tr>\n",
       "    <tr>\n",
       "      <th>2</th>\n",
       "      <td>04:35:29</td>\n",
       "      <td>288941</td>\n",
       "      <td>open_hotel</td>\n",
       "      <td>37183566</td>\n",
       "      <td>0.0</td>\n",
       "      <td>0.0</td>\n",
       "    </tr>\n",
       "    <tr>\n",
       "      <th>3</th>\n",
       "      <td>04:35:30</td>\n",
       "      <td>288941</td>\n",
       "      <td>open_hotel</td>\n",
       "      <td>37183566</td>\n",
       "      <td>0.0</td>\n",
       "      <td>0.0</td>\n",
       "    </tr>\n",
       "    <tr>\n",
       "      <th>4</th>\n",
       "      <td>14:05:53</td>\n",
       "      <td>234057</td>\n",
       "      <td>open_hotel</td>\n",
       "      <td>21723277</td>\n",
       "      <td>0.0</td>\n",
       "      <td>0.0</td>\n",
       "    </tr>\n",
       "    <tr>\n",
       "      <th>5</th>\n",
       "      <td>14:08:22</td>\n",
       "      <td>234057</td>\n",
       "      <td>open_hotel</td>\n",
       "      <td>22716969</td>\n",
       "      <td>0.0</td>\n",
       "      <td>0.0</td>\n",
       "    </tr>\n",
       "  </tbody>\n",
       "</table>\n",
       "</div>"
      ],
      "text/plain": [
       "       time  user_id       event  hotel_id  sum_usd  n_days\n",
       "0  04:34:58   288941  open_hotel  37183566      0.0     0.0\n",
       "2  04:35:29   288941  open_hotel  37183566      0.0     0.0\n",
       "3  04:35:30   288941  open_hotel  37183566      0.0     0.0\n",
       "4  14:05:53   234057  open_hotel  21723277      0.0     0.0\n",
       "5  14:08:22   234057  open_hotel  22716969      0.0     0.0"
      ]
     },
     "execution_count": 8,
     "metadata": {},
     "output_type": "execute_result"
    }
   ],
   "source": [
    "data = df.drop_duplicates()\n",
    "\n",
    "data.head()"
   ]
  },
  {
   "cell_type": "code",
   "execution_count": 9,
   "id": "e10e82ea-24e0-47f4-b1b5-18d292e4f58e",
   "metadata": {},
   "outputs": [
    {
     "name": "stdout",
     "output_type": "stream",
     "text": [
      "<class 'pandas.core.frame.DataFrame'>\n",
      "Index: 136657 entries, 0 to 147812\n",
      "Data columns (total 6 columns):\n",
      " #   Column    Non-Null Count   Dtype  \n",
      "---  ------    --------------   -----  \n",
      " 0   time      136657 non-null  object \n",
      " 1   user_id   136657 non-null  int64  \n",
      " 2   event     136657 non-null  object \n",
      " 3   hotel_id  136657 non-null  int64  \n",
      " 4   sum_usd   136657 non-null  float64\n",
      " 5   n_days    136657 non-null  float64\n",
      "dtypes: float64(2), int64(2), object(2)\n",
      "memory usage: 7.3+ MB\n"
     ]
    }
   ],
   "source": [
    "data.info()"
   ]
  },
  {
   "cell_type": "code",
   "execution_count": 10,
   "id": "d7c12b92-21eb-4749-84a9-cb9006e9a114",
   "metadata": {},
   "outputs": [
    {
     "data": {
      "text/html": [
       "<div>\n",
       "<style scoped>\n",
       "    .dataframe tbody tr th:only-of-type {\n",
       "        vertical-align: middle;\n",
       "    }\n",
       "\n",
       "    .dataframe tbody tr th {\n",
       "        vertical-align: top;\n",
       "    }\n",
       "\n",
       "    .dataframe thead th {\n",
       "        text-align: right;\n",
       "    }\n",
       "</style>\n",
       "<table border=\"1\" class=\"dataframe\">\n",
       "  <thead>\n",
       "    <tr style=\"text-align: right;\">\n",
       "      <th></th>\n",
       "      <th>time</th>\n",
       "      <th>user_id</th>\n",
       "      <th>event</th>\n",
       "      <th>hotel_id</th>\n",
       "      <th>sum_usd</th>\n",
       "      <th>n_days</th>\n",
       "    </tr>\n",
       "  </thead>\n",
       "  <tbody>\n",
       "    <tr>\n",
       "      <th>35</th>\n",
       "      <td>15:52:47</td>\n",
       "      <td>293626</td>\n",
       "      <td>open_compare</td>\n",
       "      <td>78606874</td>\n",
       "      <td>0.0</td>\n",
       "      <td>0.0</td>\n",
       "    </tr>\n",
       "    <tr>\n",
       "      <th>48</th>\n",
       "      <td>14:08:52</td>\n",
       "      <td>932866</td>\n",
       "      <td>open_compare</td>\n",
       "      <td>44544755</td>\n",
       "      <td>0.0</td>\n",
       "      <td>0.0</td>\n",
       "    </tr>\n",
       "    <tr>\n",
       "      <th>76</th>\n",
       "      <td>16:57:23</td>\n",
       "      <td>377323</td>\n",
       "      <td>open_compare</td>\n",
       "      <td>65459607</td>\n",
       "      <td>0.0</td>\n",
       "      <td>0.0</td>\n",
       "    </tr>\n",
       "    <tr>\n",
       "      <th>173</th>\n",
       "      <td>05:56:17</td>\n",
       "      <td>807015</td>\n",
       "      <td>open_compare</td>\n",
       "      <td>17634456</td>\n",
       "      <td>0.0</td>\n",
       "      <td>0.0</td>\n",
       "    </tr>\n",
       "    <tr>\n",
       "      <th>183</th>\n",
       "      <td>12:07:43</td>\n",
       "      <td>551742</td>\n",
       "      <td>open_compare</td>\n",
       "      <td>56585299</td>\n",
       "      <td>0.0</td>\n",
       "      <td>0.0</td>\n",
       "    </tr>\n",
       "    <tr>\n",
       "      <th>263</th>\n",
       "      <td>17:58:33</td>\n",
       "      <td>964016</td>\n",
       "      <td>open_compare</td>\n",
       "      <td>94231903</td>\n",
       "      <td>0.0</td>\n",
       "      <td>0.0</td>\n",
       "    </tr>\n",
       "    <tr>\n",
       "      <th>294</th>\n",
       "      <td>15:34:18</td>\n",
       "      <td>900718</td>\n",
       "      <td>open_compare</td>\n",
       "      <td>93036207</td>\n",
       "      <td>0.0</td>\n",
       "      <td>0.0</td>\n",
       "    </tr>\n",
       "    <tr>\n",
       "      <th>352</th>\n",
       "      <td>06:12:30</td>\n",
       "      <td>524757</td>\n",
       "      <td>open_compare</td>\n",
       "      <td>34806741</td>\n",
       "      <td>0.0</td>\n",
       "      <td>0.0</td>\n",
       "    </tr>\n",
       "    <tr>\n",
       "      <th>368</th>\n",
       "      <td>10:39:19</td>\n",
       "      <td>271703</td>\n",
       "      <td>open_compare</td>\n",
       "      <td>78571353</td>\n",
       "      <td>0.0</td>\n",
       "      <td>0.0</td>\n",
       "    </tr>\n",
       "    <tr>\n",
       "      <th>403</th>\n",
       "      <td>12:33:58</td>\n",
       "      <td>446570</td>\n",
       "      <td>open_compare</td>\n",
       "      <td>52747859</td>\n",
       "      <td>0.0</td>\n",
       "      <td>0.0</td>\n",
       "    </tr>\n",
       "  </tbody>\n",
       "</table>\n",
       "</div>"
      ],
      "text/plain": [
       "         time  user_id         event  hotel_id  sum_usd  n_days\n",
       "35   15:52:47   293626  open_compare  78606874      0.0     0.0\n",
       "48   14:08:52   932866  open_compare  44544755      0.0     0.0\n",
       "76   16:57:23   377323  open_compare  65459607      0.0     0.0\n",
       "173  05:56:17   807015  open_compare  17634456      0.0     0.0\n",
       "183  12:07:43   551742  open_compare  56585299      0.0     0.0\n",
       "263  17:58:33   964016  open_compare  94231903      0.0     0.0\n",
       "294  15:34:18   900718  open_compare  93036207      0.0     0.0\n",
       "352  06:12:30   524757  open_compare  34806741      0.0     0.0\n",
       "368  10:39:19   271703  open_compare  78571353      0.0     0.0\n",
       "403  12:33:58   446570  open_compare  52747859      0.0     0.0"
      ]
     },
     "execution_count": 10,
     "metadata": {},
     "output_type": "execute_result"
    }
   ],
   "source": [
    "data.loc[data['event'] == 'open_compare'].head(10)"
   ]
  },
  {
   "cell_type": "code",
   "execution_count": 11,
   "id": "4f0d1b7e-9a64-4fa1-b9bb-ee4b7b2f644e",
   "metadata": {},
   "outputs": [
    {
     "data": {
      "text/plain": [
       "event\n",
       "open_hotel      123673\n",
       "book              9392\n",
       "open_compare      3592\n",
       "Name: count, dtype: int64"
      ]
     },
     "execution_count": 11,
     "metadata": {},
     "output_type": "execute_result"
    }
   ],
   "source": [
    "data['event'].value_counts()"
   ]
  },
  {
   "cell_type": "code",
   "execution_count": 12,
   "id": "83690943-02ba-489c-a5b1-8fef93e2d7bd",
   "metadata": {},
   "outputs": [
    {
     "data": {
      "image/png": "[encoded data removed]",
      "text/plain": [
       "<Figure size 640x480 with 1 Axes>"
      ]
     },
     "metadata": {},
     "output_type": "display_data"
    }
   ],
   "source": [
    "data['event'].hist()\n",
    "plt.xlabel(\"Название действия\")\n",
    "plt.ylabel(\"Количество\")\n",
    "plt.title('Распределение действий пользователей')\n",
    "plt.show()"
   ]
  },
  {
   "cell_type": "markdown",
   "id": "b86ac689-d94f-491d-b1aa-f5f9486b2fe9",
   "metadata": {},
   "source": [
    "Большинство пользователей просто просматривают сайт, ничего не бронируя."
   ]
  },
  {
   "cell_type": "code",
   "execution_count": 13,
   "id": "35bfcffe-f4a0-41d0-9897-72421bebe058",
   "metadata": {},
   "outputs": [
    {
     "data": {
      "image/png": "[encoded data removed]",
      "text/plain": [
       "<Figure size 640x480 with 1 Axes>"
      ]
     },
     "metadata": {},
     "output_type": "display_data"
    }
   ],
   "source": [
    "data.loc[data['n_days']>0]['n_days'].hist(bins=15)\n",
    "plt.xlabel(\"Количество дней\")\n",
    "plt.ylabel(\"Количество\")\n",
    "plt.title('Распределение бронирований по количеству дней')\n",
    "plt.show()"
   ]
  },
  {
   "cell_type": "markdown",
   "id": "21926aa2-a119-43c7-b8fc-ed156553d3e1",
   "metadata": {},
   "source": []
  },
  {
   "cell_type": "markdown",
   "id": "12834f46-5b50-4c8c-841d-6c3d979ebb82",
   "metadata": {},
   "source": [
    "Переведем значения времени в часы."
   ]
  },
  {
   "cell_type": "code",
   "execution_count": 14,
   "id": "caea524a-93e2-4e5e-8a97-473ff6af272a",
   "metadata": {},
   "outputs": [
    {
     "name": "stderr",
     "output_type": "stream",
     "text": [
      "C:\\Users\\Shatalina-yur\\AppData\\Local\\Temp\\ipykernel_12628\\508269847.py:1: UserWarning: Could not infer format, so each element will be parsed individually, falling back to `dateutil`. To ensure parsing is consistent and as-expected, please specify a format.\n",
      "  data['hour'] = pd.to_datetime(data['time']).dt.hour\n",
      "C:\\Users\\Shatalina-yur\\AppData\\Local\\Temp\\ipykernel_12628\\508269847.py:1: SettingWithCopyWarning: \n",
      "A value is trying to be set on a copy of a slice from a DataFrame.\n",
      "Try using .loc[row_indexer,col_indexer] = value instead\n",
      "\n",
      "See the caveats in the documentation: https://pandas.pydata.org/pandas-docs/stable/user_guide/indexing.html#returning-a-view-versus-a-copy\n",
      "  data['hour'] = pd.to_datetime(data['time']).dt.hour\n"
     ]
    }
   ],
   "source": [
    "data['hour'] = pd.to_datetime(data['time']).dt.hour"
   ]
  },
  {
   "cell_type": "code",
   "execution_count": 15,
   "id": "c0f441df-07dd-470e-a4a5-e17ece527cf5",
   "metadata": {},
   "outputs": [
    {
     "data": {
      "text/html": [
       "<div>\n",
       "<style scoped>\n",
       "    .dataframe tbody tr th:only-of-type {\n",
       "        vertical-align: middle;\n",
       "    }\n",
       "\n",
       "    .dataframe tbody tr th {\n",
       "        vertical-align: top;\n",
       "    }\n",
       "\n",
       "    .dataframe thead th {\n",
       "        text-align: right;\n",
       "    }\n",
       "</style>\n",
       "<table border=\"1\" class=\"dataframe\">\n",
       "  <thead>\n",
       "    <tr style=\"text-align: right;\">\n",
       "      <th></th>\n",
       "      <th>time</th>\n",
       "      <th>user_id</th>\n",
       "      <th>event</th>\n",
       "      <th>hotel_id</th>\n",
       "      <th>sum_usd</th>\n",
       "      <th>n_days</th>\n",
       "      <th>hour</th>\n",
       "    </tr>\n",
       "  </thead>\n",
       "  <tbody>\n",
       "    <tr>\n",
       "      <th>0</th>\n",
       "      <td>04:34:58</td>\n",
       "      <td>288941</td>\n",
       "      <td>open_hotel</td>\n",
       "      <td>37183566</td>\n",
       "      <td>0.0</td>\n",
       "      <td>0.0</td>\n",
       "      <td>4</td>\n",
       "    </tr>\n",
       "    <tr>\n",
       "      <th>2</th>\n",
       "      <td>04:35:29</td>\n",
       "      <td>288941</td>\n",
       "      <td>open_hotel</td>\n",
       "      <td>37183566</td>\n",
       "      <td>0.0</td>\n",
       "      <td>0.0</td>\n",
       "      <td>4</td>\n",
       "    </tr>\n",
       "    <tr>\n",
       "      <th>3</th>\n",
       "      <td>04:35:30</td>\n",
       "      <td>288941</td>\n",
       "      <td>open_hotel</td>\n",
       "      <td>37183566</td>\n",
       "      <td>0.0</td>\n",
       "      <td>0.0</td>\n",
       "      <td>4</td>\n",
       "    </tr>\n",
       "    <tr>\n",
       "      <th>4</th>\n",
       "      <td>14:05:53</td>\n",
       "      <td>234057</td>\n",
       "      <td>open_hotel</td>\n",
       "      <td>21723277</td>\n",
       "      <td>0.0</td>\n",
       "      <td>0.0</td>\n",
       "      <td>14</td>\n",
       "    </tr>\n",
       "    <tr>\n",
       "      <th>5</th>\n",
       "      <td>14:08:22</td>\n",
       "      <td>234057</td>\n",
       "      <td>open_hotel</td>\n",
       "      <td>22716969</td>\n",
       "      <td>0.0</td>\n",
       "      <td>0.0</td>\n",
       "      <td>14</td>\n",
       "    </tr>\n",
       "  </tbody>\n",
       "</table>\n",
       "</div>"
      ],
      "text/plain": [
       "       time  user_id       event  hotel_id  sum_usd  n_days  hour\n",
       "0  04:34:58   288941  open_hotel  37183566      0.0     0.0     4\n",
       "2  04:35:29   288941  open_hotel  37183566      0.0     0.0     4\n",
       "3  04:35:30   288941  open_hotel  37183566      0.0     0.0     4\n",
       "4  14:05:53   234057  open_hotel  21723277      0.0     0.0    14\n",
       "5  14:08:22   234057  open_hotel  22716969      0.0     0.0    14"
      ]
     },
     "execution_count": 15,
     "metadata": {},
     "output_type": "execute_result"
    }
   ],
   "source": [
    "data.head()"
   ]
  },
  {
   "cell_type": "code",
   "execution_count": null,
   "id": "9da2c04d-c0c8-429a-bca3-f1c32cc0f01f",
   "metadata": {},
   "outputs": [],
   "source": []
  },
  {
   "cell_type": "code",
   "execution_count": 16,
   "id": "74ecca08-28ff-472c-be5a-d45d2b738bc4",
   "metadata": {},
   "outputs": [
    {
     "data": {
      "image/png": "[encoded data removed]",
      "text/plain": [
       "<Figure size 640x480 with 1 Axes>"
      ]
     },
     "metadata": {},
     "output_type": "display_data"
    }
   ],
   "source": [
    "data['hour'].hist(bins=24)\n",
    "plt.xlabel(\"Час суток\")\n",
    "plt.ylabel(\"Количество\")\n",
    "plt.title('Распределение всех действий пользователей по часам')\n",
    "plt.show()"
   ]
  },
  {
   "cell_type": "code",
   "execution_count": 17,
   "id": "789a7190-22a6-4ce6-aa1b-152adb0c7107",
   "metadata": {},
   "outputs": [
    {
     "data": {
      "image/png": "[encoded data removed]",
      "text/plain": [
       "<Figure size 640x480 with 1 Axes>"
      ]
     },
     "metadata": {},
     "output_type": "display_data"
    }
   ],
   "source": [
    "data.loc[data['event']=='open_compare']['hour'].hist(bins=24)\n",
    "plt.xlabel(\"Час суток\")\n",
    "plt.ylabel(\"Количество\")\n",
    "plt.title('Распределение по часам действия \"сравнивание\"')\n",
    "plt.show()"
   ]
  },
  {
   "cell_type": "code",
   "execution_count": 18,
   "id": "8fa0f8b5-4045-4a81-8f6f-f9f360a6204f",
   "metadata": {},
   "outputs": [
    {
     "data": {
      "image/png": "[encoded data removed]",
      "text/plain": [
       "<Figure size 640x480 with 1 Axes>"
      ]
     },
     "metadata": {},
     "output_type": "display_data"
    }
   ],
   "source": [
    "data.loc[data['event']=='book']['hour'].hist(bins=24)\n",
    "plt.xlabel(\"Час суток\")\n",
    "plt.ylabel(\"Количество\")\n",
    "plt.title('Распределение по часам действия \"заказ\"')\n",
    "plt.show()"
   ]
  },
  {
   "cell_type": "markdown",
   "id": "c662b96c-d66a-44a3-adb5-44f25e6a6f47",
   "metadata": {},
   "source": [
    "Нет противоречий действий пользователей по часам. Распределение одинаково по часам и для просмотров, и для сравнений отелей, и для бронирования.\n",
    "Пик приходится на утренние часы с 6 до 10 утра. Данных за 11 часов дня нет."
   ]
  },
  {
   "cell_type": "code",
   "execution_count": 19,
   "id": "a6f2aa64-0d51-4ca7-9417-c6429172d1e3",
   "metadata": {},
   "outputs": [
    {
     "data": {
      "image/png": "[encoded data removed]",
      "text/plain": [
       "<Figure size 640x480 with 1 Axes>"
      ]
     },
     "metadata": {},
     "output_type": "display_data"
    }
   ],
   "source": [
    "data.loc[data['sum_usd']>0]['sum_usd'].hist(bins=50)\n",
    "plt.xlabel(\"Cумма заказа\")\n",
    "plt.ylabel(\"Количество\")\n",
    "plt.title('Распределение цены заказов')\n",
    "plt.show()"
   ]
  },
  {
   "cell_type": "markdown",
   "id": "01d53dba-3c4d-4c48-bb41-aaa48914aead",
   "metadata": {},
   "source": [
    "Построим ящик с усами для более точного выявления средней  цены заказа."
   ]
  },
  {
   "cell_type": "code",
   "execution_count": 20,
   "id": "af9f1d73-8676-483f-bdf2-e8372fc0d677",
   "metadata": {},
   "outputs": [
    {
     "data": {
      "text/plain": [
       "(0.0, 1000.0)"
      ]
     },
     "execution_count": 20,
     "metadata": {},
     "output_type": "execute_result"
    },
    {
     "data": {
      "image/png": "[encoded data removed]",
      "text/plain": [
       "<Figure size 640x480 with 1 Axes>"
      ]
     },
     "metadata": {},
     "output_type": "display_data"
    }
   ],
   "source": [
    "plt.boxplot(x=data.loc[data['sum_usd']>0]['sum_usd'])\n",
    "plt.ylim([0,1000])"
   ]
  },
  {
   "cell_type": "markdown",
   "id": "bc47ff1e-c32e-47cb-8939-8034ecc6a2a5",
   "metadata": {},
   "source": [
    "Сродняя цена заказа 300 uds. Большинство заказов в пределах 220 - 450 usd."
   ]
  },
  {
   "cell_type": "code",
   "execution_count": 21,
   "id": "37f0e2c1-7ec8-45bb-931e-80e8ab50098d",
   "metadata": {},
   "outputs": [
    {
     "data": {
      "text/html": [
       "<div>\n",
       "<style scoped>\n",
       "    .dataframe tbody tr th:only-of-type {\n",
       "        vertical-align: middle;\n",
       "    }\n",
       "\n",
       "    .dataframe tbody tr th {\n",
       "        vertical-align: top;\n",
       "    }\n",
       "\n",
       "    .dataframe thead th {\n",
       "        text-align: right;\n",
       "    }\n",
       "</style>\n",
       "<table border=\"1\" class=\"dataframe\">\n",
       "  <thead>\n",
       "    <tr style=\"text-align: right;\">\n",
       "      <th></th>\n",
       "      <th>user_id</th>\n",
       "      <th>hotel_id</th>\n",
       "      <th>sum_usd</th>\n",
       "      <th>n_days</th>\n",
       "      <th>hour</th>\n",
       "    </tr>\n",
       "  </thead>\n",
       "  <tbody>\n",
       "    <tr>\n",
       "      <th>count</th>\n",
       "      <td>9392.000000</td>\n",
       "      <td>9.392000e+03</td>\n",
       "      <td>9392.000000</td>\n",
       "      <td>9392.000000</td>\n",
       "      <td>9392.000000</td>\n",
       "    </tr>\n",
       "    <tr>\n",
       "      <th>mean</th>\n",
       "      <td>550346.035030</td>\n",
       "      <td>5.524171e+07</td>\n",
       "      <td>368.768952</td>\n",
       "      <td>4.532368</td>\n",
       "      <td>11.089757</td>\n",
       "    </tr>\n",
       "    <tr>\n",
       "      <th>std</th>\n",
       "      <td>257289.901586</td>\n",
       "      <td>2.589431e+07</td>\n",
       "      <td>282.979469</td>\n",
       "      <td>1.689071</td>\n",
       "      <td>4.658516</td>\n",
       "    </tr>\n",
       "    <tr>\n",
       "      <th>min</th>\n",
       "      <td>100037.000000</td>\n",
       "      <td>1.000741e+07</td>\n",
       "      <td>19.000000</td>\n",
       "      <td>2.000000</td>\n",
       "      <td>0.000000</td>\n",
       "    </tr>\n",
       "    <tr>\n",
       "      <th>25%</th>\n",
       "      <td>327829.500000</td>\n",
       "      <td>3.314875e+07</td>\n",
       "      <td>227.000000</td>\n",
       "      <td>3.000000</td>\n",
       "      <td>8.000000</td>\n",
       "    </tr>\n",
       "    <tr>\n",
       "      <th>50%</th>\n",
       "      <td>551846.000000</td>\n",
       "      <td>5.482905e+07</td>\n",
       "      <td>310.000000</td>\n",
       "      <td>5.000000</td>\n",
       "      <td>11.000000</td>\n",
       "    </tr>\n",
       "    <tr>\n",
       "      <th>75%</th>\n",
       "      <td>770329.000000</td>\n",
       "      <td>7.754894e+07</td>\n",
       "      <td>428.000000</td>\n",
       "      <td>6.000000</td>\n",
       "      <td>14.000000</td>\n",
       "    </tr>\n",
       "    <tr>\n",
       "      <th>max</th>\n",
       "      <td>999879.000000</td>\n",
       "      <td>9.997988e+07</td>\n",
       "      <td>9364.000000</td>\n",
       "      <td>7.000000</td>\n",
       "      <td>22.000000</td>\n",
       "    </tr>\n",
       "  </tbody>\n",
       "</table>\n",
       "</div>"
      ],
      "text/plain": [
       "             user_id      hotel_id      sum_usd       n_days         hour\n",
       "count    9392.000000  9.392000e+03  9392.000000  9392.000000  9392.000000\n",
       "mean   550346.035030  5.524171e+07   368.768952     4.532368    11.089757\n",
       "std    257289.901586  2.589431e+07   282.979469     1.689071     4.658516\n",
       "min    100037.000000  1.000741e+07    19.000000     2.000000     0.000000\n",
       "25%    327829.500000  3.314875e+07   227.000000     3.000000     8.000000\n",
       "50%    551846.000000  5.482905e+07   310.000000     5.000000    11.000000\n",
       "75%    770329.000000  7.754894e+07   428.000000     6.000000    14.000000\n",
       "max    999879.000000  9.997988e+07  9364.000000     7.000000    22.000000"
      ]
     },
     "execution_count": 21,
     "metadata": {},
     "output_type": "execute_result"
    }
   ],
   "source": [
    "data[data['sum_usd']>0].describe()"
   ]
  },
  {
   "cell_type": "markdown",
   "id": "a815b8c1-787d-4bac-b881-601e3175a5eb",
   "metadata": {},
   "source": [
    "Рассмотрим отели по их популярности запросов."
   ]
  },
  {
   "cell_type": "code",
   "execution_count": 22,
   "id": "457cdd0e-8469-4ff0-acd0-df8ca90d326d",
   "metadata": {},
   "outputs": [
    {
     "data": {
      "text/plain": [
       "hotel_id\n",
       "35105529    159\n",
       "40278835    115\n",
       "99633920    112\n",
       "96263679    107\n",
       "15191138     98\n",
       "           ... \n",
       "77689617      1\n",
       "57546839      1\n",
       "39154944      1\n",
       "84899995      1\n",
       "49446106      1\n",
       "Name: count, Length: 68789, dtype: int64"
      ]
     },
     "execution_count": 22,
     "metadata": {},
     "output_type": "execute_result"
    }
   ],
   "source": [
    "data['hotel_id'].value_counts()"
   ]
  },
  {
   "cell_type": "code",
   "execution_count": 23,
   "id": "79d50326-ccdf-431a-a00e-6b0c67506e34",
   "metadata": {},
   "outputs": [
    {
     "data": {
      "text/plain": [
       "68789"
      ]
     },
     "execution_count": 23,
     "metadata": {},
     "output_type": "execute_result"
    }
   ],
   "source": [
    "hotels = data['hotel_id'].unique()\n",
    "len(hotels)"
   ]
  },
  {
   "cell_type": "markdown",
   "id": "0ab717e9-81f0-4a5a-91ad-675d136b3135",
   "metadata": {},
   "source": [
    "Всего рассмотрено за период 68 789 отелей, из них ТОП-5 по запросам имеют id:\n",
    "1. 35105529    \n",
    "2. 40278835    \n",
    "3. 99633920    \n",
    "4. 96263679    \n",
    "5. 15191138    "
   ]
  },
  {
   "cell_type": "markdown",
   "id": "138dff0f-b173-44c8-a33c-f097ed315269",
   "metadata": {},
   "source": [
    "Рассмотрим ТОП-5 заказываемых отелей."
   ]
  },
  {
   "cell_type": "code",
   "execution_count": 24,
   "id": "96fbb0d7-cfe5-44c8-a1f6-2a951dca66ed",
   "metadata": {},
   "outputs": [
    {
     "data": {
      "text/plain": [
       "hotel_id\n",
       "40278835    17\n",
       "99633920    16\n",
       "35105529    14\n",
       "16377861    14\n",
       "24250310    14\n",
       "            ..\n",
       "70308122     1\n",
       "38368565     1\n",
       "72279080     1\n",
       "31468597     1\n",
       "97820734     1\n",
       "Name: count, Length: 8146, dtype: int64"
      ]
     },
     "execution_count": 24,
     "metadata": {},
     "output_type": "execute_result"
    }
   ],
   "source": [
    "data[data['sum_usd']>0]['hotel_id'].value_counts()"
   ]
  },
  {
   "cell_type": "code",
   "execution_count": 25,
   "id": "5afe3b10-9d66-415a-be40-e1d0547ffcdf",
   "metadata": {},
   "outputs": [
    {
     "data": {
      "text/plain": [
       "8146"
      ]
     },
     "execution_count": 25,
     "metadata": {},
     "output_type": "execute_result"
    }
   ],
   "source": [
    "hotels_book = data[data['sum_usd']>0]['hotel_id'].unique()\n",
    "len(hotels_book)"
   ]
  },
  {
   "cell_type": "markdown",
   "id": "2df91e3f-babb-4379-a755-14f8a9defb58",
   "metadata": {},
   "source": [
    "Всего было забронированы номера в 8146 отелях. ТОП-5 самых популярных по бронированиям:\n",
    "1. 40278835\n",
    "2. 99633920    \n",
    "3. 35105529    \n",
    "4. 16377861    \n",
    "5. 24250310    "
   ]
  },
  {
   "cell_type": "code",
   "execution_count": 26,
   "id": "0f6bb48e-6f1f-4eb9-87b1-b00c3670ab1f",
   "metadata": {},
   "outputs": [
    {
     "data": {
      "text/html": [
       "<div>\n",
       "<style scoped>\n",
       "    .dataframe tbody tr th:only-of-type {\n",
       "        vertical-align: middle;\n",
       "    }\n",
       "\n",
       "    .dataframe tbody tr th {\n",
       "        vertical-align: top;\n",
       "    }\n",
       "\n",
       "    .dataframe thead th {\n",
       "        text-align: right;\n",
       "    }\n",
       "</style>\n",
       "<table border=\"1\" class=\"dataframe\">\n",
       "  <thead>\n",
       "    <tr style=\"text-align: right;\">\n",
       "      <th></th>\n",
       "      <th>time</th>\n",
       "      <th>user_id</th>\n",
       "      <th>event</th>\n",
       "      <th>hotel_id</th>\n",
       "      <th>sum_usd</th>\n",
       "      <th>n_days</th>\n",
       "      <th>hour</th>\n",
       "    </tr>\n",
       "  </thead>\n",
       "  <tbody>\n",
       "    <tr>\n",
       "      <th>0</th>\n",
       "      <td>04:34:58</td>\n",
       "      <td>288941</td>\n",
       "      <td>open_hotel</td>\n",
       "      <td>37183566</td>\n",
       "      <td>0.0</td>\n",
       "      <td>0.0</td>\n",
       "      <td>4</td>\n",
       "    </tr>\n",
       "    <tr>\n",
       "      <th>2</th>\n",
       "      <td>04:35:29</td>\n",
       "      <td>288941</td>\n",
       "      <td>open_hotel</td>\n",
       "      <td>37183566</td>\n",
       "      <td>0.0</td>\n",
       "      <td>0.0</td>\n",
       "      <td>4</td>\n",
       "    </tr>\n",
       "    <tr>\n",
       "      <th>3</th>\n",
       "      <td>04:35:30</td>\n",
       "      <td>288941</td>\n",
       "      <td>open_hotel</td>\n",
       "      <td>37183566</td>\n",
       "      <td>0.0</td>\n",
       "      <td>0.0</td>\n",
       "      <td>4</td>\n",
       "    </tr>\n",
       "    <tr>\n",
       "      <th>4</th>\n",
       "      <td>14:05:53</td>\n",
       "      <td>234057</td>\n",
       "      <td>open_hotel</td>\n",
       "      <td>21723277</td>\n",
       "      <td>0.0</td>\n",
       "      <td>0.0</td>\n",
       "      <td>14</td>\n",
       "    </tr>\n",
       "    <tr>\n",
       "      <th>5</th>\n",
       "      <td>14:08:22</td>\n",
       "      <td>234057</td>\n",
       "      <td>open_hotel</td>\n",
       "      <td>22716969</td>\n",
       "      <td>0.0</td>\n",
       "      <td>0.0</td>\n",
       "      <td>14</td>\n",
       "    </tr>\n",
       "  </tbody>\n",
       "</table>\n",
       "</div>"
      ],
      "text/plain": [
       "       time  user_id       event  hotel_id  sum_usd  n_days  hour\n",
       "0  04:34:58   288941  open_hotel  37183566      0.0     0.0     4\n",
       "2  04:35:29   288941  open_hotel  37183566      0.0     0.0     4\n",
       "3  04:35:30   288941  open_hotel  37183566      0.0     0.0     4\n",
       "4  14:05:53   234057  open_hotel  21723277      0.0     0.0    14\n",
       "5  14:08:22   234057  open_hotel  22716969      0.0     0.0    14"
      ]
     },
     "execution_count": 26,
     "metadata": {},
     "output_type": "execute_result"
    }
   ],
   "source": [
    "data.head()"
   ]
  },
  {
   "cell_type": "markdown",
   "id": "3596856c-aa7a-4528-a522-7895c9e049fd",
   "metadata": {},
   "source": [
    "Удалим столбец time"
   ]
  },
  {
   "cell_type": "code",
   "execution_count": 27,
   "id": "ab06f164-c48e-432a-84c7-275b80d8c017",
   "metadata": {},
   "outputs": [],
   "source": [
    "ds = data.drop(['time'], axis=1)"
   ]
  },
  {
   "cell_type": "markdown",
   "id": "ad42c8ae-6211-4d80-930c-5e0952ddd2aa",
   "metadata": {},
   "source": [
    "Переведем статус действий пользователей в числовые параметры."
   ]
  },
  {
   "cell_type": "code",
   "execution_count": 28,
   "id": "4e43d787-c7ae-42fc-8738-3cbdc76e2e6a",
   "metadata": {},
   "outputs": [],
   "source": [
    "ds['event_open_hotel'] =0\n",
    "ds['event_book'] =0\n",
    "ds['event_open_compare'] =0"
   ]
  },
  {
   "cell_type": "code",
   "execution_count": 29,
   "id": "0c1324e8-19fe-474b-98d2-7bc449b69271",
   "metadata": {},
   "outputs": [],
   "source": [
    "ds.loc[ds['event'] == 'book', 'event_book'] = 1"
   ]
  },
  {
   "cell_type": "code",
   "execution_count": 30,
   "id": "e378c4a2-2ea2-470e-8295-0cc5dfc93f7d",
   "metadata": {},
   "outputs": [],
   "source": [
    "ds.loc[ds['event'] == 'open_compare', 'event_open_compare'] = 1"
   ]
  },
  {
   "cell_type": "code",
   "execution_count": 31,
   "id": "56059a79-c359-4f71-afbf-438bfb00b040",
   "metadata": {},
   "outputs": [],
   "source": [
    "ds.loc[ds['event'] == 'open_hotel', 'event_open_hotel'] = 1"
   ]
  },
  {
   "cell_type": "markdown",
   "id": "0311d930-f1d1-40dd-97de-84035289af95",
   "metadata": {},
   "source": [
    "Удалим стобец 'event', построим матрицу корреляции"
   ]
  },
  {
   "cell_type": "code",
   "execution_count": 32,
   "id": "11739bc0-03b8-43f2-abdd-5eb56817ee19",
   "metadata": {},
   "outputs": [],
   "source": [
    "ds = ds.drop(['event'], axis=1)"
   ]
  },
  {
   "cell_type": "code",
   "execution_count": 33,
   "id": "b39149c6-3d55-4c60-9d03-f64dfa625d02",
   "metadata": {},
   "outputs": [
    {
     "data": {
      "text/html": [
       "<div>\n",
       "<style scoped>\n",
       "    .dataframe tbody tr th:only-of-type {\n",
       "        vertical-align: middle;\n",
       "    }\n",
       "\n",
       "    .dataframe tbody tr th {\n",
       "        vertical-align: top;\n",
       "    }\n",
       "\n",
       "    .dataframe thead th {\n",
       "        text-align: right;\n",
       "    }\n",
       "</style>\n",
       "<table border=\"1\" class=\"dataframe\">\n",
       "  <thead>\n",
       "    <tr style=\"text-align: right;\">\n",
       "      <th></th>\n",
       "      <th>user_id</th>\n",
       "      <th>hotel_id</th>\n",
       "      <th>sum_usd</th>\n",
       "      <th>n_days</th>\n",
       "      <th>hour</th>\n",
       "      <th>event_open_hotel</th>\n",
       "      <th>event_book</th>\n",
       "      <th>event_open_compare</th>\n",
       "    </tr>\n",
       "  </thead>\n",
       "  <tbody>\n",
       "    <tr>\n",
       "      <th>0</th>\n",
       "      <td>288941</td>\n",
       "      <td>37183566</td>\n",
       "      <td>0.0</td>\n",
       "      <td>0.0</td>\n",
       "      <td>4</td>\n",
       "      <td>1</td>\n",
       "      <td>0</td>\n",
       "      <td>0</td>\n",
       "    </tr>\n",
       "    <tr>\n",
       "      <th>2</th>\n",
       "      <td>288941</td>\n",
       "      <td>37183566</td>\n",
       "      <td>0.0</td>\n",
       "      <td>0.0</td>\n",
       "      <td>4</td>\n",
       "      <td>1</td>\n",
       "      <td>0</td>\n",
       "      <td>0</td>\n",
       "    </tr>\n",
       "    <tr>\n",
       "      <th>3</th>\n",
       "      <td>288941</td>\n",
       "      <td>37183566</td>\n",
       "      <td>0.0</td>\n",
       "      <td>0.0</td>\n",
       "      <td>4</td>\n",
       "      <td>1</td>\n",
       "      <td>0</td>\n",
       "      <td>0</td>\n",
       "    </tr>\n",
       "    <tr>\n",
       "      <th>4</th>\n",
       "      <td>234057</td>\n",
       "      <td>21723277</td>\n",
       "      <td>0.0</td>\n",
       "      <td>0.0</td>\n",
       "      <td>14</td>\n",
       "      <td>1</td>\n",
       "      <td>0</td>\n",
       "      <td>0</td>\n",
       "    </tr>\n",
       "    <tr>\n",
       "      <th>5</th>\n",
       "      <td>234057</td>\n",
       "      <td>22716969</td>\n",
       "      <td>0.0</td>\n",
       "      <td>0.0</td>\n",
       "      <td>14</td>\n",
       "      <td>1</td>\n",
       "      <td>0</td>\n",
       "      <td>0</td>\n",
       "    </tr>\n",
       "  </tbody>\n",
       "</table>\n",
       "</div>"
      ],
      "text/plain": [
       "   user_id  hotel_id  sum_usd  n_days  hour  event_open_hotel  event_book  \\\n",
       "0   288941  37183566      0.0     0.0     4                 1           0   \n",
       "2   288941  37183566      0.0     0.0     4                 1           0   \n",
       "3   288941  37183566      0.0     0.0     4                 1           0   \n",
       "4   234057  21723277      0.0     0.0    14                 1           0   \n",
       "5   234057  22716969      0.0     0.0    14                 1           0   \n",
       "\n",
       "   event_open_compare  \n",
       "0                   0  \n",
       "2                   0  \n",
       "3                   0  \n",
       "4                   0  \n",
       "5                   0  "
      ]
     },
     "execution_count": 33,
     "metadata": {},
     "output_type": "execute_result"
    }
   ],
   "source": [
    "ds.head()"
   ]
  },
  {
   "cell_type": "code",
   "execution_count": 34,
   "id": "acfa4678-4105-4cc4-8dc5-5203ab62fd71",
   "metadata": {},
   "outputs": [
    {
     "data": {
      "text/plain": [
       "<Axes: >"
      ]
     },
     "execution_count": 34,
     "metadata": {},
     "output_type": "execute_result"
    },
    {
     "data": {
      "image/png": "[encoded data removed]",
      "text/plain": [
       "<Figure size 640x480 with 2 Axes>"
      ]
     },
     "metadata": {},
     "output_type": "display_data"
    }
   ],
   "source": [
    "sb.heatmap(ds.corr(), cmap=\"Blues\", annot=True)"
   ]
  },
  {
   "cell_type": "markdown",
   "id": "e8db0a98-05a2-431a-89cb-e690e2143468",
   "metadata": {},
   "source": [
    "Никаких особенных корреляций нет, кроме влияния числа дней на цену заказа и действия заказать с числом дней и суммой заказа - что логично.\n",
    "Выделим уникальные id пользователей, которые пользовались функцией сравнения и уникальные id пользователей, которые сделали заказ на сайте. сравним значения. "
   ]
  },
  {
   "cell_type": "code",
   "execution_count": 35,
   "id": "a85723de-01ce-48e0-ba97-6756189b09e0",
   "metadata": {},
   "outputs": [],
   "source": [
    "users_compare = ds[ds['event_open_compare']>0]['user_id'].unique()"
   ]
  },
  {
   "cell_type": "code",
   "execution_count": 36,
   "id": "55c87d54-593e-47af-89bc-e9a73aabb265",
   "metadata": {},
   "outputs": [
    {
     "data": {
      "text/plain": [
       "array([293626, 932866, 377323, ..., 293605, 421292, 196486])"
      ]
     },
     "execution_count": 36,
     "metadata": {},
     "output_type": "execute_result"
    }
   ],
   "source": [
    "users_compare"
   ]
  },
  {
   "cell_type": "code",
   "execution_count": 37,
   "id": "be48bc6b-698c-4a0f-aed8-7c591ee18b43",
   "metadata": {},
   "outputs": [
    {
     "data": {
      "text/plain": [
       "3592"
      ]
     },
     "execution_count": 37,
     "metadata": {},
     "output_type": "execute_result"
    }
   ],
   "source": [
    "len(users_compare)"
   ]
  },
  {
   "cell_type": "code",
   "execution_count": 38,
   "id": "4f5fa2d5-a59d-4ab3-bf29-c0aa988be9c3",
   "metadata": {},
   "outputs": [],
   "source": [
    "users_book = ds[ds['event_book']>0]['user_id'].unique()"
   ]
  },
  {
   "cell_type": "code",
   "execution_count": 39,
   "id": "00d6d5fa-0c86-4447-9c2e-f9cc222f1898",
   "metadata": {},
   "outputs": [
    {
     "data": {
      "text/plain": [
       "9392"
      ]
     },
     "execution_count": 39,
     "metadata": {},
     "output_type": "execute_result"
    }
   ],
   "source": [
    "len(users_book)"
   ]
  },
  {
   "cell_type": "code",
   "execution_count": 40,
   "id": "c3bbdf2c-6bbf-4bbe-9584-f07d923de3cf",
   "metadata": {},
   "outputs": [
    {
     "data": {
      "text/plain": [
       "2856"
      ]
     },
     "execution_count": 40,
     "metadata": {},
     "output_type": "execute_result"
    }
   ],
   "source": [
    "len(list(set(users_compare) & set(users_book)))"
   ]
  },
  {
   "cell_type": "markdown",
   "id": "3a6e6bd0-b88e-4d95-9906-d390cd9e96a8",
   "metadata": {},
   "source": [
    "Получается, что почти треть пользователей, совершивших заказ на сайте, пользовалась услугой сравнения."
   ]
  },
  {
   "cell_type": "code",
   "execution_count": 41,
   "id": "32f65a5d-a087-4b3f-b720-0f3ac5c065af",
   "metadata": {},
   "outputs": [],
   "source": [
    "users_bc = list(set(users_compare) & set(users_book))"
   ]
  },
  {
   "cell_type": "code",
   "execution_count": 42,
   "id": "b9dc6fae-e64d-4883-ade1-8c1f24e21671",
   "metadata": {},
   "outputs": [
    {
     "data": {
      "image/png": "[encoded data removed]",
      "text/plain": [
       "<Figure size 640x480 with 1 Axes>"
      ]
     },
     "metadata": {},
     "output_type": "display_data"
    }
   ],
   "source": [
    "data.loc[(data['user_id'].isin(users_bc))&(data['sum_usd']>0)]['sum_usd'].hist(bins=50)\n",
    "plt.xlabel(\"Cумма заказа\")\n",
    "plt.ylabel(\"Количество\")\n",
    "plt.title('Распределение цены заказов для пользователей, которые воспользовались функцией сравнения')\n",
    "plt.show()"
   ]
  },
  {
   "cell_type": "code",
   "execution_count": 43,
   "id": "32a6e4d4-ef24-4120-8c79-ad5a3e6b3a3a",
   "metadata": {},
   "outputs": [
    {
     "data": {
      "text/plain": [
       "(0.0, 1000.0)"
      ]
     },
     "execution_count": 43,
     "metadata": {},
     "output_type": "execute_result"
    },
    {
     "data": {
      "image/png": "[encoded data removed]",
      "text/plain": [
       "<Figure size 640x480 with 1 Axes>"
      ]
     },
     "metadata": {},
     "output_type": "display_data"
    }
   ],
   "source": [
    "plt.boxplot(x=data.loc[(data['user_id'].isin(users_bc))&(data['sum_usd']>0)]['sum_usd'])\n",
    "plt.ylim([0,1000])"
   ]
  },
  {
   "cell_type": "markdown",
   "id": "3f8f954b-8cf6-4aba-9841-dc7332aee724",
   "metadata": {},
   "source": [
    "Судя по значениям цены - нет разницы в средних значениях, пользовался ли пользователь услугой сравнения или нет."
   ]
  },
  {
   "cell_type": "markdown",
   "id": "05de5448-3106-48bc-82c9-b509a5679cf1",
   "metadata": {},
   "source": [
    "Посмотрим, какие отели чаще всего попадали в сравнение."
   ]
  },
  {
   "cell_type": "code",
   "execution_count": 44,
   "id": "56946d0b-05bf-48c7-a940-5e013ec435c5",
   "metadata": {},
   "outputs": [
    {
     "data": {
      "text/plain": [
       "hotel_id\n",
       "39836137    6\n",
       "89156381    5\n",
       "20768506    5\n",
       "84336775    5\n",
       "44565455    5\n",
       "           ..\n",
       "80361969    1\n",
       "85955014    1\n",
       "11084869    1\n",
       "75052929    1\n",
       "75386129    1\n",
       "Name: count, Length: 2359, dtype: int64"
      ]
     },
     "execution_count": 44,
     "metadata": {},
     "output_type": "execute_result"
    }
   ],
   "source": [
    "ds[ds['event_open_compare']>0]['hotel_id'].value_counts()"
   ]
  },
  {
   "cell_type": "markdown",
   "id": "dc7868e3-bbce-4e13-81fd-dd876301a8d7",
   "metadata": {},
   "source": [
    "Нет существенного влияния функции сравнения с какими-то определенными отелями."
   ]
  },
  {
   "cell_type": "markdown",
   "id": "a5dc806a-f677-43e1-aa75-492810a753c9",
   "metadata": {},
   "source": [
    "Рассмотрим ТОП-10 самых заказываемых отелей и посмотрим, как на их заказы повлияло количество сравнений."
   ]
  },
  {
   "cell_type": "code",
   "execution_count": 45,
   "id": "6e35ffcf-9d98-4664-8d0d-cfb151c50f4e",
   "metadata": {},
   "outputs": [
    {
     "data": {
      "text/plain": [
       "Index([40278835, 99633920, 35105529, 16377861, 24250310, 20996139, 33148746,\n",
       "       51872044, 36162861, 62880142],\n",
       "      dtype='int64', name='hotel_id')"
      ]
     },
     "execution_count": 45,
     "metadata": {},
     "output_type": "execute_result"
    }
   ],
   "source": [
    "top_hotels_book = data[data['sum_usd']>0]['hotel_id'].value_counts()\n",
    "top_hotels_book = top_hotels_book[:10]\n",
    "top_hotels_book = top_hotels_book.index\n",
    "top_hotels_book "
   ]
  },
  {
   "cell_type": "code",
   "execution_count": 46,
   "id": "c4624272-4262-45cb-a478-1c6485469782",
   "metadata": {},
   "outputs": [],
   "source": [
    "data_hotels_book = ds.loc[(ds['hotel_id'].isin(top_hotels_book))&(ds['event_book']>0)].sort_values(by=['hotel_id'])\n",
    "\n",
    "data_hotels_book = data_hotels_book.groupby(['hotel_id'])['event_book'].agg(['count'])\n"
   ]
  },
  {
   "cell_type": "code",
   "execution_count": 47,
   "id": "e9440872-d195-484d-83d6-507a5900da33",
   "metadata": {},
   "outputs": [
    {
     "data": {
      "text/html": [
       "<div>\n",
       "<style scoped>\n",
       "    .dataframe tbody tr th:only-of-type {\n",
       "        vertical-align: middle;\n",
       "    }\n",
       "\n",
       "    .dataframe tbody tr th {\n",
       "        vertical-align: top;\n",
       "    }\n",
       "\n",
       "    .dataframe thead th {\n",
       "        text-align: right;\n",
       "    }\n",
       "</style>\n",
       "<table border=\"1\" class=\"dataframe\">\n",
       "  <thead>\n",
       "    <tr style=\"text-align: right;\">\n",
       "      <th></th>\n",
       "      <th>count</th>\n",
       "    </tr>\n",
       "    <tr>\n",
       "      <th>hotel_id</th>\n",
       "      <th></th>\n",
       "    </tr>\n",
       "  </thead>\n",
       "  <tbody>\n",
       "    <tr>\n",
       "      <th>40278835</th>\n",
       "      <td>17</td>\n",
       "    </tr>\n",
       "    <tr>\n",
       "      <th>99633920</th>\n",
       "      <td>16</td>\n",
       "    </tr>\n",
       "    <tr>\n",
       "      <th>24250310</th>\n",
       "      <td>14</td>\n",
       "    </tr>\n",
       "    <tr>\n",
       "      <th>16377861</th>\n",
       "      <td>14</td>\n",
       "    </tr>\n",
       "    <tr>\n",
       "      <th>35105529</th>\n",
       "      <td>14</td>\n",
       "    </tr>\n",
       "    <tr>\n",
       "      <th>20996139</th>\n",
       "      <td>13</td>\n",
       "    </tr>\n",
       "    <tr>\n",
       "      <th>33148746</th>\n",
       "      <td>12</td>\n",
       "    </tr>\n",
       "    <tr>\n",
       "      <th>36162861</th>\n",
       "      <td>9</td>\n",
       "    </tr>\n",
       "    <tr>\n",
       "      <th>51872044</th>\n",
       "      <td>9</td>\n",
       "    </tr>\n",
       "    <tr>\n",
       "      <th>62880142</th>\n",
       "      <td>9</td>\n",
       "    </tr>\n",
       "  </tbody>\n",
       "</table>\n",
       "</div>"
      ],
      "text/plain": [
       "          count\n",
       "hotel_id       \n",
       "40278835     17\n",
       "99633920     16\n",
       "24250310     14\n",
       "16377861     14\n",
       "35105529     14\n",
       "20996139     13\n",
       "33148746     12\n",
       "36162861      9\n",
       "51872044      9\n",
       "62880142      9"
      ]
     },
     "execution_count": 47,
     "metadata": {},
     "output_type": "execute_result"
    }
   ],
   "source": [
    "data_hotels_book = data_hotels_book.sort_values(by=['count'], ascending=False)\n",
    "data_hotels_book"
   ]
  },
  {
   "cell_type": "code",
   "execution_count": 48,
   "id": "9974f2fe-d40d-4e4b-beb3-a7c1487cf3ec",
   "metadata": {},
   "outputs": [
    {
     "data": {
      "text/html": [
       "<div>\n",
       "<style scoped>\n",
       "    .dataframe tbody tr th:only-of-type {\n",
       "        vertical-align: middle;\n",
       "    }\n",
       "\n",
       "    .dataframe tbody tr th {\n",
       "        vertical-align: top;\n",
       "    }\n",
       "\n",
       "    .dataframe thead th {\n",
       "        text-align: right;\n",
       "    }\n",
       "</style>\n",
       "<table border=\"1\" class=\"dataframe\">\n",
       "  <thead>\n",
       "    <tr style=\"text-align: right;\">\n",
       "      <th></th>\n",
       "      <th>user_id</th>\n",
       "      <th>hotel_id</th>\n",
       "      <th>sum_usd</th>\n",
       "      <th>n_days</th>\n",
       "      <th>hour</th>\n",
       "      <th>event_open_hotel</th>\n",
       "      <th>event_book</th>\n",
       "      <th>event_open_compare</th>\n",
       "    </tr>\n",
       "  </thead>\n",
       "  <tbody>\n",
       "  </tbody>\n",
       "</table>\n",
       "</div>"
      ],
      "text/plain": [
       "Empty DataFrame\n",
       "Columns: [user_id, hotel_id, sum_usd, n_days, hour, event_open_hotel, event_book, event_open_compare]\n",
       "Index: []"
      ]
     },
     "execution_count": 48,
     "metadata": {},
     "output_type": "execute_result"
    }
   ],
   "source": [
    "data_hotels_compare = ds.loc[(ds['hotel_id'].isin(top_hotels_book))&(ds['event_open_compare']>0)].sort_values(by=['hotel_id'])\n",
    "data_hotels_compare"
   ]
  },
  {
   "cell_type": "markdown",
   "id": "7676dbcb-5453-4616-b905-a748632bbccf",
   "metadata": {},
   "source": [
    "Пересечений нет. Получается, что фича помогает менее популярным отелям найти клиентов."
   ]
  },
  {
   "cell_type": "markdown",
   "id": "26892d6e-1e09-4eba-b9bc-599cac589a08",
   "metadata": {},
   "source": [
    "### Вывод"
   ]
  },
  {
   "cell_type": "markdown",
   "id": "c825b5cd-7fdf-4433-806c-afbeb15ec255",
   "metadata": {},
   "source": [
    "- Дана таблица данных  на 147 813 строк\n",
    "  \n",
    "- Столбцы:\n",
    "  - time - время заказа только часы, минуты и секунды\n",
    "  - user_id - id пользователя\n",
    "  - event - событие (open_hotel - просмотр отеля, book - бронирование отеля, open_compare - сравнивание отелей)\n",
    "  - hotel_id -  id  отеля\n",
    "  - sum_usd - сумму заказа\n",
    "  - n_days - количество дней бронирования\n",
    "    \n",
    "- Удалили дубликаты в количестве 11156 строк\n",
    "  \n",
    "- Были пропуски значений в столбцах sum_usd и n_days - там, где бронирования отеля не было. Заполнили пропуски значений нулями.\n",
    "  \n",
    "-  Соотношение количества действий пользователей:\n",
    "\n",
    "   open_hotel      123673  \n",
    "   book              9392  \n",
    "   open_compare      3592  \n",
    "\n",
    "Получилось, что большая часть действий просмотр вариантов отелей.\n",
    "\n",
    "- По часам нет данных за 11 часов дня.\n",
    "- Распределение действий пользователей по часам (просмотры/сравнение отелей/бронирования) имеет одинаковую кривую. Пик действий приходится на утренние часы с 6 до 10 утра.\n",
    "\n",
    "- Среднее число заказа дней - 4,5\n",
    "  \n",
    "- Средняя сумма заказа в usd 358\n",
    "  \n",
    "- Корреляции между данными особенных нет - есть корреляция суммы заказа с числом дней\n",
    "  \n",
    "- Нашли пересечение уникальных id пользователей, которые сделали заказ и пользовались услугой сравнения. Их оказалось 2856, что составляет 30% от всех заказов. Это значит, что пользователи пользуются новой фичей и ее можно развивать.\n",
    "  \n",
    "- Сравнение среднего чека заказа всех заказов и заказов, которые были сделаны с помощью сравнения отелей, не выявили значимой разницы. Фича не увеличивает чек, но возможно увеличивает число заказов в целом за счет предоставления большего выбора пользователям.\n",
    "\n",
    "- Всего рассмотрено за период 68 789 отелей, из них ТОП-5 по просмотрам имеют id:\n",
    "1. 35105529    \n",
    "2. 40278835    \n",
    "3. 99633920    \n",
    "4. 96263679    \n",
    "5. 15191138\n",
    "\n",
    "- Всего за период были забронированы номера в 8146 отелях. ТОП-5 самых популярных по бронированиям имеют id:\n",
    "1. 40278835\n",
    "2. 99633920    \n",
    "3. 35105529    \n",
    "4. 16377861    \n",
    "5. 24250310\n",
    "\n",
    "- Согласно анализу новая функция помогает не самым популярным отелям получать бронирования, при этом на популярные отели функция не влияет.\n",
    "  \n",
    "- Функция не выделяет какие-то особенные отели для рекомендаций\n",
    "\n"
   ]
  },
  {
   "cell_type": "markdown",
   "id": "605b2aa4-5674-4b47-84a9-2bb6d9329dec",
   "metadata": {},
   "source": [
    "### Итог\n",
    "\n",
    "Новая функция помогает менее популярным отелям получать новые заказы. Функцией пользуется 30% пользователей, оформляющих заказ. Можно сделать вывод, что функция популярна и приносит пользу для нишевых отелей. Для опеределения точного прогноза по функции необходимо определиться с метрикой \"полезности\" для сервиса."
   ]
  },
  {
   "cell_type": "code",
   "execution_count": null,
   "id": "43cce5a7-5c4a-49a4-9107-3ae9a8b7c11e",
   "metadata": {},
   "outputs": [],
   "source": []
  }
 ],
 "metadata": {
  "kernelspec": {
   "display_name": "Python 3 (ipykernel)",
   "language": "python",
   "name": "python3"
  },
  "language_info": {
   "codemirror_mode": {
    "name": "ipython",
    "version": 3
   },
   "file_extension": ".py",
   "mimetype": "text/x-python",
   "name": "python",
   "nbconvert_exporter": "python",
   "pygments_lexer": "ipython3",
   "version": "3.12.5"
  }
 },
 "nbformat": 4,
 "nbformat_minor": 5
}
